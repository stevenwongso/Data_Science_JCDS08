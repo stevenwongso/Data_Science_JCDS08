{
 "cells": [
  {
   "cell_type": "code",
   "execution_count": 3,
   "metadata": {},
   "outputs": [],
   "source": [
    "import pandas as pd\n",
    "import numpy as np\n",
    "import matplotlib.pyplot as plt\n",
    "import folium"
   ]
  },
  {
   "cell_type": "markdown",
   "metadata": {},
   "source": [
    "### Folium\n",
    "\n",
    "Map : OpenStreetMap (OSM)"
   ]
  },
  {
   "cell_type": "markdown",
   "metadata": {},
   "source": [
    "Contoh :\n",
    "taman impian jaya ancol\n",
    "@-6.1294097,106.8332326,15z"
   ]
  },
  {
   "cell_type": "code",
   "execution_count": 50,
   "metadata": {},
   "outputs": [
    {
     "data": {
      "text/html": [
       "<div style=\"width:100%;\"><div style=\"position:relative;width:100%;height:0;padding-bottom:60%;\"><iframe src=\"about:blank\" style=\"position:absolute;width:100%;height:100%;left:0;top:0;border:none !important;\" data-html=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 onload=\"this.contentDocument.open();this.contentDocument.write(atob(this.getAttribute('data-html')));this.contentDocument.close();\" allowfullscreen webkitallowfullscreen mozallowfullscreen></iframe></div></div>"
      ],
      "text/plain": [
       "<folium.folium.Map at 0x2219e49dc40>"
      ]
     },
     "execution_count": 50,
     "metadata": {},
     "output_type": "execute_result"
    }
   ],
   "source": [
    "peta = folium.Map(\n",
    "    location = [-6.1294097, 106.8332326],\n",
    "    tiles = 'OpenStreetMap',\n",
    "    zoom_start = 14\n",
    ")\n",
    "\n",
    "folium.Marker(\n",
    "    [-6.1294097, 106.8332326],\n",
    "#     popup = 'Ini Popup',\n",
    "    popup = '<img width=\"50px\" src= \"https://i.pinimg.com/originals/24/e4/8b/24e48bd5315311e2daf7a576bd66aa4a.png\">',\n",
    "#     tooltip = 'Ini Tooltip'\n",
    "    tooltip = '<i> Lokasi Seraphimon </i>',\n",
    "    icon = folium.Icon(color = 'red')\n",
    ").add_to(peta)\n",
    "\n",
    "folium.Marker(\n",
    "    [-6.1234080, 106.8232330],\n",
    "    popup = '<img width=\"50px\" src = \"https://vignette.wikia.nocookie.net/omniversal-battlefield/images/e/e2/Ophanimon_tri_render_by_ladyheinstein_dcxsjyl-pre.png/revision/latest/scale-to-width-down/340?cb=20190514031304\">',\n",
    "    tooltip = 'Lokasi Ophanimon',\n",
    "    icon = folium.Icon(color = 'purple')\n",
    ").add_to(peta)\n",
    "\n",
    "peta.add_child(folium.LatLngPopup())\n",
    "\n",
    "folium.Circle (\n",
    "    [-6.1234080, 106.8232330],\n",
    "    radius = 200,\n",
    "    color = 'red',\n",
    "    fill = True,\n",
    "    fill_color = 'blue',\n",
    "    popup = 'circle area'\n",
    "    \n",
    ").add_to(peta)\n",
    "\n",
    "\n",
    "peta.save('peta.html')\n",
    "peta"
   ]
  },
  {
   "cell_type": "code",
   "execution_count": null,
   "metadata": {},
   "outputs": [],
   "source": []
  }
 ],
 "metadata": {
  "kernelspec": {
   "display_name": "Python 3",
   "language": "python",
   "name": "python3"
  },
  "language_info": {
   "codemirror_mode": {
    "name": "ipython",
    "version": 3
   },
   "file_extension": ".py",
   "mimetype": "text/x-python",
   "name": "python",
   "nbconvert_exporter": "python",
   "pygments_lexer": "ipython3",
   "version": "3.8.1"
  }
 },
 "nbformat": 4,
 "nbformat_minor": 4
}
