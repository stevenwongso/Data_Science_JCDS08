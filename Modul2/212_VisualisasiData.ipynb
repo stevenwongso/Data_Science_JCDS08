{
 "cells": [
  {
   "cell_type": "markdown",
   "metadata": {},
   "source": [
    "### Visualisasi Data ###"
   ]
  },
  {
   "cell_type": "markdown",
   "metadata": {},
   "source": [
    "_Example_ : Mr. X ingin mengetahui berapa massa (kg) Gajah Sumatera. Mr. X melakukan riset terhadap 30 ekor Gajah Sumatera"
   ]
  },
  {
   "cell_type": "markdown",
   "metadata": {},
   "source": [
    "- __Population__:  Semua species Gajah Sumatera\n",
    "- __Sample__: 30 ekor Gajah Sumatera\n",
    "- __Parameter__ : karakteristik yang dicari dari populasi (rata - rata massa semua species gajah sumater), notasi biasanya : $\\alpha$, $\\sigma$, $\\theta$\n",
    "- __Statistic__ : karakteristik yang dicari dari sample (rata - rata massa 30 ekor gajah sumatera), notasi biasanya :  $\\bar(x)$, $s$, etc\n",
    "- __Variable__ : massa dari seekor Gajah Sumatera (target)\n",
    "- __Data__ : aktual massa seekor Gajah = 3000 kg\n"
   ]
  },
  {
   "cell_type": "markdown",
   "metadata": {},
   "source": [
    "- __Frequency__ : seberapa sering suatu data terjadi\n",
    "    - __Relative Freq__: proporsi freq / total\n",
    "    - __Cummulative Rel Freq__ : jumlah relative freq"
   ]
  },
  {
   "cell_type": "markdown",
   "metadata": {},
   "source": [
    "[1,2,2,2]\n",
    "\n",
    "__Frequency Table___\n",
    "\n",
    "value|freq|relative freq|cummulative rel freq\n",
    "---|---|---|---\n",
    "1|1|$\\displaystyle \\frac {1} {4} = 0.25$|0.25\n",
    "2|3|$\\displaystyle \\frac {3} {4} = 0.75$|0.25 + 0.75 = 1.0"
   ]
  },
  {
   "cell_type": "markdown",
   "metadata": {},
   "source": [
    "<hr>\n",
    "\n",
    "### Dari mana data berasal?"
   ]
  },
  {
   "cell_type": "markdown",
   "metadata": {},
   "source": [
    "- __Measurements__:\n",
    "    - __Nominal__ : categories, warna kulit, gender, Yes/No\n",
    "    - __Ordinal__ : order/ranking : top 5 \n",
    "    - __Interval__: Jarak antar data memiliki arti\n",
    "    - __Ratio__ : 0 = tidak ada (nilai ujian, jumlah anak)"
   ]
  },
  {
   "cell_type": "markdown",
   "metadata": {},
   "source": [
    "- __Sampling__: how we collect data, represent whole data\n",
    "    - __Random Sampling__ : \n",
    "        - Simple Random Sampling :\n",
    "        - Stratified Random Sampling : random sampling terhadap stratified data ( data => grouping) </br>\n",
    "                Strata goldar kampus A = A, B, O, AB \n",
    "                kampus A : 20 % A, 30% B, 40% O, 10% AB\n",
    "                sample 200 : 40 A + 60 B + 80 0 + 20 AB\n",
    "                real life : polling\n",
    "        - Cluster Random Sampling : random sampling terhadap cluster data (data => grouping beberapa group)\n",
    "        - Systematic Random Sampling : sampling data secara random dengan aturan contoh pengambilan data dengan id kelipatan 5 </br>\n",
    "    - __Not Random Sampling__ :\n",
    "       - Convenience Sampling\n",
    "       - Judgement Sampling\n",
    "       - Quota Sampling"
   ]
  },
  {
   "cell_type": "markdown",
   "metadata": {},
   "source": [
    "- __Qualitative__ : Berupa kategori/klasifikasi\n",
    "- __Quantitative__ : Dapat diukur/dihitung\n",
    "    - Discrete : countable  = number of cars, children\n",
    "    - Continous : measured = tinggi badan, jarak, durasi"
   ]
  },
  {
   "cell_type": "markdown",
   "metadata": {},
   "source": [
    "<hr>\n",
    "\n",
    "### Summarize Data ###\n",
    "\n",
    "1. Numerically\n",
    "2. Visually"
   ]
  },
  {
   "cell_type": "markdown",
   "metadata": {},
   "source": [
    "#### Numerically => __Measure of Center__ & __Spread Out/Distribution__\n",
    "   1a.  __Measure of Center__: \n",
    "  - __Mean__ : Average of population $\\mu$, Average of Sample $\\bar {x}$\n",
    "      - Without freq :\n",
    "  $$ \\displaystyle \\bar {x} = \\frac {\\sum{x}} {n} $$\n",
    "      - With freq :\n",
    "  $$ \\displaystyle \\bar {x} = \\frac {\\sum{xf}} {n} $$\n"
   ]
  },
  {
   "cell_type": "markdown",
   "metadata": {},
   "source": [
    "_Example_ : Sample = __1,3,3,4,4,4,5,5__  mean ?\n",
    " $$ \\displaystyle \\bar {x} = \\frac {\\sum{x}} {n} = \\frac {1+3+3+4+4+4+5+5}{8} = \\frac {29} {8}  = 3.625 $$\n",
    " \n",
    " $$ \\displaystyle \\bar {x} = \\frac {\\sum{xf}} {n} = \\frac {{1 \\cdot 1} + {3 \\cdot 2} + {4 \\cdot 3} +{5 \\cdot 2}}{8} = \\frac {29} {8}  = 3.625 $$"
   ]
  },
  {
   "cell_type": "markdown",
   "metadata": {},
   "source": [
    "  - __Median__ / $Q_2$: Nilai tengah, Sort => ambil nilai tengah\n",
    "  \n",
    "  - __Modus__ : Nilai dengan frekuensi tertinggi"
   ]
  },
  {
   "cell_type": "markdown",
   "metadata": {},
   "source": [
    "1b.  __Spread Out/Distribution__:\n",
    "\n",
    "__5, 5, 5, 5, 5, 5, 5__ mean = 5, median = 5, no spread\n",
    "\n",
    "__1, 1, 1, 5, 9, 9, 9__ mean = 5, median = 5, weigthed on both side\n",
    "\n",
    "__1, 2, 4, 5, 6, 8, 9__ mean = 5, median = 5, spread out\n",
    "\n",
    "   - __Range__ : jangkauan = max val - min val\n",
    "   - __IQR (Interquartile Range)__ : $Q_3 - Q_1$\n",
    "   - __Standard Deviation__ : Jarak rata-rata dari setiap data dengan mean  $\\sigma$ sample $s$.\n",
    "   $$\\displaystyle s = \\sqrt{\\frac {\\sum{(x - \\bar{x})}^2}{n-1}} $$"
   ]
  },
  {
   "cell_type": "code",
   "execution_count": 8,
   "metadata": {},
   "outputs": [
    {
     "name": "stdout",
     "output_type": "stream",
     "text": [
      "1.4142135623730951\n",
      "1.4142135623730951\n"
     ]
    }
   ],
   "source": [
    "import numpy as np\n",
    "import pandas as pd\n",
    "\n",
    "x=[11,13,14,14]\n",
    "print(np.std(x,ddof=1)) # default numpy ddof = 0 pada standarnya ddof = 1\n",
    "\n",
    "x=pd.Series(x)\n",
    "print(x.std())"
   ]
  },
  {
   "cell_type": "markdown",
   "metadata": {},
   "source": [
    "- __Z-score__ / __Number of std__ : seberapa jauh suatu point data dari mean, diukur menggunakan satuan std\n",
    "\n",
    "$$ \\displaystyle z = \\frac {x-\\bar{x}} {s}$$\n",
    "$$ \\displaystyle x = \\bar{x} + zs $$"
   ]
  },
  {
   "cell_type": "markdown",
   "metadata": {},
   "source": [
    "_Example_: __1,3,3,4,4,4,5,5__ seberapa jauh (std unit) elemen 0 dari mean?\n",
    "   \n",
    "   mean = 29/8 = 3.625, std = 1,3\n",
    "   \n",
    "   $\\displaystyle z = \\frac {x-\\bar{x}} {s} = \\frac {1 - 3.625} {1.3} $ = __- 1.788__"
   ]
  },
  {
   "cell_type": "markdown",
   "metadata": {},
   "source": [
    "z > 2.5 / z < -2.5 => outlier\n",
    "\n",
    "range outlier pada soal contoh diatas\n",
    "\n",
    "$ \\displaystyle x_{upper} = \\bar{x} + zs = 3.625 + (2.5 \\cdot 1.3) $ = __6.875__\n",
    "\n",
    "$ \\displaystyle x_{lower} = \\bar{x} + zs = 3.625 + (-2.5 \\cdot 1.3) $ = __0.375__"
   ]
  },
  {
   "cell_type": "markdown",
   "metadata": {},
   "source": [
    "- __Outliers__ \n",
    "            \n",
    "   1. __IQR Method__ \n",
    "        - low outlier = values < $ Q_{1} - 1.5 \\cdot $ __IQR__\n",
    "        - high outlier = values > $ Q_{3} - 1.5 \\cdot $ __IQR__\n",
    "        \n",
    "        _Example_ : -20,2,3,4,6,7,14\n",
    "        \n",
    "        Q1 = 2 ; Q3 = 7 ; IQR = 5\n",
    "        \n",
    "        low outlier = 2 - 1.5(5) = __-5.5__\n",
    "        \n",
    "        high outlier = 7 + 1.5(5) = __14.5__\n",
    "        \n",
    "        outlier = __-20__\n",
    "   \n",
    "   2. __Z-score/ Number of STDs__\n",
    "       - low outlier =  $x_{lower} = \\bar{x} + (-2.5s) = 2.4  + (-2.5 \\cdot 10.6) $ = - 24.1\n",
    "       - High outlier =  $x_{lower} = \\bar{x} + (2.5s) = 2.4  + (2.5 \\cdot 10.6 ) $ = 29"
   ]
  },
  {
   "cell_type": "code",
   "execution_count": 12,
   "metadata": {},
   "outputs": [
    {
     "name": "stdout",
     "output_type": "stream",
     "text": [
      "10.627905765125176\n",
      "2.4285714285714284\n",
      "10.627905765125176\n"
     ]
    }
   ],
   "source": [
    "import numpy as np\n",
    "import pandas as pd\n",
    "\n",
    "x=[-20,2,3,5,6,7,14]\n",
    "print(np.std(x,ddof=1)) # default numpy ddof = 0 pada standarnya ddof = 1\n",
    "print(np.mean(x))\n",
    "\n",
    "x=pd.Series(x)\n",
    "print(x.std())"
   ]
  },
  {
   "cell_type": "code",
   "execution_count": null,
   "metadata": {},
   "outputs": [],
   "source": []
  }
 ],
 "metadata": {
  "kernelspec": {
   "display_name": "Python 3",
   "language": "python",
   "name": "python3"
  },
  "language_info": {
   "codemirror_mode": {
    "name": "ipython",
    "version": 3
   },
   "file_extension": ".py",
   "mimetype": "text/x-python",
   "name": "python",
   "nbconvert_exporter": "python",
   "pygments_lexer": "ipython3",
   "version": "3.8.1"
  }
 },
 "nbformat": 4,
 "nbformat_minor": 4
}
