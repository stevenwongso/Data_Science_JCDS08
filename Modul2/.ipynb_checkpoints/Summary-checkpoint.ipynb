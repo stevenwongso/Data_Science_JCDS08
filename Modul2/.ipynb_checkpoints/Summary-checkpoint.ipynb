{
 "cells": [
  {
   "cell_type": "markdown",
   "metadata": {},
   "source": [
    "# Summary"
   ]
  },
  {
   "cell_type": "markdown",
   "metadata": {},
   "source": [
    "<hr>\n",
    "\n",
    "### Database\n",
    "\n",
    "Database (RDBMS / SQL & Non-RDBMS / Non-SQL)\n",
    "- RDBMS (Relational Database Management System) = relation antar table dlm database\n",
    "- SQL (Structured Query Language) = query-query (database statement) \"select * from x;\"\n",
    "- Non-RDBMS = tdk ada relation antar table dlm database\n",
    "- Non-SQL = tdk ada table yg terstruktur\n",
    "  \n",
    "Contoh:\n",
    "- RDBMS / SQL : Oracle, MySQL, Microsoft SQL Server, PostgreSQL, ...\n",
    "- Non-RDBMS / Non-SQL : MongoDB, CouchDB, FaunaDB, ElasticSearch, Firebase Realtime DB, Firestore, ..."
   ]
  },
  {
   "cell_type": "markdown",
   "metadata": {},
   "source": [
    "<hr>\n",
    "\n",
    "### MySQL\n",
    "\n",
    "- Initial server MySQL\n",
    "- Create database, create table, data transaction\n",
    "- Join: inner, outer, left, right\n",
    "- Python connect to MySQL database: mysql-connector, pymysql, pandas read_sql"
   ]
  },
  {
   "cell_type": "markdown",
   "metadata": {},
   "source": [
    "<hr>\n",
    "\n",
    "### MongoDB\n",
    "    \n",
    "- initialize server MongoDB\n",
    "- create database, create collection, data transaction\n",
    "- Python connect to MongoDB: pymongo"
   ]
  },
  {
   "cell_type": "markdown",
   "metadata": {},
   "source": [
    "<hr>\n",
    "\n",
    "### Numpy\n",
    "\n",
    "- Operasi number, including matrices operations\n",
    "- Array, dimensi, shape"
   ]
  },
  {
   "cell_type": "markdown",
   "metadata": {},
   "source": [
    "<hr>\n",
    "\n",
    "### Pandas\n",
    "\n",
    "- Data analytics (numeric)\n",
    "- Series, DataFrame\n",
    "- Access file: read_csv, read_json, read_sql, ..."
   ]
  },
  {
   "cell_type": "markdown",
   "metadata": {},
   "source": [
    "<hr>\n",
    "\n",
    "### Data visualization\n",
    "\n",
    "- Matplotlib\n",
    "- Seaborn: heatmap\n",
    "- Word Cloud\n",
    "- Plotly (web based)\n",
    "- Folium (maps, web based)"
   ]
  },
  {
   "cell_type": "markdown",
   "metadata": {},
   "source": [
    "<hr>\n",
    "\n",
    "### Basic Statistics\n",
    "\n",
    "- Population\n",
    "- Parameter: rata-rata usia populasi $\\mu$\n",
    "- Sample\n",
    "- Statistics: rata-rata usia sampel $\\bar{x}$\n",
    "- Variable: yang ditanyakan? = berapa usia tiap orang?\n",
    "- Data: actual usia seseorang\n",
    "- Frequency, Table Frequency, Relative Freq, Cummulative Relative Freq\n",
    "\n",
    "usia|freq|rel freq|cumm rel freq\n",
    "---|---|---|---\n",
    "21|3|0.3|0.3\n",
    "22|7|0.7|1.0"
   ]
  },
  {
   "cell_type": "markdown",
   "metadata": {},
   "source": [
    "<hr>\n",
    "\n",
    "### Data & Sampling\n",
    "\n",
    "- Level of measurements:\n",
    "    - Nominal: categorical (warna, Yes/No, gender, suku, dll)\n",
    "    - Ordinal: ranking, order (Klasemen LaLiga) = bisa diurutkan, jarak tidak diperhitungkan\n",
    "    - Interval: jarak sangat penting\n",
    "        Klasemen Laliga\n",
    "        Rank|Club|Points\n",
    "        ---|---|---\n",
    "        1|FC Barcelona|120\n",
    "        2|Real Madrid|89\n",
    "        3|Atletico Madrid|88\n",
    "    - Ratio: 0 artinya tidak ada = jumlah saudara, test score"
   ]
  },
  {
   "cell_type": "markdown",
   "metadata": {},
   "source": [
    "- Sampling: get \"sample\" yang merepresentasikan \"populasi\"\n",
    "    - Random: simple, stratified, systematic, multistage: kombinasi\n",
    "    - Non-random: convenience (mudah, dekat), voluntary (hanya yg bersedia)\n",
    "\n",
    "\n",
    "- Census: survey ke setiap elemen populasi\n",
    "    Problem:\n",
    "    - Makan waktu, tenaga, resource\n",
    "    - Non-Response respondents: responden tidak mau/menolak ikut survey, tapi bisa dihubungi\n",
    "    - Under Coverage respondents: responden sulit dihubungi => lokasi jauh, tidak ada sarana komunikasi"
   ]
  },
  {
   "cell_type": "markdown",
   "metadata": {},
   "source": [
    "- Data\n",
    "    - Qualitative: categorical\n",
    "    - Quantitative: numbers => measured / counted\n",
    "        - Continuous: angka hasil ukur (measured) => tinggi badan, suhu (allow decimal)\n",
    "        - Discrete: angka hasil hitung (counted) => jumlah mobil, jumlah saudara (int)"
   ]
  },
  {
   "cell_type": "markdown",
   "metadata": {},
   "source": [
    "<hr>\n",
    "\n",
    "### Get summary? "
   ]
  },
  {
   "cell_type": "markdown",
   "metadata": {},
   "source": [
    "#### 1. Center / central tendency\n",
    "\n",
    "- Mean (avg, rata2, balance point)\n",
    "- Median (nilai tengah, Q2, 50%, 50th percentile, middle point)\n",
    "- Mode"
   ]
  },
  {
   "cell_type": "markdown",
   "metadata": {},
   "source": [
    "#### 2. Spread\n",
    "\n",
    "- Range = max value - min value\n",
    "- IQR (Inter quartile range) = Q3 - Q1\n",
    "- Standard deviasi $\\sigma$ / $s$ = avg distance data point ke mean = -2 & 2\n",
    "- Variance $\\sigma^2$ / $s^2$ = std pangkat 2 = menghindari negatif value = 4 & 4\n",
    "- Z-Score (standardisasi) = seberapa jauh suatu data point dari mean, dihitung dg satuan std\n",
    "    1. menentukan jarak dr mean dg satuan std\n",
    "    2. membentuk \"standard normal distribution\" dr bentuk distribusi lain\n",
    "    3. untuk menentukan outliers"
   ]
  },
  {
   "cell_type": "markdown",
   "metadata": {},
   "source": [
    "$$s = \\sqrt {\\frac {\\sum{(x - \\bar{x})^2}} {n - 1}}$$\n",
    "\n",
    "degree of freedom di numpy default ddof = 0\n",
    "\n",
    "$$s = \\sqrt {\\frac {\\sum{(x - \\bar{x})^2}} {n}}$$"
   ]
  },
  {
   "cell_type": "raw",
   "metadata": {},
   "source": [
    "    data = [1,2,3,4,5,6,7,8,9,10]\n",
    "    mean = 5.5\n",
    "    s = 3.0276503540974917\n",
    "    berapa jarak data ke-2 dari mean?\n",
    "    z = (x - mean)/s = (2 - 5.5) / 3.02765 = -1.15601...\n",
    "    \"jarak angka 2 dari mean = sejauh 1.15601 di bawah mean.\"\n",
    "    \n",
    "    outliers => high (z > mean + 2s) & low (z < mean - 2s)\n",
    "    mean + 2s = 5.5 + 6 = 11.5\n",
    "    mean - 2s = 5.5 - 6 = -0.5"
   ]
  },
  {
   "cell_type": "code",
   "execution_count": 16,
   "metadata": {},
   "outputs": [
    {
     "data": {
      "text/plain": [
       "3.0276503540974917"
      ]
     },
     "execution_count": 16,
     "metadata": {},
     "output_type": "execute_result"
    }
   ],
   "source": [
    "import numpy as np\n",
    "np.std(np.arange(1, 11), ddof=1)"
   ]
  },
  {
   "cell_type": "code",
   "execution_count": 14,
   "metadata": {},
   "outputs": [
    {
     "data": {
      "text/plain": [
       "3.0276503540974917"
      ]
     },
     "execution_count": 14,
     "metadata": {},
     "output_type": "execute_result"
    }
   ],
   "source": [
    "import pandas as pd\n",
    "s = pd.Series(np.arange(1,11))\n",
    "s.std()"
   ]
  },
  {
   "cell_type": "markdown",
   "metadata": {},
   "source": [
    "### Outliers\n",
    "\n",
    "1. Z-Score => \n",
    "    - high outliers value > mean + 2s \n",
    "    - low outliers value < mean - 2s\n",
    "2. IQR => \n",
    "    - high outliers value > Q3 + 1.5 IQR\n",
    "    - low outliers value < Q1 - 1.5 IQR"
   ]
  },
  {
   "cell_type": "raw",
   "metadata": {},
   "source": [
    "data suhu Jkt = [37, 35, 34, 40, 2, 38, 37]\n",
    "2, 34, 35, 37, 37, 38, 40\n",
    "Q1 = 34, Q2 = 37, Q3 = 38, IQR = Q3 - Q1 = 38 - 34 = 4\n",
    "\n",
    "high out = Q3 + 1.5 * IQR = 38 + 1.5 * 4 = 42\n",
    "low out = Q1 - 1.5 * IQR = 34 - 1.5 * 4 = 28"
   ]
  },
  {
   "cell_type": "code",
   "execution_count": 30,
   "metadata": {},
   "outputs": [
    {
     "name": "stdout",
     "output_type": "stream",
     "text": [
      "31.857142857142858\n",
      "36.833333333333336\n",
      "37.0\n",
      "37.0\n",
      "38\n",
      "6\n"
     ]
    }
   ],
   "source": [
    "# Apa efek outlier jika tidak diperhatikan?\n",
    "data = np.array([37, 35, 34, 40, 2, 38, 37])\n",
    "data2 = np.array(list(filter(lambda x: x > 28 and x < 42, data)))\n",
    "\n",
    "print(data.mean())\n",
    "print(data2.mean())\n",
    "print(np.median(data))\n",
    "print(np.median(data2))\n",
    "print(data.max() - data.min())\n",
    "print(data2.max() - data2.min())\n",
    "\n",
    "# Outlier mempengaruhi mean, range, std, spread ...\n",
    "# Outlier tidak begitu mempengaruhi median & modus"
   ]
  },
  {
   "cell_type": "markdown",
   "metadata": {},
   "source": [
    "### Spread dari sisi visual\n",
    "\n",
    "- BoxPlot\n",
    "- Histogram"
   ]
  },
  {
   "cell_type": "code",
   "execution_count": 31,
   "metadata": {},
   "outputs": [],
   "source": [
    "import numpy as np\n",
    "import pandas as pd\n",
    "import matplotlib.pyplot as plt"
   ]
  },
  {
   "cell_type": "code",
   "execution_count": 34,
   "metadata": {},
   "outputs": [
    {
     "data": {
      "text/html": [
       "<div>\n",
       "<style scoped>\n",
       "    .dataframe tbody tr th:only-of-type {\n",
       "        vertical-align: middle;\n",
       "    }\n",
       "\n",
       "    .dataframe tbody tr th {\n",
       "        vertical-align: top;\n",
       "    }\n",
       "\n",
       "    .dataframe thead th {\n",
       "        text-align: right;\n",
       "    }\n",
       "</style>\n",
       "<table border=\"1\" class=\"dataframe\">\n",
       "  <thead>\n",
       "    <tr style=\"text-align: right;\">\n",
       "      <th></th>\n",
       "      <th>Name</th>\n",
       "      <th>Age</th>\n",
       "      <th>Overall</th>\n",
       "    </tr>\n",
       "  </thead>\n",
       "  <tbody>\n",
       "    <tr>\n",
       "      <th>0</th>\n",
       "      <td>L. Messi</td>\n",
       "      <td>31</td>\n",
       "      <td>94</td>\n",
       "    </tr>\n",
       "    <tr>\n",
       "      <th>1</th>\n",
       "      <td>Cristiano Ronaldo</td>\n",
       "      <td>33</td>\n",
       "      <td>94</td>\n",
       "    </tr>\n",
       "    <tr>\n",
       "      <th>2</th>\n",
       "      <td>Neymar Jr</td>\n",
       "      <td>26</td>\n",
       "      <td>92</td>\n",
       "    </tr>\n",
       "    <tr>\n",
       "      <th>3</th>\n",
       "      <td>De Gea</td>\n",
       "      <td>27</td>\n",
       "      <td>91</td>\n",
       "    </tr>\n",
       "    <tr>\n",
       "      <th>4</th>\n",
       "      <td>K. De Bruyne</td>\n",
       "      <td>27</td>\n",
       "      <td>91</td>\n",
       "    </tr>\n",
       "  </tbody>\n",
       "</table>\n",
       "</div>"
      ],
      "text/plain": [
       "                Name  Age  Overall\n",
       "0           L. Messi   31       94\n",
       "1  Cristiano Ronaldo   33       94\n",
       "2          Neymar Jr   26       92\n",
       "3             De Gea   27       91\n",
       "4       K. De Bruyne   27       91"
      ]
     },
     "execution_count": 34,
     "metadata": {},
     "output_type": "execute_result"
    }
   ],
   "source": [
    "df = pd.read_csv('data.csv')\n",
    "df = df[['Name', 'Age', 'Overall']]\n",
    "df.head()\n",
    "# range, iqr, std, var, outliers"
   ]
  },
  {
   "cell_type": "code",
   "execution_count": 37,
   "metadata": {},
   "outputs": [
    {
     "name": "stdout",
     "output_type": "stream",
     "text": [
      "[1 2 3 4 5 6 7 8 9]\n",
      "3.0\n",
      "5.0\n",
      "7.0\n"
     ]
    }
   ],
   "source": [
    "# Boxplot: plot 5 number summary = min, Q1, Q2, Q3, max\n",
    "\n",
    "# percentile\n",
    "# percentile ke-25 = Q1: 25% data ada di bawah percentile ke-25 / Q1\n",
    "# percentile ke-50 = Q2: 50% data ada di bawah percentile ke-50 / Q2\n",
    "# percentile ke-75 = Q3: 75% data ada di bawah percentile ke-75 / Q3\n",
    "\n",
    "x = np.arange(1,10)\n",
    "print(x)\n",
    "print(np.percentile(x, 25))\n",
    "print(np.percentile(x, 50))\n",
    "print(np.percentile(x, 75))"
   ]
  },
  {
   "cell_type": "code",
   "execution_count": 49,
   "metadata": {},
   "outputs": [
    {
     "data": {
      "image/png": "[encoded data removed]",
      "text/plain": [
       "<Figure size 432x288 with 1 Axes>"
      ]
     },
     "metadata": {
      "needs_background": "light"
     },
     "output_type": "display_data"
    }
   ],
   "source": [
    "fig, axis = plt.subplots()\n",
    "axis.boxplot([df['Age'], df['Overall']], vert=True)\n",
    "plt.show()"
   ]
  },
  {
   "cell_type": "code",
   "execution_count": 56,
   "metadata": {},
   "outputs": [
    {
     "name": "stdout",
     "output_type": "stream",
     "text": [
      "16 45\n"
     ]
    },
    {
     "data": {
      "image/png": "[encoded data removed]",
      "text/plain": [
       "<Figure size 432x288 with 1 Axes>"
      ]
     },
     "metadata": {
      "needs_background": "light"
     },
     "output_type": "display_data"
    }
   ],
   "source": [
    "# histogram\n",
    "min = df['Age'].min()\n",
    "max = df['Age'].max()\n",
    "print(min, max)\n",
    "\n",
    "bins = np.linspace(15.5, 45.5, 29)\n",
    "plt.hist(df['Age'], bins)\n",
    "plt.show()"
   ]
  },
  {
   "cell_type": "code",
   "execution_count": 61,
   "metadata": {},
   "outputs": [
    {
     "data": {
      "image/png": "[encoded data removed]",
      "text/plain": [
       "<Figure size 432x288 with 1 Axes>"
      ]
     },
     "metadata": {
      "needs_background": "light"
     },
     "output_type": "display_data"
    }
   ],
   "source": [
    "# density curve: kurva di atas x = 0, luas area under curve (AUC) = 1 atau 100%\n",
    "bins = np.linspace(15.5, 45.5, 29)\n",
    "x = plt.hist(df['Age'], bins, density=True)\n",
    "plt.plot(x[1][1:] - .5, x[0], 'r-')\n",
    "plt.show()"
   ]
  },
  {
   "cell_type": "code",
   "execution_count": 71,
   "metadata": {},
   "outputs": [
    {
     "data": {
      "image/png": "[encoded data removed]",
      "text/plain": [
       "<Figure size 432x288 with 1 Axes>"
      ]
     },
     "metadata": {
      "needs_background": "light"
     },
     "output_type": "display_data"
    }
   ],
   "source": [
    "x = np.random.randn(1000000)\n",
    "rangebins = (x.max() - x.min()) / 100\n",
    "min = x.min() - (0.5 * x.min())\n",
    "max = x.max() + (0.5 * x.max())\n",
    "bins = np.arange(min, max, rangebins)\n",
    "plt.hist(x, bins)\n",
    "plt.xlim(-4, 4)\n",
    "plt.show()"
   ]
  },
  {
   "cell_type": "code",
   "execution_count": 72,
   "metadata": {},
   "outputs": [],
   "source": [
    "# z-score: dpt mengubah distribusi mjd normal z = x-mean / s\n",
    "# age distandardisasi => z-score => standard normal dist\n",
    "\n",
    "# normal dist => histogram berbentuk bukit symmetris (bell curve)\n",
    "# std normal dist => mean ~ 0 & std ~ 1\n",
    "\n",
    "df['Z-Age'] = (df['Age'] - df['Age'].mean()) / df['Age'].std(ddof=1)"
   ]
  },
  {
   "cell_type": "code",
   "execution_count": 77,
   "metadata": {},
   "outputs": [
    {
     "data": {
      "text/plain": [
       "1.0"
      ]
     },
     "execution_count": 77,
     "metadata": {},
     "output_type": "execute_result"
    }
   ],
   "source": [
    "df['Z-Age'].mean() # mendekati 0\n",
    "df['Z-Age'].std(ddof=1)"
   ]
  },
  {
   "cell_type": "code",
   "execution_count": 86,
   "metadata": {},
   "outputs": [
    {
     "data": {
      "image/png": "[encoded data removed]",
      "text/plain": [
       "<Figure size 432x288 with 1 Axes>"
      ]
     },
     "metadata": {
      "needs_background": "light"
     },
     "output_type": "display_data"
    }
   ],
   "source": [
    "# density curve: kurva di atas x = 0, luas area under curve (AUC) = 1 atau 100%\n",
    "min = df['Z-Age'].min()\n",
    "max = df['Z-Age'].max()\n",
    "# bins = np.linspace(min - 0.1, max + 0.1, 5)\n",
    "x = plt.hist(df['Z-Age'], density=True)\n",
    "plt.plot(x[1][1:] - .3, x[0], 'r-')\n",
    "plt.xlim(-4, 4)\n",
    "plt.show()"
   ]
  },
  {
   "cell_type": "markdown",
   "metadata": {},
   "source": [
    "### Normal dist = The 68-95-99.7 rule"
   ]
  },
  {
   "cell_type": "markdown",
   "metadata": {},
   "source": [
    "<hr>\n",
    "\n",
    "- Probability\n",
    "- Covariance = mengukur hubungan 2 feature = arahnya = - / +  (df.cov())\n",
    "- Correlation = mengukur korelasi 2 features (number) arah & kuatnya = -1 ~ 1 (df.corr())"
   ]
  },
  {
   "cell_type": "code",
   "execution_count": 89,
   "metadata": {},
   "outputs": [
    {
     "name": "stdout",
     "output_type": "stream",
     "text": [
      "             Age  Overall\n",
      "Age      1.00000  0.45235\n",
      "Overall  0.45235  1.00000\n",
      "               Age    Overall\n",
      "Age      21.808365  14.594743\n",
      "Overall  14.594743  47.733308\n"
     ]
    }
   ],
   "source": [
    "print(df[['Age', 'Overall']].corr()) # positif 0.4 = arah positif, kuat 0.4\n",
    "print(df[['Age', 'Overall']].cov())  # positif 14,5 = arah positif"
   ]
  },
  {
   "cell_type": "markdown",
   "metadata": {},
   "source": [
    "$$\\textrm{cov}(x, y) = \\frac {\\sum (x - \\bar{x}) (y - \\bar{y})} {n - 1}$$"
   ]
  },
  {
   "cell_type": "code",
   "execution_count": null,
   "metadata": {},
   "outputs": [],
   "source": []
  }
 ],
 "metadata": {
  "kernelspec": {
   "display_name": "Python 3.8.1 32-bit",
   "language": "python",
   "name": "python38132bit17e97fd0e138494882eb6a23af8acc7d"
  },
  "language_info": {
   "codemirror_mode": {
    "name": "ipython",
    "version": 3
   },
   "file_extension": ".py",
   "mimetype": "text/x-python",
   "name": "python",
   "nbconvert_exporter": "python",
   "pygments_lexer": "ipython3",
   "version": "3.8.1"
  }
 },
 "nbformat": 4,
 "nbformat_minor": 4
}
