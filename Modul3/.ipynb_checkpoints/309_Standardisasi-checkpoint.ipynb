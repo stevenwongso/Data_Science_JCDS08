{
 "cells": [
  {
   "cell_type": "markdown",
   "metadata": {},
   "source": [
    "# Feature Scaling\n",
    "\n",
    "Tujuan:\n",
    "- Memudahkan perhitungan\n",
    "- Memudahkan dalam membandingkan feature yang berbeda satuan\n",
    "- Memudahkan dalam membandingkan feature yang valuenya selisih jauh\n",
    "- Merubah sebaran/distribusi data"
   ]
  },
  {
   "cell_type": "code",
   "execution_count": 1,
   "metadata": {},
   "outputs": [],
   "source": [
    "import numpy as np\n",
    "import pandas as pd\n",
    "import matplotlib.pyplot as plt"
   ]
  },
  {
   "cell_type": "markdown",
   "metadata": {},
   "source": [
    "<hr> \n",
    "\n",
    "### __A. Standardization__\n",
    "\n",
    "- Rata-rata jarak data point terhadap mean dalam satuan standard deviasi.\n",
    "\n",
    "- Standardisasi $\\displaystyle z_{score} = \\frac {x - \\bar{x}} {s}$ di mana $\\displaystyle s = \\sqrt {\\frac {\\sum (x - \\bar{x})^2} {n - \\textrm{ddof}}}$\n",
    "\n",
    "- ```ddof``` degree of freedom: pandas = 1 (sample), numpy = 0 (populasi), sklearn = 0 (populasi).\n",
    "\n",
    "- Data terstandardisasi memilik mean ~ 0 dan standard deviasi ~ 1.\n",
    "\n",
    "- Standardisasi tidak merubah sebaran data."
   ]
  },
  {
   "cell_type": "code",
   "execution_count": 2,
   "metadata": {},
   "outputs": [],
   "source": [
    "df = pd.DataFrame({\n",
    "    'TB': [1.72, 1.81, 1.93, 1.67, 1.85, 1.66, 1.59, 1.76, 1.88, 1.78],\n",
    "    'BB': [76, 65, 87, 55, 60, 78, 98, 77, 74, 64]\n",
    "})"
   ]
  },
  {
   "cell_type": "code",
   "execution_count": 4,
   "metadata": {},
   "outputs": [
    {
     "data": {
      "text/html": [
       "<div>\n",
       "<style scoped>\n",
       "    .dataframe tbody tr th:only-of-type {\n",
       "        vertical-align: middle;\n",
       "    }\n",
       "\n",
       "    .dataframe tbody tr th {\n",
       "        vertical-align: top;\n",
       "    }\n",
       "\n",
       "    .dataframe thead th {\n",
       "        text-align: right;\n",
       "    }\n",
       "</style>\n",
       "<table border=\"1\" class=\"dataframe\">\n",
       "  <thead>\n",
       "    <tr style=\"text-align: right;\">\n",
       "      <th></th>\n",
       "      <th>TB</th>\n",
       "      <th>BB</th>\n",
       "    </tr>\n",
       "  </thead>\n",
       "  <tbody>\n",
       "    <tr>\n",
       "      <th>0</th>\n",
       "      <td>1.72</td>\n",
       "      <td>76</td>\n",
       "    </tr>\n",
       "    <tr>\n",
       "      <th>1</th>\n",
       "      <td>1.81</td>\n",
       "      <td>65</td>\n",
       "    </tr>\n",
       "    <tr>\n",
       "      <th>2</th>\n",
       "      <td>1.93</td>\n",
       "      <td>87</td>\n",
       "    </tr>\n",
       "  </tbody>\n",
       "</table>\n",
       "</div>"
      ],
      "text/plain": [
       "     TB  BB\n",
       "0  1.72  76\n",
       "1  1.81  65\n",
       "2  1.93  87"
      ]
     },
     "execution_count": 4,
     "metadata": {},
     "output_type": "execute_result"
    }
   ],
   "source": [
    "df.head(3)"
   ]
  },
  {
   "cell_type": "code",
   "execution_count": 7,
   "metadata": {},
   "outputs": [
    {
     "data": {
      "text/plain": [
       "(1.765, 0.10679679562400528, 0.10131633629380801)"
      ]
     },
     "execution_count": 7,
     "metadata": {},
     "output_type": "execute_result"
    }
   ],
   "source": [
    "TBmean = df['TB'].mean()\n",
    "TBstd1 = df['TB'].std()           # pandas ddof = 1\n",
    "TBstd2 = np.std(df['TB'], ddof=0) # numpy ddof = 0\n",
    "TBmean, TBstd1, TBstd2"
   ]
  },
  {
   "cell_type": "code",
   "execution_count": 13,
   "metadata": {},
   "outputs": [
    {
     "data": {
      "text/plain": [
       "(73.4, 12.946041866145807, 12.281693694275232)"
      ]
     },
     "execution_count": 13,
     "metadata": {},
     "output_type": "execute_result"
    }
   ],
   "source": [
    "BBmean = df['BB'].mean()\n",
    "BBstd1 = df['BB'].std()           # pandas ddof = 1\n",
    "BBstd2 = np.std(df['BB'], ddof=0) # numpy ddof = 0\n",
    "BBmean, BBstd1, BBstd2"
   ]
  },
  {
   "cell_type": "markdown",
   "metadata": {},
   "source": [
    "<hr>\n",
    "\n",
    "- Standardisasi $\\displaystyle z_{score} = \\frac {x - \\bar{x}} {s}$\n",
    "\n",
    "- Data terstandardisasi: mean $\\bar{x}$ ~ 0 dan std $s$ ~ 1.\n",
    "\n",
    "- Outlier berdasarkan $z_{score}$:\n",
    "    - High outlier jika $z_{score} > 2$ atau $z_{score} > 2.5$\n",
    "    - Low outlier jika $z_{score} < -2$ atau $z_{score} < -2.5$"
   ]
  },
  {
   "cell_type": "code",
   "execution_count": 15,
   "metadata": {},
   "outputs": [
    {
     "data": {
      "text/html": [
       "<div>\n",
       "<style scoped>\n",
       "    .dataframe tbody tr th:only-of-type {\n",
       "        vertical-align: middle;\n",
       "    }\n",
       "\n",
       "    .dataframe tbody tr th {\n",
       "        vertical-align: top;\n",
       "    }\n",
       "\n",
       "    .dataframe thead th {\n",
       "        text-align: right;\n",
       "    }\n",
       "</style>\n",
       "<table border=\"1\" class=\"dataframe\">\n",
       "  <thead>\n",
       "    <tr style=\"text-align: right;\">\n",
       "      <th></th>\n",
       "      <th>TB</th>\n",
       "      <th>BB</th>\n",
       "      <th>z TB</th>\n",
       "      <th>z BB</th>\n",
       "    </tr>\n",
       "  </thead>\n",
       "  <tbody>\n",
       "    <tr>\n",
       "      <th>0</th>\n",
       "      <td>1.72</td>\n",
       "      <td>76</td>\n",
       "      <td>-0.444153</td>\n",
       "      <td>0.211697</td>\n",
       "    </tr>\n",
       "    <tr>\n",
       "      <th>1</th>\n",
       "      <td>1.81</td>\n",
       "      <td>65</td>\n",
       "      <td>0.444153</td>\n",
       "      <td>-0.683945</td>\n",
       "    </tr>\n",
       "    <tr>\n",
       "      <th>2</th>\n",
       "      <td>1.93</td>\n",
       "      <td>87</td>\n",
       "      <td>1.628563</td>\n",
       "      <td>1.107339</td>\n",
       "    </tr>\n",
       "  </tbody>\n",
       "</table>\n",
       "</div>"
      ],
      "text/plain": [
       "     TB  BB      z TB      z BB\n",
       "0  1.72  76 -0.444153  0.211697\n",
       "1  1.81  65  0.444153 -0.683945\n",
       "2  1.93  87  1.628563  1.107339"
      ]
     },
     "execution_count": 15,
     "metadata": {},
     "output_type": "execute_result"
    }
   ],
   "source": [
    "df['z TB'] = (df['TB'] - df['TB'].mean()) / np.std(df['TB'])\n",
    "df['z BB'] = (df['BB'] - df['BB'].mean()) / np.std(df['BB'])\n",
    "df.head(3)"
   ]
  },
  {
   "cell_type": "code",
   "execution_count": 16,
   "metadata": {},
   "outputs": [
    {
     "name": "stdout",
     "output_type": "stream",
     "text": [
      "8.854028621385623e-16 1.0\n",
      "-4.440892098500626e-16 1.0\n"
     ]
    }
   ],
   "source": [
    "# data terstandardisasi: mean ~ 0 & std ~ 1\n",
    "print(df['z TB'].mean(), np.std(df['z TB']))\n",
    "print(df['z BB'].mean(), np.std(df['z BB']))"
   ]
  },
  {
   "cell_type": "code",
   "execution_count": 19,
   "metadata": {},
   "outputs": [
    {
     "data": {
      "image/png": "[encoded data removed]",
      "text/plain": [
       "<Figure size 576x288 with 2 Axes>"
      ]
     },
     "metadata": {
      "needs_background": "light"
     },
     "output_type": "display_data"
    }
   ],
   "source": [
    "# standardisasi tidak merubah sebaran data\n",
    "plt.figure(figsize=(8, 4))\n",
    "plt.subplot(121)\n",
    "plt.plot(df['TB'], df['BB'], 'ro')\n",
    "plt.xlabel('TB (m)'); plt.ylabel('BB (kg)')\n",
    "plt.subplot(122)\n",
    "plt.plot(df['z TB'], df['z BB'], 'go')\n",
    "plt.xlabel('z TB'); plt.ylabel('z BB')\n",
    "plt.show()"
   ]
  },
  {
   "cell_type": "markdown",
   "metadata": {},
   "source": [
    "<hr>\n",
    "\n",
    "- Rumus standardisasi $\\displaystyle z_{score} = \\frac {x - \\bar{x}} {s}$, maka untuk mengembalikan ke nilai semula $\\displaystyle x = (z_{score} \\cdot s) + \\bar{x}$"
   ]
  },
  {
   "cell_type": "code",
   "execution_count": 22,
   "metadata": {},
   "outputs": [
    {
     "data": {
      "text/html": [
       "<div>\n",
       "<style scoped>\n",
       "    .dataframe tbody tr th:only-of-type {\n",
       "        vertical-align: middle;\n",
       "    }\n",
       "\n",
       "    .dataframe tbody tr th {\n",
       "        vertical-align: top;\n",
       "    }\n",
       "\n",
       "    .dataframe thead th {\n",
       "        text-align: right;\n",
       "    }\n",
       "</style>\n",
       "<table border=\"1\" class=\"dataframe\">\n",
       "  <thead>\n",
       "    <tr style=\"text-align: right;\">\n",
       "      <th></th>\n",
       "      <th>TB</th>\n",
       "      <th>BB</th>\n",
       "      <th>z TB</th>\n",
       "      <th>z BB</th>\n",
       "      <th>inv z TB</th>\n",
       "      <th>inv z BB</th>\n",
       "    </tr>\n",
       "  </thead>\n",
       "  <tbody>\n",
       "    <tr>\n",
       "      <th>0</th>\n",
       "      <td>1.72</td>\n",
       "      <td>76</td>\n",
       "      <td>-0.444153</td>\n",
       "      <td>0.211697</td>\n",
       "      <td>1.72</td>\n",
       "      <td>76.0</td>\n",
       "    </tr>\n",
       "    <tr>\n",
       "      <th>1</th>\n",
       "      <td>1.81</td>\n",
       "      <td>65</td>\n",
       "      <td>0.444153</td>\n",
       "      <td>-0.683945</td>\n",
       "      <td>1.81</td>\n",
       "      <td>65.0</td>\n",
       "    </tr>\n",
       "    <tr>\n",
       "      <th>2</th>\n",
       "      <td>1.93</td>\n",
       "      <td>87</td>\n",
       "      <td>1.628563</td>\n",
       "      <td>1.107339</td>\n",
       "      <td>1.93</td>\n",
       "      <td>87.0</td>\n",
       "    </tr>\n",
       "    <tr>\n",
       "      <th>3</th>\n",
       "      <td>1.67</td>\n",
       "      <td>55</td>\n",
       "      <td>-0.937657</td>\n",
       "      <td>-1.498165</td>\n",
       "      <td>1.67</td>\n",
       "      <td>55.0</td>\n",
       "    </tr>\n",
       "    <tr>\n",
       "      <th>4</th>\n",
       "      <td>1.85</td>\n",
       "      <td>60</td>\n",
       "      <td>0.838957</td>\n",
       "      <td>-1.091055</td>\n",
       "      <td>1.85</td>\n",
       "      <td>60.0</td>\n",
       "    </tr>\n",
       "    <tr>\n",
       "      <th>5</th>\n",
       "      <td>1.66</td>\n",
       "      <td>78</td>\n",
       "      <td>-1.036358</td>\n",
       "      <td>0.374541</td>\n",
       "      <td>1.66</td>\n",
       "      <td>78.0</td>\n",
       "    </tr>\n",
       "    <tr>\n",
       "      <th>6</th>\n",
       "      <td>1.59</td>\n",
       "      <td>98</td>\n",
       "      <td>-1.727263</td>\n",
       "      <td>2.002981</td>\n",
       "      <td>1.59</td>\n",
       "      <td>98.0</td>\n",
       "    </tr>\n",
       "    <tr>\n",
       "      <th>7</th>\n",
       "      <td>1.76</td>\n",
       "      <td>77</td>\n",
       "      <td>-0.049350</td>\n",
       "      <td>0.293119</td>\n",
       "      <td>1.76</td>\n",
       "      <td>77.0</td>\n",
       "    </tr>\n",
       "    <tr>\n",
       "      <th>8</th>\n",
       "      <td>1.88</td>\n",
       "      <td>74</td>\n",
       "      <td>1.135059</td>\n",
       "      <td>0.048853</td>\n",
       "      <td>1.88</td>\n",
       "      <td>74.0</td>\n",
       "    </tr>\n",
       "    <tr>\n",
       "      <th>9</th>\n",
       "      <td>1.78</td>\n",
       "      <td>64</td>\n",
       "      <td>0.148051</td>\n",
       "      <td>-0.765367</td>\n",
       "      <td>1.78</td>\n",
       "      <td>64.0</td>\n",
       "    </tr>\n",
       "  </tbody>\n",
       "</table>\n",
       "</div>"
      ],
      "text/plain": [
       "     TB  BB      z TB      z BB  inv z TB  inv z BB\n",
       "0  1.72  76 -0.444153  0.211697      1.72      76.0\n",
       "1  1.81  65  0.444153 -0.683945      1.81      65.0\n",
       "2  1.93  87  1.628563  1.107339      1.93      87.0\n",
       "3  1.67  55 -0.937657 -1.498165      1.67      55.0\n",
       "4  1.85  60  0.838957 -1.091055      1.85      60.0\n",
       "5  1.66  78 -1.036358  0.374541      1.66      78.0\n",
       "6  1.59  98 -1.727263  2.002981      1.59      98.0\n",
       "7  1.76  77 -0.049350  0.293119      1.76      77.0\n",
       "8  1.88  74  1.135059  0.048853      1.88      74.0\n",
       "9  1.78  64  0.148051 -0.765367      1.78      64.0"
      ]
     },
     "execution_count": 22,
     "metadata": {},
     "output_type": "execute_result"
    }
   ],
   "source": [
    "df['inv z TB'] = (df['z TB'] * np.std(df['TB'])) + df['TB'].mean()\n",
    "df['inv z BB'] = (df['z BB'] * np.std(df['BB'])) + df['BB'].mean()\n",
    "df"
   ]
  },
  {
   "cell_type": "markdown",
   "metadata": {},
   "source": [
    "<hr> \n",
    "\n",
    "### __B. Standardization on Sklearn__\n",
    "\n",
    "#### __B1.__ Using ```preprocessing.scale()```\n"
   ]
  },
  {
   "cell_type": "code",
   "execution_count": 25,
   "metadata": {},
   "outputs": [],
   "source": [
    "from sklearn import preprocessing"
   ]
  },
  {
   "cell_type": "code",
   "execution_count": 31,
   "metadata": {},
   "outputs": [
    {
     "data": {
      "text/html": [
       "<div>\n",
       "<style scoped>\n",
       "    .dataframe tbody tr th:only-of-type {\n",
       "        vertical-align: middle;\n",
       "    }\n",
       "\n",
       "    .dataframe tbody tr th {\n",
       "        vertical-align: top;\n",
       "    }\n",
       "\n",
       "    .dataframe thead th {\n",
       "        text-align: right;\n",
       "    }\n",
       "</style>\n",
       "<table border=\"1\" class=\"dataframe\">\n",
       "  <thead>\n",
       "    <tr style=\"text-align: right;\">\n",
       "      <th></th>\n",
       "      <th>TB</th>\n",
       "      <th>BB</th>\n",
       "    </tr>\n",
       "  </thead>\n",
       "  <tbody>\n",
       "    <tr>\n",
       "      <th>0</th>\n",
       "      <td>1.72</td>\n",
       "      <td>76</td>\n",
       "    </tr>\n",
       "    <tr>\n",
       "      <th>1</th>\n",
       "      <td>1.81</td>\n",
       "      <td>65</td>\n",
       "    </tr>\n",
       "    <tr>\n",
       "      <th>2</th>\n",
       "      <td>1.93</td>\n",
       "      <td>87</td>\n",
       "    </tr>\n",
       "  </tbody>\n",
       "</table>\n",
       "</div>"
      ],
      "text/plain": [
       "     TB  BB\n",
       "0  1.72  76\n",
       "1  1.81  65\n",
       "2  1.93  87"
      ]
     },
     "execution_count": 31,
     "metadata": {},
     "output_type": "execute_result"
    }
   ],
   "source": [
    "df = pd.DataFrame({\n",
    "    'TB': [1.72, 1.81, 1.93, 1.67, 1.85, 1.66, 1.59, 1.76, 1.88, 1.78],\n",
    "    'BB': [76, 65, 87, 55, 60, 78, 98, 77, 74, 64]\n",
    "})\n",
    "df.head(3)"
   ]
  },
  {
   "cell_type": "code",
   "execution_count": 32,
   "metadata": {},
   "outputs": [],
   "source": [
    "ZTB = preprocessing.scale(df['TB'])\n",
    "ZBB = preprocessing.scale(df['BB'])\n",
    "df['z TB'] = ZTB\n",
    "df['z BB'] = ZBB"
   ]
  },
  {
   "cell_type": "code",
   "execution_count": 34,
   "metadata": {},
   "outputs": [
    {
     "data": {
      "text/html": [
       "<div>\n",
       "<style scoped>\n",
       "    .dataframe tbody tr th:only-of-type {\n",
       "        vertical-align: middle;\n",
       "    }\n",
       "\n",
       "    .dataframe tbody tr th {\n",
       "        vertical-align: top;\n",
       "    }\n",
       "\n",
       "    .dataframe thead th {\n",
       "        text-align: right;\n",
       "    }\n",
       "</style>\n",
       "<table border=\"1\" class=\"dataframe\">\n",
       "  <thead>\n",
       "    <tr style=\"text-align: right;\">\n",
       "      <th></th>\n",
       "      <th>TB</th>\n",
       "      <th>BB</th>\n",
       "      <th>z TB</th>\n",
       "      <th>z BB</th>\n",
       "    </tr>\n",
       "  </thead>\n",
       "  <tbody>\n",
       "    <tr>\n",
       "      <th>0</th>\n",
       "      <td>1.72</td>\n",
       "      <td>76</td>\n",
       "      <td>-0.444153</td>\n",
       "      <td>0.211697</td>\n",
       "    </tr>\n",
       "    <tr>\n",
       "      <th>1</th>\n",
       "      <td>1.81</td>\n",
       "      <td>65</td>\n",
       "      <td>0.444153</td>\n",
       "      <td>-0.683945</td>\n",
       "    </tr>\n",
       "    <tr>\n",
       "      <th>2</th>\n",
       "      <td>1.93</td>\n",
       "      <td>87</td>\n",
       "      <td>1.628563</td>\n",
       "      <td>1.107339</td>\n",
       "    </tr>\n",
       "    <tr>\n",
       "      <th>3</th>\n",
       "      <td>1.67</td>\n",
       "      <td>55</td>\n",
       "      <td>-0.937657</td>\n",
       "      <td>-1.498165</td>\n",
       "    </tr>\n",
       "    <tr>\n",
       "      <th>4</th>\n",
       "      <td>1.85</td>\n",
       "      <td>60</td>\n",
       "      <td>0.838957</td>\n",
       "      <td>-1.091055</td>\n",
       "    </tr>\n",
       "  </tbody>\n",
       "</table>\n",
       "</div>"
      ],
      "text/plain": [
       "     TB  BB      z TB      z BB\n",
       "0  1.72  76 -0.444153  0.211697\n",
       "1  1.81  65  0.444153 -0.683945\n",
       "2  1.93  87  1.628563  1.107339\n",
       "3  1.67  55 -0.937657 -1.498165\n",
       "4  1.85  60  0.838957 -1.091055"
      ]
     },
     "execution_count": 34,
     "metadata": {},
     "output_type": "execute_result"
    }
   ],
   "source": [
    "df.head(5)"
   ]
  },
  {
   "cell_type": "markdown",
   "metadata": {},
   "source": [
    "<hr> \n",
    "\n",
    "#### __B2.__ Using ```preprocessing.StandardScaler()```\n"
   ]
  },
  {
   "cell_type": "code",
   "execution_count": 37,
   "metadata": {},
   "outputs": [
    {
     "data": {
      "text/html": [
       "<div>\n",
       "<style scoped>\n",
       "    .dataframe tbody tr th:only-of-type {\n",
       "        vertical-align: middle;\n",
       "    }\n",
       "\n",
       "    .dataframe tbody tr th {\n",
       "        vertical-align: top;\n",
       "    }\n",
       "\n",
       "    .dataframe thead th {\n",
       "        text-align: right;\n",
       "    }\n",
       "</style>\n",
       "<table border=\"1\" class=\"dataframe\">\n",
       "  <thead>\n",
       "    <tr style=\"text-align: right;\">\n",
       "      <th></th>\n",
       "      <th>TB</th>\n",
       "      <th>BB</th>\n",
       "    </tr>\n",
       "  </thead>\n",
       "  <tbody>\n",
       "    <tr>\n",
       "      <th>0</th>\n",
       "      <td>1.72</td>\n",
       "      <td>76</td>\n",
       "    </tr>\n",
       "    <tr>\n",
       "      <th>1</th>\n",
       "      <td>1.81</td>\n",
       "      <td>65</td>\n",
       "    </tr>\n",
       "  </tbody>\n",
       "</table>\n",
       "</div>"
      ],
      "text/plain": [
       "     TB  BB\n",
       "0  1.72  76\n",
       "1  1.81  65"
      ]
     },
     "execution_count": 37,
     "metadata": {},
     "output_type": "execute_result"
    }
   ],
   "source": [
    "df = pd.DataFrame({\n",
    "    'TB': [1.72, 1.81, 1.93, 1.67, 1.85, 1.66, 1.59, 1.76, 1.88, 1.78],\n",
    "    'BB': [76, 65, 87, 55, 60, 78, 98, 77, 74, 64]\n",
    "})\n",
    "df.head(2)"
   ]
  },
  {
   "cell_type": "code",
   "execution_count": 35,
   "metadata": {},
   "outputs": [],
   "source": [
    "from sklearn.preprocessing import StandardScaler\n",
    "scaler = StandardScaler()"
   ]
  },
  {
   "cell_type": "code",
   "execution_count": 39,
   "metadata": {},
   "outputs": [
    {
     "data": {
      "text/plain": [
       "StandardScaler(copy=True, with_mean=True, with_std=True)"
      ]
     },
     "execution_count": 39,
     "metadata": {},
     "output_type": "execute_result"
    }
   ],
   "source": [
    "# create scaler\n",
    "scaler.fit(df[['TB', 'BB']])"
   ]
  },
  {
   "cell_type": "code",
   "execution_count": 44,
   "metadata": {},
   "outputs": [
    {
     "data": {
      "text/plain": [
       "array([[-0.44415345,  0.21169719],\n",
       "       [ 0.44415345, -0.68394476],\n",
       "       [ 1.62856264,  1.10733913],\n",
       "       [-0.93765728, -1.4981647 ],\n",
       "       [ 0.83895651, -1.09105473],\n",
       "       [-1.03635804,  0.37454118],\n",
       "       [-1.7272634 ,  2.00298107],\n",
       "       [-0.04935038,  0.29311918],\n",
       "       [ 1.13505881,  0.0488532 ],\n",
       "       [ 0.14805115, -0.76536675]])"
      ]
     },
     "execution_count": 44,
     "metadata": {},
     "output_type": "execute_result"
    }
   ],
   "source": [
    "# transformasi: melakukan standardisasi\n",
    "z = scaler.transform(df[['TB', 'BB']])\n",
    "z"
   ]
  },
  {
   "cell_type": "code",
   "execution_count": 42,
   "metadata": {},
   "outputs": [
    {
     "data": {
      "text/html": [
       "<div>\n",
       "<style scoped>\n",
       "    .dataframe tbody tr th:only-of-type {\n",
       "        vertical-align: middle;\n",
       "    }\n",
       "\n",
       "    .dataframe tbody tr th {\n",
       "        vertical-align: top;\n",
       "    }\n",
       "\n",
       "    .dataframe thead th {\n",
       "        text-align: right;\n",
       "    }\n",
       "</style>\n",
       "<table border=\"1\" class=\"dataframe\">\n",
       "  <thead>\n",
       "    <tr style=\"text-align: right;\">\n",
       "      <th></th>\n",
       "      <th>TB</th>\n",
       "      <th>BB</th>\n",
       "      <th>z TB</th>\n",
       "      <th>z BB</th>\n",
       "    </tr>\n",
       "  </thead>\n",
       "  <tbody>\n",
       "    <tr>\n",
       "      <th>0</th>\n",
       "      <td>1.72</td>\n",
       "      <td>76</td>\n",
       "      <td>-0.444153</td>\n",
       "      <td>0.211697</td>\n",
       "    </tr>\n",
       "    <tr>\n",
       "      <th>1</th>\n",
       "      <td>1.81</td>\n",
       "      <td>65</td>\n",
       "      <td>0.444153</td>\n",
       "      <td>-0.683945</td>\n",
       "    </tr>\n",
       "    <tr>\n",
       "      <th>2</th>\n",
       "      <td>1.93</td>\n",
       "      <td>87</td>\n",
       "      <td>1.628563</td>\n",
       "      <td>1.107339</td>\n",
       "    </tr>\n",
       "    <tr>\n",
       "      <th>3</th>\n",
       "      <td>1.67</td>\n",
       "      <td>55</td>\n",
       "      <td>-0.937657</td>\n",
       "      <td>-1.498165</td>\n",
       "    </tr>\n",
       "    <tr>\n",
       "      <th>4</th>\n",
       "      <td>1.85</td>\n",
       "      <td>60</td>\n",
       "      <td>0.838957</td>\n",
       "      <td>-1.091055</td>\n",
       "    </tr>\n",
       "    <tr>\n",
       "      <th>5</th>\n",
       "      <td>1.66</td>\n",
       "      <td>78</td>\n",
       "      <td>-1.036358</td>\n",
       "      <td>0.374541</td>\n",
       "    </tr>\n",
       "    <tr>\n",
       "      <th>6</th>\n",
       "      <td>1.59</td>\n",
       "      <td>98</td>\n",
       "      <td>-1.727263</td>\n",
       "      <td>2.002981</td>\n",
       "    </tr>\n",
       "    <tr>\n",
       "      <th>7</th>\n",
       "      <td>1.76</td>\n",
       "      <td>77</td>\n",
       "      <td>-0.049350</td>\n",
       "      <td>0.293119</td>\n",
       "    </tr>\n",
       "    <tr>\n",
       "      <th>8</th>\n",
       "      <td>1.88</td>\n",
       "      <td>74</td>\n",
       "      <td>1.135059</td>\n",
       "      <td>0.048853</td>\n",
       "    </tr>\n",
       "    <tr>\n",
       "      <th>9</th>\n",
       "      <td>1.78</td>\n",
       "      <td>64</td>\n",
       "      <td>0.148051</td>\n",
       "      <td>-0.765367</td>\n",
       "    </tr>\n",
       "  </tbody>\n",
       "</table>\n",
       "</div>"
      ],
      "text/plain": [
       "     TB  BB      z TB      z BB\n",
       "0  1.72  76 -0.444153  0.211697\n",
       "1  1.81  65  0.444153 -0.683945\n",
       "2  1.93  87  1.628563  1.107339\n",
       "3  1.67  55 -0.937657 -1.498165\n",
       "4  1.85  60  0.838957 -1.091055\n",
       "5  1.66  78 -1.036358  0.374541\n",
       "6  1.59  98 -1.727263  2.002981\n",
       "7  1.76  77 -0.049350  0.293119\n",
       "8  1.88  74  1.135059  0.048853\n",
       "9  1.78  64  0.148051 -0.765367"
      ]
     },
     "execution_count": 42,
     "metadata": {},
     "output_type": "execute_result"
    }
   ],
   "source": [
    "df['z TB'] = z[:, 0]\n",
    "df['z BB'] = z[:, 1]\n",
    "df"
   ]
  },
  {
   "cell_type": "code",
   "execution_count": 46,
   "metadata": {},
   "outputs": [
    {
     "data": {
      "text/plain": [
       "array([[ 1.72, 76.  ],\n",
       "       [ 1.81, 65.  ],\n",
       "       [ 1.93, 87.  ],\n",
       "       [ 1.67, 55.  ],\n",
       "       [ 1.85, 60.  ],\n",
       "       [ 1.66, 78.  ],\n",
       "       [ 1.59, 98.  ],\n",
       "       [ 1.76, 77.  ],\n",
       "       [ 1.88, 74.  ],\n",
       "       [ 1.78, 64.  ]])"
      ]
     },
     "execution_count": 46,
     "metadata": {},
     "output_type": "execute_result"
    }
   ],
   "source": [
    "# inverse transform: mengembalikan value semula\n",
    "inv = scaler.inverse_transform(\n",
    "    df[['z TB', 'z BB']]\n",
    ")\n",
    "inv"
   ]
  },
  {
   "cell_type": "code",
   "execution_count": 47,
   "metadata": {},
   "outputs": [
    {
     "data": {
      "text/html": [
       "<div>\n",
       "<style scoped>\n",
       "    .dataframe tbody tr th:only-of-type {\n",
       "        vertical-align: middle;\n",
       "    }\n",
       "\n",
       "    .dataframe tbody tr th {\n",
       "        vertical-align: top;\n",
       "    }\n",
       "\n",
       "    .dataframe thead th {\n",
       "        text-align: right;\n",
       "    }\n",
       "</style>\n",
       "<table border=\"1\" class=\"dataframe\">\n",
       "  <thead>\n",
       "    <tr style=\"text-align: right;\">\n",
       "      <th></th>\n",
       "      <th>TB</th>\n",
       "      <th>BB</th>\n",
       "      <th>z TB</th>\n",
       "      <th>z BB</th>\n",
       "      <th>inv z TB</th>\n",
       "      <th>inv z BB</th>\n",
       "    </tr>\n",
       "  </thead>\n",
       "  <tbody>\n",
       "    <tr>\n",
       "      <th>0</th>\n",
       "      <td>1.72</td>\n",
       "      <td>76</td>\n",
       "      <td>-0.444153</td>\n",
       "      <td>0.211697</td>\n",
       "      <td>1.72</td>\n",
       "      <td>76.0</td>\n",
       "    </tr>\n",
       "    <tr>\n",
       "      <th>1</th>\n",
       "      <td>1.81</td>\n",
       "      <td>65</td>\n",
       "      <td>0.444153</td>\n",
       "      <td>-0.683945</td>\n",
       "      <td>1.81</td>\n",
       "      <td>65.0</td>\n",
       "    </tr>\n",
       "    <tr>\n",
       "      <th>2</th>\n",
       "      <td>1.93</td>\n",
       "      <td>87</td>\n",
       "      <td>1.628563</td>\n",
       "      <td>1.107339</td>\n",
       "      <td>1.93</td>\n",
       "      <td>87.0</td>\n",
       "    </tr>\n",
       "    <tr>\n",
       "      <th>3</th>\n",
       "      <td>1.67</td>\n",
       "      <td>55</td>\n",
       "      <td>-0.937657</td>\n",
       "      <td>-1.498165</td>\n",
       "      <td>1.67</td>\n",
       "      <td>55.0</td>\n",
       "    </tr>\n",
       "    <tr>\n",
       "      <th>4</th>\n",
       "      <td>1.85</td>\n",
       "      <td>60</td>\n",
       "      <td>0.838957</td>\n",
       "      <td>-1.091055</td>\n",
       "      <td>1.85</td>\n",
       "      <td>60.0</td>\n",
       "    </tr>\n",
       "    <tr>\n",
       "      <th>5</th>\n",
       "      <td>1.66</td>\n",
       "      <td>78</td>\n",
       "      <td>-1.036358</td>\n",
       "      <td>0.374541</td>\n",
       "      <td>1.66</td>\n",
       "      <td>78.0</td>\n",
       "    </tr>\n",
       "    <tr>\n",
       "      <th>6</th>\n",
       "      <td>1.59</td>\n",
       "      <td>98</td>\n",
       "      <td>-1.727263</td>\n",
       "      <td>2.002981</td>\n",
       "      <td>1.59</td>\n",
       "      <td>98.0</td>\n",
       "    </tr>\n",
       "    <tr>\n",
       "      <th>7</th>\n",
       "      <td>1.76</td>\n",
       "      <td>77</td>\n",
       "      <td>-0.049350</td>\n",
       "      <td>0.293119</td>\n",
       "      <td>1.76</td>\n",
       "      <td>77.0</td>\n",
       "    </tr>\n",
       "    <tr>\n",
       "      <th>8</th>\n",
       "      <td>1.88</td>\n",
       "      <td>74</td>\n",
       "      <td>1.135059</td>\n",
       "      <td>0.048853</td>\n",
       "      <td>1.88</td>\n",
       "      <td>74.0</td>\n",
       "    </tr>\n",
       "    <tr>\n",
       "      <th>9</th>\n",
       "      <td>1.78</td>\n",
       "      <td>64</td>\n",
       "      <td>0.148051</td>\n",
       "      <td>-0.765367</td>\n",
       "      <td>1.78</td>\n",
       "      <td>64.0</td>\n",
       "    </tr>\n",
       "  </tbody>\n",
       "</table>\n",
       "</div>"
      ],
      "text/plain": [
       "     TB  BB      z TB      z BB  inv z TB  inv z BB\n",
       "0  1.72  76 -0.444153  0.211697      1.72      76.0\n",
       "1  1.81  65  0.444153 -0.683945      1.81      65.0\n",
       "2  1.93  87  1.628563  1.107339      1.93      87.0\n",
       "3  1.67  55 -0.937657 -1.498165      1.67      55.0\n",
       "4  1.85  60  0.838957 -1.091055      1.85      60.0\n",
       "5  1.66  78 -1.036358  0.374541      1.66      78.0\n",
       "6  1.59  98 -1.727263  2.002981      1.59      98.0\n",
       "7  1.76  77 -0.049350  0.293119      1.76      77.0\n",
       "8  1.88  74  1.135059  0.048853      1.88      74.0\n",
       "9  1.78  64  0.148051 -0.765367      1.78      64.0"
      ]
     },
     "execution_count": 47,
     "metadata": {},
     "output_type": "execute_result"
    }
   ],
   "source": [
    "df['inv z TB'] = inv[:, 0]\n",
    "df['inv z BB'] = inv[:, 1]\n",
    "df"
   ]
  },
  {
   "cell_type": "markdown",
   "metadata": {},
   "source": [
    "<hr>\n",
    "\n",
    "### __C. Contoh Kasus__"
   ]
  },
  {
   "cell_type": "code",
   "execution_count": 74,
   "metadata": {},
   "outputs": [],
   "source": [
    "df = pd.DataFrame({\n",
    "    'mesin': [1000, 2000, 3000, 4000, 5000],\n",
    "    'harga': [10, 25, 35, 55, 80]\n",
    "})\n",
    "# df"
   ]
  },
  {
   "cell_type": "code",
   "execution_count": 75,
   "metadata": {},
   "outputs": [
    {
     "data": {
      "text/plain": [
       "LinearRegression(copy_X=True, fit_intercept=True, n_jobs=None, normalize=False)"
      ]
     },
     "execution_count": 75,
     "metadata": {},
     "output_type": "execute_result"
    }
   ],
   "source": [
    "from sklearn.linear_model import LinearRegression\n",
    "model = LinearRegression()\n",
    "model.fit(df[['mesin']], df['harga'])"
   ]
  },
  {
   "cell_type": "code",
   "execution_count": 76,
   "metadata": {},
   "outputs": [
    {
     "data": {
      "text/html": [
       "<div>\n",
       "<style scoped>\n",
       "    .dataframe tbody tr th:only-of-type {\n",
       "        vertical-align: middle;\n",
       "    }\n",
       "\n",
       "    .dataframe tbody tr th {\n",
       "        vertical-align: top;\n",
       "    }\n",
       "\n",
       "    .dataframe thead th {\n",
       "        text-align: right;\n",
       "    }\n",
       "</style>\n",
       "<table border=\"1\" class=\"dataframe\">\n",
       "  <thead>\n",
       "    <tr style=\"text-align: right;\">\n",
       "      <th></th>\n",
       "      <th>mesin</th>\n",
       "      <th>harga</th>\n",
       "      <th>harga\"</th>\n",
       "    </tr>\n",
       "  </thead>\n",
       "  <tbody>\n",
       "    <tr>\n",
       "      <th>0</th>\n",
       "      <td>1000</td>\n",
       "      <td>10</td>\n",
       "      <td>7.0</td>\n",
       "    </tr>\n",
       "    <tr>\n",
       "      <th>1</th>\n",
       "      <td>2000</td>\n",
       "      <td>25</td>\n",
       "      <td>24.0</td>\n",
       "    </tr>\n",
       "    <tr>\n",
       "      <th>2</th>\n",
       "      <td>3000</td>\n",
       "      <td>35</td>\n",
       "      <td>41.0</td>\n",
       "    </tr>\n",
       "    <tr>\n",
       "      <th>3</th>\n",
       "      <td>4000</td>\n",
       "      <td>55</td>\n",
       "      <td>58.0</td>\n",
       "    </tr>\n",
       "    <tr>\n",
       "      <th>4</th>\n",
       "      <td>5000</td>\n",
       "      <td>80</td>\n",
       "      <td>75.0</td>\n",
       "    </tr>\n",
       "  </tbody>\n",
       "</table>\n",
       "</div>"
      ],
      "text/plain": [
       "   mesin  harga  harga\"\n",
       "0   1000     10     7.0\n",
       "1   2000     25    24.0\n",
       "2   3000     35    41.0\n",
       "3   4000     55    58.0\n",
       "4   5000     80    75.0"
      ]
     },
     "execution_count": 76,
     "metadata": {},
     "output_type": "execute_result"
    }
   ],
   "source": [
    "df['harga\"'] = model.predict(df[['mesin']])\n",
    "df"
   ]
  },
  {
   "cell_type": "code",
   "execution_count": 83,
   "metadata": {},
   "outputs": [],
   "source": [
    "# 2. standardisasi pada X & Y: \n",
    "# Kurang efisien => hasilnya berupa z-score prediksi\n",
    "# untuk mendapatkan prediksi aslinya, harus inverse transform\n",
    "# efektifnya: hanya feature X saja yg distandardisasi\n",
    "\n",
    "scalerX = StandardScaler()\n",
    "scalerY = StandardScaler()"
   ]
  },
  {
   "cell_type": "code",
   "execution_count": 84,
   "metadata": {},
   "outputs": [
    {
     "data": {
      "text/html": [
       "<div>\n",
       "<style scoped>\n",
       "    .dataframe tbody tr th:only-of-type {\n",
       "        vertical-align: middle;\n",
       "    }\n",
       "\n",
       "    .dataframe tbody tr th {\n",
       "        vertical-align: top;\n",
       "    }\n",
       "\n",
       "    .dataframe thead th {\n",
       "        text-align: right;\n",
       "    }\n",
       "</style>\n",
       "<table border=\"1\" class=\"dataframe\">\n",
       "  <thead>\n",
       "    <tr style=\"text-align: right;\">\n",
       "      <th></th>\n",
       "      <th>mesin</th>\n",
       "      <th>harga</th>\n",
       "      <th>harga\"</th>\n",
       "      <th>z mesin</th>\n",
       "      <th>z harga</th>\n",
       "      <th>z harga\"</th>\n",
       "    </tr>\n",
       "  </thead>\n",
       "  <tbody>\n",
       "    <tr>\n",
       "      <th>0</th>\n",
       "      <td>1000</td>\n",
       "      <td>10</td>\n",
       "      <td>7.0</td>\n",
       "      <td>-1.414214</td>\n",
       "      <td>-1.271945</td>\n",
       "      <td>-1.395037e+00</td>\n",
       "    </tr>\n",
       "    <tr>\n",
       "      <th>1</th>\n",
       "      <td>2000</td>\n",
       "      <td>25</td>\n",
       "      <td>24.0</td>\n",
       "      <td>-0.707107</td>\n",
       "      <td>-0.656488</td>\n",
       "      <td>-6.975184e-01</td>\n",
       "    </tr>\n",
       "    <tr>\n",
       "      <th>2</th>\n",
       "      <td>3000</td>\n",
       "      <td>35</td>\n",
       "      <td>41.0</td>\n",
       "      <td>0.000000</td>\n",
       "      <td>-0.246183</td>\n",
       "      <td>-4.440892e-17</td>\n",
       "    </tr>\n",
       "    <tr>\n",
       "      <th>3</th>\n",
       "      <td>4000</td>\n",
       "      <td>55</td>\n",
       "      <td>58.0</td>\n",
       "      <td>0.707107</td>\n",
       "      <td>0.574427</td>\n",
       "      <td>6.975184e-01</td>\n",
       "    </tr>\n",
       "    <tr>\n",
       "      <th>4</th>\n",
       "      <td>5000</td>\n",
       "      <td>80</td>\n",
       "      <td>75.0</td>\n",
       "      <td>1.414214</td>\n",
       "      <td>1.600189</td>\n",
       "      <td>1.395037e+00</td>\n",
       "    </tr>\n",
       "  </tbody>\n",
       "</table>\n",
       "</div>"
      ],
      "text/plain": [
       "   mesin  harga  harga\"   z mesin   z harga      z harga\"\n",
       "0   1000     10     7.0 -1.414214 -1.271945 -1.395037e+00\n",
       "1   2000     25    24.0 -0.707107 -0.656488 -6.975184e-01\n",
       "2   3000     35    41.0  0.000000 -0.246183 -4.440892e-17\n",
       "3   4000     55    58.0  0.707107  0.574427  6.975184e-01\n",
       "4   5000     80    75.0  1.414214  1.600189  1.395037e+00"
      ]
     },
     "execution_count": 84,
     "metadata": {},
     "output_type": "execute_result"
    }
   ],
   "source": [
    "df['z mesin'] = scalerX.fit_transform(df[['mesin']])\n",
    "df['z harga'] = scalerY.fit_transform(df[['harga']])\n",
    "df"
   ]
  },
  {
   "cell_type": "code",
   "execution_count": 85,
   "metadata": {},
   "outputs": [
    {
     "data": {
      "text/plain": [
       "LinearRegression(copy_X=True, fit_intercept=True, n_jobs=None, normalize=False)"
      ]
     },
     "execution_count": 85,
     "metadata": {},
     "output_type": "execute_result"
    }
   ],
   "source": [
    "model2 = LinearRegression()\n",
    "model2.fit(df[['z mesin']], df['z harga'])"
   ]
  },
  {
   "cell_type": "code",
   "execution_count": 86,
   "metadata": {},
   "outputs": [
    {
     "data": {
      "text/html": [
       "<div>\n",
       "<style scoped>\n",
       "    .dataframe tbody tr th:only-of-type {\n",
       "        vertical-align: middle;\n",
       "    }\n",
       "\n",
       "    .dataframe tbody tr th {\n",
       "        vertical-align: top;\n",
       "    }\n",
       "\n",
       "    .dataframe thead th {\n",
       "        text-align: right;\n",
       "    }\n",
       "</style>\n",
       "<table border=\"1\" class=\"dataframe\">\n",
       "  <thead>\n",
       "    <tr style=\"text-align: right;\">\n",
       "      <th></th>\n",
       "      <th>mesin</th>\n",
       "      <th>harga</th>\n",
       "      <th>harga\"</th>\n",
       "      <th>z mesin</th>\n",
       "      <th>z harga</th>\n",
       "      <th>z harga\"</th>\n",
       "    </tr>\n",
       "  </thead>\n",
       "  <tbody>\n",
       "    <tr>\n",
       "      <th>0</th>\n",
       "      <td>1000</td>\n",
       "      <td>10</td>\n",
       "      <td>7.0</td>\n",
       "      <td>-1.414214</td>\n",
       "      <td>-1.271945</td>\n",
       "      <td>-1.395037e+00</td>\n",
       "    </tr>\n",
       "    <tr>\n",
       "      <th>1</th>\n",
       "      <td>2000</td>\n",
       "      <td>25</td>\n",
       "      <td>24.0</td>\n",
       "      <td>-0.707107</td>\n",
       "      <td>-0.656488</td>\n",
       "      <td>-6.975184e-01</td>\n",
       "    </tr>\n",
       "    <tr>\n",
       "      <th>2</th>\n",
       "      <td>3000</td>\n",
       "      <td>35</td>\n",
       "      <td>41.0</td>\n",
       "      <td>0.000000</td>\n",
       "      <td>-0.246183</td>\n",
       "      <td>-4.440892e-17</td>\n",
       "    </tr>\n",
       "    <tr>\n",
       "      <th>3</th>\n",
       "      <td>4000</td>\n",
       "      <td>55</td>\n",
       "      <td>58.0</td>\n",
       "      <td>0.707107</td>\n",
       "      <td>0.574427</td>\n",
       "      <td>6.975184e-01</td>\n",
       "    </tr>\n",
       "    <tr>\n",
       "      <th>4</th>\n",
       "      <td>5000</td>\n",
       "      <td>80</td>\n",
       "      <td>75.0</td>\n",
       "      <td>1.414214</td>\n",
       "      <td>1.600189</td>\n",
       "      <td>1.395037e+00</td>\n",
       "    </tr>\n",
       "  </tbody>\n",
       "</table>\n",
       "</div>"
      ],
      "text/plain": [
       "   mesin  harga  harga\"   z mesin   z harga      z harga\"\n",
       "0   1000     10     7.0 -1.414214 -1.271945 -1.395037e+00\n",
       "1   2000     25    24.0 -0.707107 -0.656488 -6.975184e-01\n",
       "2   3000     35    41.0  0.000000 -0.246183 -4.440892e-17\n",
       "3   4000     55    58.0  0.707107  0.574427  6.975184e-01\n",
       "4   5000     80    75.0  1.414214  1.600189  1.395037e+00"
      ]
     },
     "execution_count": 86,
     "metadata": {},
     "output_type": "execute_result"
    }
   ],
   "source": [
    "df['z harga\"'] = model2.predict(df[['z mesin']])\n",
    "df"
   ]
  },
  {
   "cell_type": "code",
   "execution_count": 88,
   "metadata": {},
   "outputs": [
    {
     "data": {
      "text/html": [
       "<div>\n",
       "<style scoped>\n",
       "    .dataframe tbody tr th:only-of-type {\n",
       "        vertical-align: middle;\n",
       "    }\n",
       "\n",
       "    .dataframe tbody tr th {\n",
       "        vertical-align: top;\n",
       "    }\n",
       "\n",
       "    .dataframe thead th {\n",
       "        text-align: right;\n",
       "    }\n",
       "</style>\n",
       "<table border=\"1\" class=\"dataframe\">\n",
       "  <thead>\n",
       "    <tr style=\"text-align: right;\">\n",
       "      <th></th>\n",
       "      <th>mesin</th>\n",
       "      <th>harga</th>\n",
       "      <th>harga\"</th>\n",
       "      <th>z mesin</th>\n",
       "      <th>z harga</th>\n",
       "      <th>z harga\"</th>\n",
       "      <th>harga\"2</th>\n",
       "    </tr>\n",
       "  </thead>\n",
       "  <tbody>\n",
       "    <tr>\n",
       "      <th>0</th>\n",
       "      <td>1000</td>\n",
       "      <td>10</td>\n",
       "      <td>7.0</td>\n",
       "      <td>-1.414214</td>\n",
       "      <td>-1.271945</td>\n",
       "      <td>-1.395037e+00</td>\n",
       "      <td>7.0</td>\n",
       "    </tr>\n",
       "    <tr>\n",
       "      <th>1</th>\n",
       "      <td>2000</td>\n",
       "      <td>25</td>\n",
       "      <td>24.0</td>\n",
       "      <td>-0.707107</td>\n",
       "      <td>-0.656488</td>\n",
       "      <td>-6.975184e-01</td>\n",
       "      <td>24.0</td>\n",
       "    </tr>\n",
       "    <tr>\n",
       "      <th>2</th>\n",
       "      <td>3000</td>\n",
       "      <td>35</td>\n",
       "      <td>41.0</td>\n",
       "      <td>0.000000</td>\n",
       "      <td>-0.246183</td>\n",
       "      <td>-4.440892e-17</td>\n",
       "      <td>41.0</td>\n",
       "    </tr>\n",
       "    <tr>\n",
       "      <th>3</th>\n",
       "      <td>4000</td>\n",
       "      <td>55</td>\n",
       "      <td>58.0</td>\n",
       "      <td>0.707107</td>\n",
       "      <td>0.574427</td>\n",
       "      <td>6.975184e-01</td>\n",
       "      <td>58.0</td>\n",
       "    </tr>\n",
       "    <tr>\n",
       "      <th>4</th>\n",
       "      <td>5000</td>\n",
       "      <td>80</td>\n",
       "      <td>75.0</td>\n",
       "      <td>1.414214</td>\n",
       "      <td>1.600189</td>\n",
       "      <td>1.395037e+00</td>\n",
       "      <td>75.0</td>\n",
       "    </tr>\n",
       "  </tbody>\n",
       "</table>\n",
       "</div>"
      ],
      "text/plain": [
       "   mesin  harga  harga\"   z mesin   z harga      z harga\"  harga\"2\n",
       "0   1000     10     7.0 -1.414214 -1.271945 -1.395037e+00      7.0\n",
       "1   2000     25    24.0 -0.707107 -0.656488 -6.975184e-01     24.0\n",
       "2   3000     35    41.0  0.000000 -0.246183 -4.440892e-17     41.0\n",
       "3   4000     55    58.0  0.707107  0.574427  6.975184e-01     58.0\n",
       "4   5000     80    75.0  1.414214  1.600189  1.395037e+00     75.0"
      ]
     },
     "execution_count": 88,
     "metadata": {},
     "output_type": "execute_result"
    }
   ],
   "source": [
    "df['harga\"2'] = scalerY.inverse_transform(df['z harga\"'])\n",
    "df"
   ]
  },
  {
   "cell_type": "code",
   "execution_count": 96,
   "metadata": {},
   "outputs": [
    {
     "data": {
      "text/plain": [
       "91.99999999999997"
      ]
     },
     "execution_count": 96,
     "metadata": {},
     "output_type": "execute_result"
    }
   ],
   "source": [
    "# predict harga untuk mesin 6000 dengan model kedua\n",
    "scalerY.inverse_transform(\n",
    "    model2.predict(\n",
    "        scalerX.transform([[6000]])\n",
    "    )\n",
    ")[0]"
   ]
  },
  {
   "cell_type": "code",
   "execution_count": 98,
   "metadata": {},
   "outputs": [],
   "source": [
    "# Efektif: standardisasi feature X & y target asli => model\n",
    "\n",
    "df = pd.DataFrame({\n",
    "    'mesin': [1000, 2000, 3000, 4000, 5000],\n",
    "    'harga': [10, 25, 35, 55, 80]\n",
    "})\n",
    "# df"
   ]
  },
  {
   "cell_type": "code",
   "execution_count": 101,
   "metadata": {},
   "outputs": [],
   "source": [
    "scaler = StandardScaler()\n",
    "df['z mesin'] = scaler.fit_transform(df[['mesin']])"
   ]
  },
  {
   "cell_type": "code",
   "execution_count": 103,
   "metadata": {},
   "outputs": [
    {
     "data": {
      "text/plain": [
       "LinearRegression(copy_X=True, fit_intercept=True, n_jobs=None, normalize=False)"
      ]
     },
     "execution_count": 103,
     "metadata": {},
     "output_type": "execute_result"
    }
   ],
   "source": [
    "model = LinearRegression()\n",
    "\n",
    "# training X terstandardisasi, Y tetap asli\n",
    "model.fit(df[['z mesin']], df['harga'])"
   ]
  },
  {
   "cell_type": "code",
   "execution_count": 104,
   "metadata": {},
   "outputs": [
    {
     "data": {
      "text/html": [
       "<div>\n",
       "<style scoped>\n",
       "    .dataframe tbody tr th:only-of-type {\n",
       "        vertical-align: middle;\n",
       "    }\n",
       "\n",
       "    .dataframe tbody tr th {\n",
       "        vertical-align: top;\n",
       "    }\n",
       "\n",
       "    .dataframe thead th {\n",
       "        text-align: right;\n",
       "    }\n",
       "</style>\n",
       "<table border=\"1\" class=\"dataframe\">\n",
       "  <thead>\n",
       "    <tr style=\"text-align: right;\">\n",
       "      <th></th>\n",
       "      <th>mesin</th>\n",
       "      <th>harga</th>\n",
       "      <th>z mesin</th>\n",
       "      <th>harga\"</th>\n",
       "    </tr>\n",
       "  </thead>\n",
       "  <tbody>\n",
       "    <tr>\n",
       "      <th>0</th>\n",
       "      <td>1000</td>\n",
       "      <td>10</td>\n",
       "      <td>-1.414214</td>\n",
       "      <td>7.0</td>\n",
       "    </tr>\n",
       "    <tr>\n",
       "      <th>1</th>\n",
       "      <td>2000</td>\n",
       "      <td>25</td>\n",
       "      <td>-0.707107</td>\n",
       "      <td>24.0</td>\n",
       "    </tr>\n",
       "    <tr>\n",
       "      <th>2</th>\n",
       "      <td>3000</td>\n",
       "      <td>35</td>\n",
       "      <td>0.000000</td>\n",
       "      <td>41.0</td>\n",
       "    </tr>\n",
       "    <tr>\n",
       "      <th>3</th>\n",
       "      <td>4000</td>\n",
       "      <td>55</td>\n",
       "      <td>0.707107</td>\n",
       "      <td>58.0</td>\n",
       "    </tr>\n",
       "    <tr>\n",
       "      <th>4</th>\n",
       "      <td>5000</td>\n",
       "      <td>80</td>\n",
       "      <td>1.414214</td>\n",
       "      <td>75.0</td>\n",
       "    </tr>\n",
       "  </tbody>\n",
       "</table>\n",
       "</div>"
      ],
      "text/plain": [
       "   mesin  harga   z mesin  harga\"\n",
       "0   1000     10 -1.414214     7.0\n",
       "1   2000     25 -0.707107    24.0\n",
       "2   3000     35  0.000000    41.0\n",
       "3   4000     55  0.707107    58.0\n",
       "4   5000     80  1.414214    75.0"
      ]
     },
     "execution_count": 104,
     "metadata": {},
     "output_type": "execute_result"
    }
   ],
   "source": [
    "df['harga\"'] = model.predict(df[['z mesin']])\n",
    "df"
   ]
  },
  {
   "cell_type": "code",
   "execution_count": 107,
   "metadata": {},
   "outputs": [
    {
     "data": {
      "text/plain": [
       "92.0"
      ]
     },
     "execution_count": 107,
     "metadata": {},
     "output_type": "execute_result"
    }
   ],
   "source": [
    "# prediksi harga untuk mesin 6000?\n",
    "model.predict(scaler.transform([[6000]]))[0]"
   ]
  },
  {
   "cell_type": "markdown",
   "metadata": {},
   "source": [
    "Exercise: [https://www.kaggle.com/harlfoxem/housesalesprediction](https://www.kaggle.com/harlfoxem/housesalesprediction)"
   ]
  }
 ],
 "metadata": {
  "kernelspec": {
   "display_name": "Python 3",
   "language": "python",
   "name": "python3"
  },
  "language_info": {
   "codemirror_mode": {
    "name": "ipython",
    "version": 3
   },
   "file_extension": ".py",
   "mimetype": "text/x-python",
   "name": "python",
   "nbconvert_exporter": "python",
   "pygments_lexer": "ipython3",
   "version": "3.8.1"
  }
 },
 "nbformat": 4,
 "nbformat_minor": 4
}
