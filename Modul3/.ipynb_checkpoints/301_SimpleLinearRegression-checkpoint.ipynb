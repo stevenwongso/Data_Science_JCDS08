{
 "cells": [
  {
   "cell_type": "code",
   "execution_count": 5,
   "metadata": {},
   "outputs": [],
   "source": [
    "import pandas as pd\n",
    "import numpy as np\n",
    "import matplotlib.pyplot as plt"
   ]
  },
  {
   "cell_type": "code",
   "execution_count": 12,
   "metadata": {},
   "outputs": [
    {
     "data": {
      "text/html": [
       "<div>\n",
       "<style scoped>\n",
       "    .dataframe tbody tr th:only-of-type {\n",
       "        vertical-align: middle;\n",
       "    }\n",
       "\n",
       "    .dataframe tbody tr th {\n",
       "        vertical-align: top;\n",
       "    }\n",
       "\n",
       "    .dataframe thead th {\n",
       "        text-align: right;\n",
       "    }\n",
       "</style>\n",
       "<table border=\"1\" class=\"dataframe\">\n",
       "  <thead>\n",
       "    <tr style=\"text-align: right;\">\n",
       "      <th></th>\n",
       "      <th>harga</th>\n",
       "      <th>tahun</th>\n",
       "    </tr>\n",
       "  </thead>\n",
       "  <tbody>\n",
       "    <tr>\n",
       "      <th>0</th>\n",
       "      <td>50</td>\n",
       "      <td>2010</td>\n",
       "    </tr>\n",
       "    <tr>\n",
       "      <th>1</th>\n",
       "      <td>60</td>\n",
       "      <td>2011</td>\n",
       "    </tr>\n",
       "    <tr>\n",
       "      <th>2</th>\n",
       "      <td>70</td>\n",
       "      <td>2012</td>\n",
       "    </tr>\n",
       "    <tr>\n",
       "      <th>3</th>\n",
       "      <td>80</td>\n",
       "      <td>2013</td>\n",
       "    </tr>\n",
       "    <tr>\n",
       "      <th>4</th>\n",
       "      <td>90</td>\n",
       "      <td>2014</td>\n",
       "    </tr>\n",
       "    <tr>\n",
       "      <th>5</th>\n",
       "      <td>100</td>\n",
       "      <td>2015</td>\n",
       "    </tr>\n",
       "  </tbody>\n",
       "</table>\n",
       "</div>"
      ],
      "text/plain": [
       "   harga  tahun\n",
       "0     50   2010\n",
       "1     60   2011\n",
       "2     70   2012\n",
       "3     80   2013\n",
       "4     90   2014\n",
       "5    100   2015"
      ]
     },
     "execution_count": 12,
     "metadata": {},
     "output_type": "execute_result"
    }
   ],
   "source": [
    "df = pd.DataFrame({\n",
    "    'harga': [50, 60, 70, 80, 90, 100],\n",
    "    'tahun': [2010, 2011, 2012, 2013, 2014, 2015]\n",
    "})\n",
    "df"
   ]
  },
  {
   "cell_type": "code",
   "execution_count": null,
   "metadata": {},
   "outputs": [],
   "source": [
    "# Berapa harga kijang tahun 2020? Prediksi = 2020 harga 150jt"
   ]
  },
  {
   "cell_type": "code",
   "execution_count": 11,
   "metadata": {},
   "outputs": [
    {
     "data": {
      "image/png": "[encoded data removed]",
      "text/plain": [
       "<Figure size 432x288 with 1 Axes>"
      ]
     },
     "metadata": {
      "needs_background": "light"
     },
     "output_type": "display_data"
    }
   ],
   "source": [
    "plt.plot(df['tahun'], df['harga'], 'ro-')\n",
    "plt.show()"
   ]
  },
  {
   "cell_type": "markdown",
   "metadata": {},
   "source": [
    "# Regresi Linear\n",
    "\n",
    "Best fit line y = mx + c, m = ?, c = ?\n",
    "\n",
    "Gradient/Slope $\\displaystyle m = \\frac {(n \\times \\sum(x y)) - (\\sum(x) \\times \\sum(y))} {(n \\times \\sum(x^2)) - (\\sum(x)^2)} $\n",
    "\n",
    "Intercept $\\displaystyle c = \\frac {(\\sum(y) \\times \\sum(x^2)) - (\\sum(x) \\times \\sum(x y))} {(n \\times \\sum(x^2)) - (\\sum(x)^2)} $"
   ]
  },
  {
   "cell_type": "code",
   "execution_count": 17,
   "metadata": {},
   "outputs": [
    {
     "data": {
      "text/html": [
       "<div>\n",
       "<style scoped>\n",
       "    .dataframe tbody tr th:only-of-type {\n",
       "        vertical-align: middle;\n",
       "    }\n",
       "\n",
       "    .dataframe tbody tr th {\n",
       "        vertical-align: top;\n",
       "    }\n",
       "\n",
       "    .dataframe thead th {\n",
       "        text-align: right;\n",
       "    }\n",
       "</style>\n",
       "<table border=\"1\" class=\"dataframe\">\n",
       "  <thead>\n",
       "    <tr style=\"text-align: right;\">\n",
       "      <th></th>\n",
       "      <th>tahun</th>\n",
       "      <th>harga</th>\n",
       "      <th>xy</th>\n",
       "      <th>x2</th>\n",
       "      <th>y2</th>\n",
       "    </tr>\n",
       "  </thead>\n",
       "  <tbody>\n",
       "    <tr>\n",
       "      <th>0</th>\n",
       "      <td>2010</td>\n",
       "      <td>50</td>\n",
       "      <td>100500</td>\n",
       "      <td>4040100</td>\n",
       "      <td>2500</td>\n",
       "    </tr>\n",
       "    <tr>\n",
       "      <th>1</th>\n",
       "      <td>2011</td>\n",
       "      <td>60</td>\n",
       "      <td>120660</td>\n",
       "      <td>4044121</td>\n",
       "      <td>3600</td>\n",
       "    </tr>\n",
       "    <tr>\n",
       "      <th>2</th>\n",
       "      <td>2012</td>\n",
       "      <td>70</td>\n",
       "      <td>140840</td>\n",
       "      <td>4048144</td>\n",
       "      <td>4900</td>\n",
       "    </tr>\n",
       "    <tr>\n",
       "      <th>3</th>\n",
       "      <td>2013</td>\n",
       "      <td>80</td>\n",
       "      <td>161040</td>\n",
       "      <td>4052169</td>\n",
       "      <td>6400</td>\n",
       "    </tr>\n",
       "    <tr>\n",
       "      <th>4</th>\n",
       "      <td>2014</td>\n",
       "      <td>90</td>\n",
       "      <td>181260</td>\n",
       "      <td>4056196</td>\n",
       "      <td>8100</td>\n",
       "    </tr>\n",
       "    <tr>\n",
       "      <th>5</th>\n",
       "      <td>2015</td>\n",
       "      <td>100</td>\n",
       "      <td>201500</td>\n",
       "      <td>4060225</td>\n",
       "      <td>10000</td>\n",
       "    </tr>\n",
       "  </tbody>\n",
       "</table>\n",
       "</div>"
      ],
      "text/plain": [
       "   tahun  harga      xy       x2     y2\n",
       "0   2010     50  100500  4040100   2500\n",
       "1   2011     60  120660  4044121   3600\n",
       "2   2012     70  140840  4048144   4900\n",
       "3   2013     80  161040  4052169   6400\n",
       "4   2014     90  181260  4056196   8100\n",
       "5   2015    100  201500  4060225  10000"
      ]
     },
     "execution_count": 17,
     "metadata": {},
     "output_type": "execute_result"
    }
   ],
   "source": [
    "df = df[['tahun', 'harga']]\n",
    "df['xy'] = df['tahun'] * df['harga']\n",
    "df['x2'] = df['tahun'] ** 2\n",
    "df['y2'] = df['harga'] ** 2\n",
    "df"
   ]
  },
  {
   "cell_type": "code",
   "execution_count": 20,
   "metadata": {},
   "outputs": [
    {
     "data": {
      "text/plain": [
       "(6, 12075, 450, 905800, 24300955, 35500)"
      ]
     },
     "execution_count": 20,
     "metadata": {},
     "output_type": "execute_result"
    }
   ],
   "source": [
    "n = df['tahun'].count()\n",
    "sumX = df['tahun'].sum()\n",
    "sumY = df['harga'].sum()\n",
    "sumXY = df['xy'].sum()\n",
    "sumX2 = df['x2'].sum()\n",
    "sumY2 = df['y2'].sum()\n",
    "n, sumX, sumY, sumXY, sumX2, sumY2"
   ]
  },
  {
   "cell_type": "code",
   "execution_count": 21,
   "metadata": {},
   "outputs": [
    {
     "data": {
      "text/plain": [
       "10.0"
      ]
     },
     "execution_count": 21,
     "metadata": {},
     "output_type": "execute_result"
    }
   ],
   "source": [
    "# gradien/slope/m\n",
    "\n",
    "m = ((n * sumXY) - (sumX * sumY)) / ((n * sumX2) - (sumX ** 2))\n",
    "m"
   ]
  },
  {
   "cell_type": "code",
   "execution_count": 22,
   "metadata": {},
   "outputs": [
    {
     "data": {
      "text/plain": [
       "-20050.0"
      ]
     },
     "execution_count": 22,
     "metadata": {},
     "output_type": "execute_result"
    }
   ],
   "source": [
    "# intercept/c\n",
    "\n",
    "c = ((sumY * sumX2) - (sumX * sumXY)) / ((n * sumX2) - (sumX ** 2))\n",
    "c"
   ]
  },
  {
   "cell_type": "code",
   "execution_count": 25,
   "metadata": {},
   "outputs": [
    {
     "data": {
      "text/plain": [
       "150.0"
      ]
     },
     "execution_count": 25,
     "metadata": {},
     "output_type": "execute_result"
    }
   ],
   "source": [
    "# berapa harga (y) kijang saat tahun (x) = 2020?\n",
    "y = m * 2020 + c\n",
    "y"
   ]
  },
  {
   "cell_type": "markdown",
   "metadata": {},
   "source": [
    "# New Data"
   ]
  },
  {
   "cell_type": "code",
   "execution_count": 46,
   "metadata": {},
   "outputs": [],
   "source": [
    "df = pd.DataFrame({\n",
    "    'harga': [56, 80, 95, 92, 106, 112],\n",
    "    'tahun': [2010, 2011, 2012, 2013, 2014, 2015]\n",
    "})"
   ]
  },
  {
   "cell_type": "code",
   "execution_count": 47,
   "metadata": {},
   "outputs": [
    {
     "data": {
      "image/png": "[encoded data removed]",
      "text/plain": [
       "<Figure size 432x288 with 1 Axes>"
      ]
     },
     "metadata": {
      "needs_background": "light"
     },
     "output_type": "display_data"
    }
   ],
   "source": [
    "plt.plot(df['tahun'], df['harga'], 'bo-')\n",
    "plt.show()"
   ]
  },
  {
   "cell_type": "code",
   "execution_count": 48,
   "metadata": {},
   "outputs": [
    {
     "data": {
      "text/html": [
       "<div>\n",
       "<style scoped>\n",
       "    .dataframe tbody tr th:only-of-type {\n",
       "        vertical-align: middle;\n",
       "    }\n",
       "\n",
       "    .dataframe tbody tr th {\n",
       "        vertical-align: top;\n",
       "    }\n",
       "\n",
       "    .dataframe thead th {\n",
       "        text-align: right;\n",
       "    }\n",
       "</style>\n",
       "<table border=\"1\" class=\"dataframe\">\n",
       "  <thead>\n",
       "    <tr style=\"text-align: right;\">\n",
       "      <th></th>\n",
       "      <th>tahun</th>\n",
       "      <th>harga</th>\n",
       "      <th>xy</th>\n",
       "      <th>x2</th>\n",
       "      <th>y2</th>\n",
       "    </tr>\n",
       "  </thead>\n",
       "  <tbody>\n",
       "    <tr>\n",
       "      <th>0</th>\n",
       "      <td>2010</td>\n",
       "      <td>56</td>\n",
       "      <td>112560</td>\n",
       "      <td>4040100</td>\n",
       "      <td>3136</td>\n",
       "    </tr>\n",
       "    <tr>\n",
       "      <th>1</th>\n",
       "      <td>2011</td>\n",
       "      <td>80</td>\n",
       "      <td>160880</td>\n",
       "      <td>4044121</td>\n",
       "      <td>6400</td>\n",
       "    </tr>\n",
       "    <tr>\n",
       "      <th>2</th>\n",
       "      <td>2012</td>\n",
       "      <td>95</td>\n",
       "      <td>191140</td>\n",
       "      <td>4048144</td>\n",
       "      <td>9025</td>\n",
       "    </tr>\n",
       "    <tr>\n",
       "      <th>3</th>\n",
       "      <td>2013</td>\n",
       "      <td>92</td>\n",
       "      <td>185196</td>\n",
       "      <td>4052169</td>\n",
       "      <td>8464</td>\n",
       "    </tr>\n",
       "    <tr>\n",
       "      <th>4</th>\n",
       "      <td>2014</td>\n",
       "      <td>106</td>\n",
       "      <td>213484</td>\n",
       "      <td>4056196</td>\n",
       "      <td>11236</td>\n",
       "    </tr>\n",
       "    <tr>\n",
       "      <th>5</th>\n",
       "      <td>2015</td>\n",
       "      <td>112</td>\n",
       "      <td>225680</td>\n",
       "      <td>4060225</td>\n",
       "      <td>12544</td>\n",
       "    </tr>\n",
       "  </tbody>\n",
       "</table>\n",
       "</div>"
      ],
      "text/plain": [
       "   tahun  harga      xy       x2     y2\n",
       "0   2010     56  112560  4040100   3136\n",
       "1   2011     80  160880  4044121   6400\n",
       "2   2012     95  191140  4048144   9025\n",
       "3   2013     92  185196  4052169   8464\n",
       "4   2014    106  213484  4056196  11236\n",
       "5   2015    112  225680  4060225  12544"
      ]
     },
     "execution_count": 48,
     "metadata": {},
     "output_type": "execute_result"
    }
   ],
   "source": [
    "df = df[['tahun', 'harga']]\n",
    "df['xy'] = df['tahun'] * df['harga']\n",
    "df['x2'] = df['tahun'] ** 2\n",
    "df['y2'] = df['harga'] ** 2\n",
    "df"
   ]
  },
  {
   "cell_type": "code",
   "execution_count": 49,
   "metadata": {},
   "outputs": [
    {
     "data": {
      "text/plain": [
       "(6, 12075, 541, 1088940, 24300955, 50805)"
      ]
     },
     "execution_count": 49,
     "metadata": {},
     "output_type": "execute_result"
    }
   ],
   "source": [
    "n = df['tahun'].count()\n",
    "sumX = df['tahun'].sum()\n",
    "sumY = df['harga'].sum()\n",
    "sumXY = df['xy'].sum()\n",
    "sumX2 = df['x2'].sum()\n",
    "sumY2 = df['y2'].sum()\n",
    "n, sumX, sumY, sumXY, sumX2, sumY2"
   ]
  },
  {
   "cell_type": "code",
   "execution_count": 50,
   "metadata": {},
   "outputs": [
    {
     "data": {
      "text/plain": [
       "10.142857142857142"
      ]
     },
     "execution_count": 50,
     "metadata": {},
     "output_type": "execute_result"
    }
   ],
   "source": [
    "# gradien/slope/m\n",
    "\n",
    "m = ((n * sumXY) - (sumX * sumY)) / ((n * sumX2) - (sumX ** 2))\n",
    "m"
   ]
  },
  {
   "cell_type": "code",
   "execution_count": 51,
   "metadata": {},
   "outputs": [
    {
     "data": {
      "text/plain": [
       "-20322.333333333332"
      ]
     },
     "execution_count": 51,
     "metadata": {},
     "output_type": "execute_result"
    }
   ],
   "source": [
    "# intercept/c\n",
    "\n",
    "c = ((sumY * sumX2) - (sumX * sumXY)) / ((n * sumX2) - (sumX ** 2))\n",
    "c"
   ]
  },
  {
   "cell_type": "code",
   "execution_count": 52,
   "metadata": {},
   "outputs": [
    {
     "data": {
      "text/plain": [
       "166.2380952380954"
      ]
     },
     "execution_count": 52,
     "metadata": {},
     "output_type": "execute_result"
    }
   ],
   "source": [
    "y = m * 2020 + c\n",
    "y"
   ]
  },
  {
   "cell_type": "code",
   "execution_count": 53,
   "metadata": {},
   "outputs": [
    {
     "data": {
      "text/html": [
       "<div>\n",
       "<style scoped>\n",
       "    .dataframe tbody tr th:only-of-type {\n",
       "        vertical-align: middle;\n",
       "    }\n",
       "\n",
       "    .dataframe tbody tr th {\n",
       "        vertical-align: top;\n",
       "    }\n",
       "\n",
       "    .dataframe thead th {\n",
       "        text-align: right;\n",
       "    }\n",
       "</style>\n",
       "<table border=\"1\" class=\"dataframe\">\n",
       "  <thead>\n",
       "    <tr style=\"text-align: right;\">\n",
       "      <th></th>\n",
       "      <th>tahun</th>\n",
       "      <th>harga</th>\n",
       "      <th>xy</th>\n",
       "      <th>x2</th>\n",
       "      <th>y2</th>\n",
       "      <th>harga y\"</th>\n",
       "    </tr>\n",
       "  </thead>\n",
       "  <tbody>\n",
       "    <tr>\n",
       "      <th>0</th>\n",
       "      <td>2010</td>\n",
       "      <td>56</td>\n",
       "      <td>112560</td>\n",
       "      <td>4040100</td>\n",
       "      <td>3136</td>\n",
       "      <td>64.809524</td>\n",
       "    </tr>\n",
       "    <tr>\n",
       "      <th>1</th>\n",
       "      <td>2011</td>\n",
       "      <td>80</td>\n",
       "      <td>160880</td>\n",
       "      <td>4044121</td>\n",
       "      <td>6400</td>\n",
       "      <td>74.952381</td>\n",
       "    </tr>\n",
       "    <tr>\n",
       "      <th>2</th>\n",
       "      <td>2012</td>\n",
       "      <td>95</td>\n",
       "      <td>191140</td>\n",
       "      <td>4048144</td>\n",
       "      <td>9025</td>\n",
       "      <td>85.095238</td>\n",
       "    </tr>\n",
       "    <tr>\n",
       "      <th>3</th>\n",
       "      <td>2013</td>\n",
       "      <td>92</td>\n",
       "      <td>185196</td>\n",
       "      <td>4052169</td>\n",
       "      <td>8464</td>\n",
       "      <td>95.238095</td>\n",
       "    </tr>\n",
       "    <tr>\n",
       "      <th>4</th>\n",
       "      <td>2014</td>\n",
       "      <td>106</td>\n",
       "      <td>213484</td>\n",
       "      <td>4056196</td>\n",
       "      <td>11236</td>\n",
       "      <td>105.380952</td>\n",
       "    </tr>\n",
       "    <tr>\n",
       "      <th>5</th>\n",
       "      <td>2015</td>\n",
       "      <td>112</td>\n",
       "      <td>225680</td>\n",
       "      <td>4060225</td>\n",
       "      <td>12544</td>\n",
       "      <td>115.523810</td>\n",
       "    </tr>\n",
       "  </tbody>\n",
       "</table>\n",
       "</div>"
      ],
      "text/plain": [
       "   tahun  harga      xy       x2     y2    harga y\"\n",
       "0   2010     56  112560  4040100   3136   64.809524\n",
       "1   2011     80  160880  4044121   6400   74.952381\n",
       "2   2012     95  191140  4048144   9025   85.095238\n",
       "3   2013     92  185196  4052169   8464   95.238095\n",
       "4   2014    106  213484  4056196  11236  105.380952\n",
       "5   2015    112  225680  4060225  12544  115.523810"
      ]
     },
     "execution_count": 53,
     "metadata": {},
     "output_type": "execute_result"
    }
   ],
   "source": [
    "df['harga y\"'] = m * df['tahun'] + c\n",
    "df"
   ]
  },
  {
   "cell_type": "code",
   "execution_count": 54,
   "metadata": {},
   "outputs": [
    {
     "data": {
      "image/png": "[encoded data removed]",
      "text/plain": [
       "<Figure size 432x288 with 1 Axes>"
      ]
     },
     "metadata": {
      "needs_background": "light"
     },
     "output_type": "display_data"
    }
   ],
   "source": [
    "plt.plot(df['tahun'], df['harga'], 'bo-')\n",
    "plt.plot(df['tahun'], df['harga y\"'], 'y-')\n",
    "plt.show()"
   ]
  },
  {
   "cell_type": "markdown",
   "metadata": {},
   "source": [
    "# Using Sklearn"
   ]
  },
  {
   "cell_type": "code",
   "execution_count": 55,
   "metadata": {},
   "outputs": [
    {
     "data": {
      "text/html": [
       "<div>\n",
       "<style scoped>\n",
       "    .dataframe tbody tr th:only-of-type {\n",
       "        vertical-align: middle;\n",
       "    }\n",
       "\n",
       "    .dataframe tbody tr th {\n",
       "        vertical-align: top;\n",
       "    }\n",
       "\n",
       "    .dataframe thead th {\n",
       "        text-align: right;\n",
       "    }\n",
       "</style>\n",
       "<table border=\"1\" class=\"dataframe\">\n",
       "  <thead>\n",
       "    <tr style=\"text-align: right;\">\n",
       "      <th></th>\n",
       "      <th>tahun</th>\n",
       "      <th>harga</th>\n",
       "      <th>xy</th>\n",
       "      <th>x2</th>\n",
       "      <th>y2</th>\n",
       "      <th>harga y\"</th>\n",
       "    </tr>\n",
       "  </thead>\n",
       "  <tbody>\n",
       "    <tr>\n",
       "      <th>0</th>\n",
       "      <td>2010</td>\n",
       "      <td>56</td>\n",
       "      <td>112560</td>\n",
       "      <td>4040100</td>\n",
       "      <td>3136</td>\n",
       "      <td>64.809524</td>\n",
       "    </tr>\n",
       "    <tr>\n",
       "      <th>1</th>\n",
       "      <td>2011</td>\n",
       "      <td>80</td>\n",
       "      <td>160880</td>\n",
       "      <td>4044121</td>\n",
       "      <td>6400</td>\n",
       "      <td>74.952381</td>\n",
       "    </tr>\n",
       "    <tr>\n",
       "      <th>2</th>\n",
       "      <td>2012</td>\n",
       "      <td>95</td>\n",
       "      <td>191140</td>\n",
       "      <td>4048144</td>\n",
       "      <td>9025</td>\n",
       "      <td>85.095238</td>\n",
       "    </tr>\n",
       "    <tr>\n",
       "      <th>3</th>\n",
       "      <td>2013</td>\n",
       "      <td>92</td>\n",
       "      <td>185196</td>\n",
       "      <td>4052169</td>\n",
       "      <td>8464</td>\n",
       "      <td>95.238095</td>\n",
       "    </tr>\n",
       "    <tr>\n",
       "      <th>4</th>\n",
       "      <td>2014</td>\n",
       "      <td>106</td>\n",
       "      <td>213484</td>\n",
       "      <td>4056196</td>\n",
       "      <td>11236</td>\n",
       "      <td>105.380952</td>\n",
       "    </tr>\n",
       "    <tr>\n",
       "      <th>5</th>\n",
       "      <td>2015</td>\n",
       "      <td>112</td>\n",
       "      <td>225680</td>\n",
       "      <td>4060225</td>\n",
       "      <td>12544</td>\n",
       "      <td>115.523810</td>\n",
       "    </tr>\n",
       "  </tbody>\n",
       "</table>\n",
       "</div>"
      ],
      "text/plain": [
       "   tahun  harga      xy       x2     y2    harga y\"\n",
       "0   2010     56  112560  4040100   3136   64.809524\n",
       "1   2011     80  160880  4044121   6400   74.952381\n",
       "2   2012     95  191140  4048144   9025   85.095238\n",
       "3   2013     92  185196  4052169   8464   95.238095\n",
       "4   2014    106  213484  4056196  11236  105.380952\n",
       "5   2015    112  225680  4060225  12544  115.523810"
      ]
     },
     "execution_count": 55,
     "metadata": {},
     "output_type": "execute_result"
    }
   ],
   "source": [
    "df"
   ]
  },
  {
   "cell_type": "code",
   "execution_count": 66,
   "metadata": {},
   "outputs": [],
   "source": [
    "from sklearn.linear_model import LinearRegression"
   ]
  },
  {
   "cell_type": "code",
   "execution_count": 71,
   "metadata": {},
   "outputs": [
    {
     "data": {
      "text/plain": [
       "LinearRegression(copy_X=True, fit_intercept=True, n_jobs=None, normalize=False)"
      ]
     },
     "execution_count": 71,
     "metadata": {},
     "output_type": "execute_result"
    }
   ],
   "source": [
    "model = LinearRegression()\n",
    "\n",
    "# training\n",
    "# .fit(independent var / features (x val) 2d, dependant var / target 1d)\n",
    "model.fit(df[['tahun']], df['harga'])"
   ]
  },
  {
   "cell_type": "code",
   "execution_count": 68,
   "metadata": {},
   "outputs": [
    {
     "data": {
      "text/plain": [
       "(10.142857142857144, -20322.333333333336)"
      ]
     },
     "execution_count": 68,
     "metadata": {},
     "output_type": "execute_result"
    }
   ],
   "source": [
    "# gradient/slope m & intercept c\n",
    "m = model.coef_[0]\n",
    "c = model.intercept_\n",
    "m, c"
   ]
  },
  {
   "cell_type": "code",
   "execution_count": 63,
   "metadata": {},
   "outputs": [
    {
     "data": {
      "text/plain": [
       "166.2380952380954"
      ]
     },
     "execution_count": 63,
     "metadata": {},
     "output_type": "execute_result"
    }
   ],
   "source": [
    "model.predict([[2020]])[0]"
   ]
  },
  {
   "cell_type": "code",
   "execution_count": 69,
   "metadata": {},
   "outputs": [
    {
     "data": {
      "text/html": [
       "<div>\n",
       "<style scoped>\n",
       "    .dataframe tbody tr th:only-of-type {\n",
       "        vertical-align: middle;\n",
       "    }\n",
       "\n",
       "    .dataframe tbody tr th {\n",
       "        vertical-align: top;\n",
       "    }\n",
       "\n",
       "    .dataframe thead th {\n",
       "        text-align: right;\n",
       "    }\n",
       "</style>\n",
       "<table border=\"1\" class=\"dataframe\">\n",
       "  <thead>\n",
       "    <tr style=\"text-align: right;\">\n",
       "      <th></th>\n",
       "      <th>tahun</th>\n",
       "      <th>harga</th>\n",
       "      <th>xy</th>\n",
       "      <th>x2</th>\n",
       "      <th>y2</th>\n",
       "      <th>harga y\"</th>\n",
       "      <th>harga sklearn</th>\n",
       "      <th>harga sklearn\"</th>\n",
       "    </tr>\n",
       "  </thead>\n",
       "  <tbody>\n",
       "    <tr>\n",
       "      <th>0</th>\n",
       "      <td>2010</td>\n",
       "      <td>56</td>\n",
       "      <td>112560</td>\n",
       "      <td>4040100</td>\n",
       "      <td>3136</td>\n",
       "      <td>64.809524</td>\n",
       "      <td>64.809524</td>\n",
       "      <td>64.809524</td>\n",
       "    </tr>\n",
       "    <tr>\n",
       "      <th>1</th>\n",
       "      <td>2011</td>\n",
       "      <td>80</td>\n",
       "      <td>160880</td>\n",
       "      <td>4044121</td>\n",
       "      <td>6400</td>\n",
       "      <td>74.952381</td>\n",
       "      <td>74.952381</td>\n",
       "      <td>74.952381</td>\n",
       "    </tr>\n",
       "    <tr>\n",
       "      <th>2</th>\n",
       "      <td>2012</td>\n",
       "      <td>95</td>\n",
       "      <td>191140</td>\n",
       "      <td>4048144</td>\n",
       "      <td>9025</td>\n",
       "      <td>85.095238</td>\n",
       "      <td>85.095238</td>\n",
       "      <td>85.095238</td>\n",
       "    </tr>\n",
       "    <tr>\n",
       "      <th>3</th>\n",
       "      <td>2013</td>\n",
       "      <td>92</td>\n",
       "      <td>185196</td>\n",
       "      <td>4052169</td>\n",
       "      <td>8464</td>\n",
       "      <td>95.238095</td>\n",
       "      <td>95.238095</td>\n",
       "      <td>95.238095</td>\n",
       "    </tr>\n",
       "    <tr>\n",
       "      <th>4</th>\n",
       "      <td>2014</td>\n",
       "      <td>106</td>\n",
       "      <td>213484</td>\n",
       "      <td>4056196</td>\n",
       "      <td>11236</td>\n",
       "      <td>105.380952</td>\n",
       "      <td>105.380952</td>\n",
       "      <td>105.380952</td>\n",
       "    </tr>\n",
       "    <tr>\n",
       "      <th>5</th>\n",
       "      <td>2015</td>\n",
       "      <td>112</td>\n",
       "      <td>225680</td>\n",
       "      <td>4060225</td>\n",
       "      <td>12544</td>\n",
       "      <td>115.523810</td>\n",
       "      <td>115.523810</td>\n",
       "      <td>115.523810</td>\n",
       "    </tr>\n",
       "  </tbody>\n",
       "</table>\n",
       "</div>"
      ],
      "text/plain": [
       "   tahun  harga      xy       x2     y2    harga y\"  harga sklearn  \\\n",
       "0   2010     56  112560  4040100   3136   64.809524      64.809524   \n",
       "1   2011     80  160880  4044121   6400   74.952381      74.952381   \n",
       "2   2012     95  191140  4048144   9025   85.095238      85.095238   \n",
       "3   2013     92  185196  4052169   8464   95.238095      95.238095   \n",
       "4   2014    106  213484  4056196  11236  105.380952     105.380952   \n",
       "5   2015    112  225680  4060225  12544  115.523810     115.523810   \n",
       "\n",
       "   harga sklearn\"  \n",
       "0       64.809524  \n",
       "1       74.952381  \n",
       "2       85.095238  \n",
       "3       95.238095  \n",
       "4      105.380952  \n",
       "5      115.523810  "
      ]
     },
     "execution_count": 69,
     "metadata": {},
     "output_type": "execute_result"
    }
   ],
   "source": [
    "df['harga sklearn'] = model.coef_[0] * df['tahun'] + model.intercept_\n",
    "df['harga sklearn\"'] = model.predict(df[['tahun']])\n",
    "df"
   ]
  },
  {
   "cell_type": "code",
   "execution_count": null,
   "metadata": {},
   "outputs": [],
   "source": []
  }
 ],
 "metadata": {
  "kernelspec": {
   "display_name": "Python 3.8.1 32-bit",
   "language": "python",
   "name": "python38132bit17e97fd0e138494882eb6a23af8acc7d"
  },
  "language_info": {
   "codemirror_mode": {
    "name": "ipython",
    "version": 3
   },
   "file_extension": ".py",
   "mimetype": "text/x-python",
   "name": "python",
   "nbconvert_exporter": "python",
   "pygments_lexer": "ipython3",
   "version": "3.8.1"
  }
 },
 "nbformat": 4,
 "nbformat_minor": 4
}
