{
 "cells": [
  {
   "cell_type": "markdown",
   "metadata": {},
   "source": [
    "# Recommendation System\n",
    "\n",
    "- Top/Popular Based Filtering\n",
    "- Content Based Filtering\n",
    "- Collaborative Filtering\n",
    "\n",
    "<img src=\"https://miro.medium.com/max/4056/1*yrkvweErbifbPFkBUyZlOw.png\" \n",
    "     width=\"500px\">"
   ]
  },
  {
   "cell_type": "code",
   "execution_count": 1,
   "metadata": {},
   "outputs": [],
   "source": [
    "import numpy as np\n",
    "import pandas as pd"
   ]
  },
  {
   "cell_type": "markdown",
   "metadata": {},
   "source": [
    "<hr>\n",
    "\n",
    "### 2. Collaborative Filtering\n",
    "\n",
    "- Data yang dibutuhkan: history interaksi user dengan product, misal:\n",
    "    - _E-commerce_: history pembelian user, wishlist user, rating produk\n",
    "    - _Social media_: history views, likes, subscribes\n",
    "- Konsep dasarnya menggunakan formula correlation."
   ]
  },
  {
   "cell_type": "code",
   "execution_count": 4,
   "metadata": {},
   "outputs": [
    {
     "data": {
      "text/html": [
       "<div>\n",
       "<style scoped>\n",
       "    .dataframe tbody tr th:only-of-type {\n",
       "        vertical-align: middle;\n",
       "    }\n",
       "\n",
       "    .dataframe tbody tr th {\n",
       "        vertical-align: top;\n",
       "    }\n",
       "\n",
       "    .dataframe thead th {\n",
       "        text-align: right;\n",
       "    }\n",
       "</style>\n",
       "<table border=\"1\" class=\"dataframe\">\n",
       "  <thead>\n",
       "    <tr style=\"text-align: right;\">\n",
       "      <th></th>\n",
       "      <th>user</th>\n",
       "      <th>dapur1</th>\n",
       "      <th>dapur2</th>\n",
       "      <th>dapur3</th>\n",
       "      <th>sport1</th>\n",
       "      <th>sport2</th>\n",
       "      <th>sport3</th>\n",
       "    </tr>\n",
       "  </thead>\n",
       "  <tbody>\n",
       "    <tr>\n",
       "      <th>0</th>\n",
       "      <td>Andi</td>\n",
       "      <td>5</td>\n",
       "      <td>5</td>\n",
       "      <td>5</td>\n",
       "      <td>1</td>\n",
       "      <td>1</td>\n",
       "      <td>1</td>\n",
       "    </tr>\n",
       "    <tr>\n",
       "      <th>1</th>\n",
       "      <td>Budi</td>\n",
       "      <td>4</td>\n",
       "      <td>5</td>\n",
       "      <td>4</td>\n",
       "      <td>2</td>\n",
       "      <td>1</td>\n",
       "      <td>2</td>\n",
       "    </tr>\n",
       "    <tr>\n",
       "      <th>2</th>\n",
       "      <td>Caca</td>\n",
       "      <td>4</td>\n",
       "      <td>4</td>\n",
       "      <td>5</td>\n",
       "      <td>1</td>\n",
       "      <td>2</td>\n",
       "      <td>2</td>\n",
       "    </tr>\n",
       "    <tr>\n",
       "      <th>3</th>\n",
       "      <td>Deni</td>\n",
       "      <td>1</td>\n",
       "      <td>2</td>\n",
       "      <td>1</td>\n",
       "      <td>4</td>\n",
       "      <td>5</td>\n",
       "      <td>4</td>\n",
       "    </tr>\n",
       "    <tr>\n",
       "      <th>4</th>\n",
       "      <td>Euis</td>\n",
       "      <td>2</td>\n",
       "      <td>1</td>\n",
       "      <td>2</td>\n",
       "      <td>5</td>\n",
       "      <td>5</td>\n",
       "      <td>5</td>\n",
       "    </tr>\n",
       "  </tbody>\n",
       "</table>\n",
       "</div>"
      ],
      "text/plain": [
       "   user  dapur1  dapur2  dapur3  sport1  sport2  sport3\n",
       "0  Andi       5       5       5       1       1       1\n",
       "1  Budi       4       5       4       2       1       2\n",
       "2  Caca       4       4       5       1       2       2\n",
       "3  Deni       1       2       1       4       5       4\n",
       "4  Euis       2       1       2       5       5       5"
      ]
     },
     "execution_count": 4,
     "metadata": {},
     "output_type": "execute_result"
    }
   ],
   "source": [
    "# data dummy e-commerce, history rating produk dari user\n",
    "\n",
    "df = pd.DataFrame([\n",
    "    {'user':'Andi', 'dapur1':5, 'dapur2':5, 'dapur3':5, 'sport1':1, 'sport2':1, 'sport3':1},\n",
    "    {'user':'Budi', 'dapur1':4, 'dapur2':5, 'dapur3':4, 'sport1':2, 'sport2':1, 'sport3':2},\n",
    "    {'user':'Caca', 'dapur1':4, 'dapur2':4, 'dapur3':5, 'sport1':1, 'sport2':2, 'sport3':2},\n",
    "    {'user':'Deni', 'dapur1':1, 'dapur2':2, 'dapur3':1, 'sport1':4, 'sport2':5, 'sport3':4},\n",
    "    {'user':'Euis', 'dapur1':2, 'dapur2':1, 'dapur3':2, 'sport1':5, 'sport2':5, 'sport3':5},\n",
    "])\n",
    "df"
   ]
  },
  {
   "cell_type": "code",
   "execution_count": 5,
   "metadata": {},
   "outputs": [
    {
     "data": {
      "text/html": [
       "<div>\n",
       "<style scoped>\n",
       "    .dataframe tbody tr th:only-of-type {\n",
       "        vertical-align: middle;\n",
       "    }\n",
       "\n",
       "    .dataframe tbody tr th {\n",
       "        vertical-align: top;\n",
       "    }\n",
       "\n",
       "    .dataframe thead th {\n",
       "        text-align: right;\n",
       "    }\n",
       "</style>\n",
       "<table border=\"1\" class=\"dataframe\">\n",
       "  <thead>\n",
       "    <tr style=\"text-align: right;\">\n",
       "      <th></th>\n",
       "      <th>dapur1</th>\n",
       "      <th>dapur2</th>\n",
       "      <th>dapur3</th>\n",
       "      <th>sport1</th>\n",
       "      <th>sport2</th>\n",
       "      <th>sport3</th>\n",
       "    </tr>\n",
       "  </thead>\n",
       "  <tbody>\n",
       "    <tr>\n",
       "      <th>dapur1</th>\n",
       "      <td>1.000000</td>\n",
       "      <td>0.887783</td>\n",
       "      <td>0.971537</td>\n",
       "      <td>-0.887783</td>\n",
       "      <td>-0.950262</td>\n",
       "      <td>-0.907407</td>\n",
       "    </tr>\n",
       "    <tr>\n",
       "      <th>dapur2</th>\n",
       "      <td>0.887783</td>\n",
       "      <td>1.000000</td>\n",
       "      <td>0.848485</td>\n",
       "      <td>-0.924242</td>\n",
       "      <td>-0.980418</td>\n",
       "      <td>-0.971537</td>\n",
       "    </tr>\n",
       "    <tr>\n",
       "      <th>dapur3</th>\n",
       "      <td>0.971537</td>\n",
       "      <td>0.848485</td>\n",
       "      <td>1.000000</td>\n",
       "      <td>-0.924242</td>\n",
       "      <td>-0.913266</td>\n",
       "      <td>-0.887783</td>\n",
       "    </tr>\n",
       "    <tr>\n",
       "      <th>sport1</th>\n",
       "      <td>-0.887783</td>\n",
       "      <td>-0.924242</td>\n",
       "      <td>-0.924242</td>\n",
       "      <td>1.000000</td>\n",
       "      <td>0.913266</td>\n",
       "      <td>0.971537</td>\n",
       "    </tr>\n",
       "    <tr>\n",
       "      <th>sport2</th>\n",
       "      <td>-0.950262</td>\n",
       "      <td>-0.980418</td>\n",
       "      <td>-0.913266</td>\n",
       "      <td>0.913266</td>\n",
       "      <td>1.000000</td>\n",
       "      <td>0.950262</td>\n",
       "    </tr>\n",
       "    <tr>\n",
       "      <th>sport3</th>\n",
       "      <td>-0.907407</td>\n",
       "      <td>-0.971537</td>\n",
       "      <td>-0.887783</td>\n",
       "      <td>0.971537</td>\n",
       "      <td>0.950262</td>\n",
       "      <td>1.000000</td>\n",
       "    </tr>\n",
       "  </tbody>\n",
       "</table>\n",
       "</div>"
      ],
      "text/plain": [
       "          dapur1    dapur2    dapur3    sport1    sport2    sport3\n",
       "dapur1  1.000000  0.887783  0.971537 -0.887783 -0.950262 -0.907407\n",
       "dapur2  0.887783  1.000000  0.848485 -0.924242 -0.980418 -0.971537\n",
       "dapur3  0.971537  0.848485  1.000000 -0.924242 -0.913266 -0.887783\n",
       "sport1 -0.887783 -0.924242 -0.924242  1.000000  0.913266  0.971537\n",
       "sport2 -0.950262 -0.980418 -0.913266  0.913266  1.000000  0.950262\n",
       "sport3 -0.907407 -0.971537 -0.887783  0.971537  0.950262  1.000000"
      ]
     },
     "execution_count": 5,
     "metadata": {},
     "output_type": "execute_result"
    }
   ],
   "source": [
    "# correlation pearson\n",
    "\n",
    "dfCorr = df.corr()  # df.corr(method='pearson')\n",
    "dfCorr"
   ]
  },
  {
   "cell_type": "code",
   "execution_count": 6,
   "metadata": {},
   "outputs": [],
   "source": [
    "# rekomendasi untuk Fafa: beli 'dapur1' rating yang diberikan = 5\n",
    "\n",
    "Fafa = ['dapur1', 5]"
   ]
  },
  {
   "cell_type": "code",
   "execution_count": 9,
   "metadata": {},
   "outputs": [
    {
     "data": {
      "text/plain": [
       "dapur1    5.000000\n",
       "dapur2    4.438917\n",
       "dapur3    4.857683\n",
       "sport1   -4.438917\n",
       "sport2   -4.751311\n",
       "sport3   -4.537037\n",
       "Name: dapur1, dtype: float64"
      ]
     },
     "execution_count": 9,
     "metadata": {},
     "output_type": "execute_result"
    }
   ],
   "source": [
    "# similarity score berdasarkan correlation matrix\n",
    "\n",
    "skor = dfCorr[Fafa[0]] * Fafa[1]\n",
    "skor"
   ]
  },
  {
   "cell_type": "code",
   "execution_count": 15,
   "metadata": {},
   "outputs": [],
   "source": [
    "# rekomendasi untuk Gina: beli 'dapur1':3, 'sport1':3, 'sport3':3\n",
    "\n",
    "Gina = [['dapur1', 3], ['sport1', 3], ['sport3', 3]]"
   ]
  },
  {
   "cell_type": "code",
   "execution_count": 26,
   "metadata": {},
   "outputs": [
    {
     "data": {
      "text/html": [
       "<div>\n",
       "<style scoped>\n",
       "    .dataframe tbody tr th:only-of-type {\n",
       "        vertical-align: middle;\n",
       "    }\n",
       "\n",
       "    .dataframe tbody tr th {\n",
       "        vertical-align: top;\n",
       "    }\n",
       "\n",
       "    .dataframe thead th {\n",
       "        text-align: right;\n",
       "    }\n",
       "</style>\n",
       "<table border=\"1\" class=\"dataframe\">\n",
       "  <thead>\n",
       "    <tr style=\"text-align: right;\">\n",
       "      <th></th>\n",
       "      <th>dapur1</th>\n",
       "      <th>dapur2</th>\n",
       "      <th>dapur3</th>\n",
       "      <th>sport1</th>\n",
       "      <th>sport2</th>\n",
       "      <th>sport3</th>\n",
       "    </tr>\n",
       "  </thead>\n",
       "  <tbody>\n",
       "    <tr>\n",
       "      <th>dapur1</th>\n",
       "      <td>0.600000</td>\n",
       "      <td>0.532670</td>\n",
       "      <td>0.582922</td>\n",
       "      <td>-0.532670</td>\n",
       "      <td>-0.570157</td>\n",
       "      <td>-0.544444</td>\n",
       "    </tr>\n",
       "    <tr>\n",
       "      <th>sport1</th>\n",
       "      <td>-0.532670</td>\n",
       "      <td>-0.554545</td>\n",
       "      <td>-0.554545</td>\n",
       "      <td>0.600000</td>\n",
       "      <td>0.547960</td>\n",
       "      <td>0.582922</td>\n",
       "    </tr>\n",
       "    <tr>\n",
       "      <th>sport3</th>\n",
       "      <td>-0.544444</td>\n",
       "      <td>-0.582922</td>\n",
       "      <td>-0.532670</td>\n",
       "      <td>0.582922</td>\n",
       "      <td>0.570157</td>\n",
       "      <td>0.600000</td>\n",
       "    </tr>\n",
       "  </tbody>\n",
       "</table>\n",
       "</div>"
      ],
      "text/plain": [
       "          dapur1    dapur2    dapur3    sport1    sport2    sport3\n",
       "dapur1  0.600000  0.532670  0.582922 -0.532670 -0.570157 -0.544444\n",
       "sport1 -0.532670 -0.554545 -0.554545  0.600000  0.547960  0.582922\n",
       "sport3 -0.544444 -0.582922 -0.532670  0.582922  0.570157  0.600000"
      ]
     },
     "execution_count": 26,
     "metadata": {},
     "output_type": "execute_result"
    }
   ],
   "source": [
    "# similarity score berdasarkan correlation matrix\n",
    "\n",
    "dfSkor = pd.DataFrame()\n",
    "for produk, rating in Gina:\n",
    "    # skor = dfCorr[produk] * rating          # range skor: -5 s/d 5\n",
    "    skor = dfCorr[produk] * (rating / 5)      # range skor: -1 s/d 1\n",
    "    skor = skor.sort_values(ascending=False)\n",
    "    dfSkor = dfSkor.append(skor)\n",
    "dfSkor"
   ]
  },
  {
   "cell_type": "code",
   "execution_count": 28,
   "metadata": {},
   "outputs": [
    {
     "data": {
      "text/plain": [
       "sport1    0.650252\n",
       "sport3    0.638477\n",
       "sport2    0.547960\n",
       "dapur1   -0.477114\n",
       "dapur3   -0.504294\n",
       "dapur2   -0.604797\n",
       "dtype: float64"
      ]
     },
     "execution_count": 28,
     "metadata": {},
     "output_type": "execute_result"
    }
   ],
   "source": [
    "# rekomendasi\n",
    "\n",
    "dfSkor.sum().sort_values(ascending=False)"
   ]
  }
 ],
 "metadata": {
  "kernelspec": {
   "display_name": "Python 3.8.1 32-bit",
   "language": "python",
   "name": "python38132bit17e97fd0e138494882eb6a23af8acc7d"
  },
  "language_info": {
   "codemirror_mode": {
    "name": "ipython",
    "version": 3
   },
   "file_extension": ".py",
   "mimetype": "text/x-python",
   "name": "python",
   "nbconvert_exporter": "python",
   "pygments_lexer": "ipython3",
   "version": "3.8.1"
  }
 },
 "nbformat": 4,
 "nbformat_minor": 4
}
