{
 "cells": [
  {
   "cell_type": "code",
   "execution_count": 1,
   "metadata": {},
   "outputs": [],
   "source": [
    "import pandas as pd\n",
    "import numpy as np\n",
    "import matplotlib.pyplot as plt\n",
    "import seaborn as sb"
   ]
  },
  {
   "cell_type": "markdown",
   "metadata": {},
   "source": [
    "# Evaluation Matrix from Classification"
   ]
  },
  {
   "cell_type": "markdown",
   "metadata": {},
   "source": [
    "<hr>\n",
    "\n",
    "### 1. Confusion Matrix\n",
    "\n",
    "- Cross table yang menampilkan jumlah data antara : y actual (true), y actual (false), y prediksi (true), y prediksi (false)"
   ]
  },
  {
   "cell_type": "code",
   "execution_count": 2,
   "metadata": {},
   "outputs": [],
   "source": [
    "# Misal data aktual = y, prediksi model = yp\n",
    "y = ['Yes', 'No', 'Yes', 'No', 'Yes', 'No']\n",
    "yp = ['Yes', 'Yes', 'Yes', 'No', 'Yes','Yes']"
   ]
  },
  {
   "cell_type": "markdown",
   "metadata": {},
   "source": [
    "Confusion Matrix\n",
    "\n",
    "-|Pred \"Yes\"|Pred \"No\"|\n",
    "---|---|---\n",
    "__Aktual \"Yes\"__|__3__|__0__|\n",
    "__Aktual \"No\"__|__2__|__1__|\n",
    "\n",
    "\n",
    "- __True__ : data prediksi == data aktual\n",
    "- __False__ : data prediksi != data aktual\n",
    "- __Positive__ : prediksi positif / 1 / yes\n",
    "- __Negative__ : prediksi negatif / 0 / No\n",
    "    \n",
    "- __True Positive (TP)__ : Prediksi Yes, Aktual Yes\n",
    "- __True Negative (TN)__ : Prediksi No, Aktual No\n",
    "- __False Positive (FP)__ : Prediksi Yes, Aktual No\n",
    "- __False Negative (FN)__ : Prediksi No, Aktual Yes"
   ]
  },
  {
   "cell_type": "code",
   "execution_count": 3,
   "metadata": {},
   "outputs": [],
   "source": [
    "from sklearn.metrics import confusion_matrix"
   ]
  },
  {
   "cell_type": "code",
   "execution_count": 4,
   "metadata": {},
   "outputs": [
    {
     "data": {
      "text/html": [
       "<div>\n",
       "<style scoped>\n",
       "    .dataframe tbody tr th:only-of-type {\n",
       "        vertical-align: middle;\n",
       "    }\n",
       "\n",
       "    .dataframe tbody tr th {\n",
       "        vertical-align: top;\n",
       "    }\n",
       "\n",
       "    .dataframe thead th {\n",
       "        text-align: right;\n",
       "    }\n",
       "</style>\n",
       "<table border=\"1\" class=\"dataframe\">\n",
       "  <thead>\n",
       "    <tr style=\"text-align: right;\">\n",
       "      <th></th>\n",
       "      <th>Pred Y</th>\n",
       "      <th>Pred N</th>\n",
       "    </tr>\n",
       "  </thead>\n",
       "  <tbody>\n",
       "    <tr>\n",
       "      <th>Actual Y</th>\n",
       "      <td>3</td>\n",
       "      <td>0</td>\n",
       "    </tr>\n",
       "    <tr>\n",
       "      <th>Actual N</th>\n",
       "      <td>2</td>\n",
       "      <td>1</td>\n",
       "    </tr>\n",
       "  </tbody>\n",
       "</table>\n",
       "</div>"
      ],
      "text/plain": [
       "          Pred Y  Pred N\n",
       "Actual Y       3       0\n",
       "Actual N       2       1"
      ]
     },
     "execution_count": 4,
     "metadata": {},
     "output_type": "execute_result"
    }
   ],
   "source": [
    "cm = confusion_matrix(y,yp, labels= [\"Yes\",\"No\"])\n",
    "dfcm = pd.DataFrame(\n",
    "    cm, columns=['Pred Y','Pred N'], index= ['Actual Y', 'Actual N']\n",
    ")\n",
    "dfcm"
   ]
  },
  {
   "cell_type": "markdown",
   "metadata": {},
   "source": [
    "<hr>\n",
    "\n",
    "### 2. Confusion Matrix Example"
   ]
  },
  {
   "cell_type": "code",
   "execution_count": 9,
   "metadata": {},
   "outputs": [],
   "source": [
    "x = np.array(range(1, 11))\n",
    "y = [0,0,0,0,1,0,1,1,1,1]"
   ]
  },
  {
   "cell_type": "code",
   "execution_count": 10,
   "metadata": {},
   "outputs": [],
   "source": [
    "from sklearn.linear_model import LogisticRegression"
   ]
  },
  {
   "cell_type": "code",
   "execution_count": 11,
   "metadata": {},
   "outputs": [
    {
     "data": {
      "text/plain": [
       "LogisticRegression(C=1.0, class_weight=None, dual=False, fit_intercept=True,\n",
       "                   intercept_scaling=1, l1_ratio=None, max_iter=100,\n",
       "                   multi_class='auto', n_jobs=None, penalty='l2',\n",
       "                   random_state=None, solver='lbfgs', tol=0.0001, verbose=0,\n",
       "                   warm_start=False)"
      ]
     },
     "execution_count": 11,
     "metadata": {},
     "output_type": "execute_result"
    }
   ],
   "source": [
    "model = LogisticRegression()\n",
    "model.fit(x.reshape(-1, 1), y)"
   ]
  },
  {
   "cell_type": "code",
   "execution_count": 12,
   "metadata": {},
   "outputs": [
    {
     "data": {
      "text/plain": [
       "array([0, 0, 0, 0, 0, 1, 1, 1, 1, 1])"
      ]
     },
     "execution_count": 12,
     "metadata": {},
     "output_type": "execute_result"
    }
   ],
   "source": [
    "yp = model.predict(x.reshape(-1,1))\n",
    "yp"
   ]
  },
  {
   "cell_type": "code",
   "execution_count": 13,
   "metadata": {},
   "outputs": [
    {
     "name": "stdout",
     "output_type": "stream",
     "text": [
      "[0, 0, 0, 0, 1, 0, 1, 1, 1, 1]\n",
      "[0, 0, 0, 0, 0, 1, 1, 1, 1, 1]\n"
     ]
    }
   ],
   "source": [
    "# create confusion matrix manually\n",
    "print(y)\n",
    "print(list(yp))"
   ]
  },
  {
   "cell_type": "markdown",
   "metadata": {},
   "source": [
    "-|Pred 1|Pred 0|\n",
    "---|---|---\n",
    "__Aktual 1__|__TP = 4__|__FN = 1__|\n",
    "__Aktual 0__|__FP = 1__|__TN = 4__|"
   ]
  },
  {
   "cell_type": "code",
   "execution_count": 14,
   "metadata": {},
   "outputs": [
    {
     "data": {
      "text/html": [
       "<div>\n",
       "<style scoped>\n",
       "    .dataframe tbody tr th:only-of-type {\n",
       "        vertical-align: middle;\n",
       "    }\n",
       "\n",
       "    .dataframe tbody tr th {\n",
       "        vertical-align: top;\n",
       "    }\n",
       "\n",
       "    .dataframe thead th {\n",
       "        text-align: right;\n",
       "    }\n",
       "</style>\n",
       "<table border=\"1\" class=\"dataframe\">\n",
       "  <thead>\n",
       "    <tr style=\"text-align: right;\">\n",
       "      <th></th>\n",
       "      <th>Pred 1</th>\n",
       "      <th>Pred 0</th>\n",
       "    </tr>\n",
       "  </thead>\n",
       "  <tbody>\n",
       "    <tr>\n",
       "      <th>Actual 1</th>\n",
       "      <td>4</td>\n",
       "      <td>1</td>\n",
       "    </tr>\n",
       "    <tr>\n",
       "      <th>Actual 0</th>\n",
       "      <td>1</td>\n",
       "      <td>4</td>\n",
       "    </tr>\n",
       "  </tbody>\n",
       "</table>\n",
       "</div>"
      ],
      "text/plain": [
       "          Pred 1  Pred 0\n",
       "Actual 1       4       1\n",
       "Actual 0       1       4"
      ]
     },
     "execution_count": 14,
     "metadata": {},
     "output_type": "execute_result"
    }
   ],
   "source": [
    "cm = confusion_matrix (y,yp, labels=[1,0])\n",
    "dfcm = pd.DataFrame(\n",
    "    cm, columns=['Pred 1','Pred 0'], index= ['Actual 1', 'Actual 0']\n",
    ")\n",
    "dfcm"
   ]
  },
  {
   "cell_type": "code",
   "execution_count": 15,
   "metadata": {},
   "outputs": [
    {
     "data": {
      "text/plain": [
       "<matplotlib.axes._subplots.AxesSubplot at 0x14c3b568790>"
      ]
     },
     "execution_count": 15,
     "metadata": {},
     "output_type": "execute_result"
    },
    {
     "data": {
      "image/png": "[encoded data removed]",
      "text/plain": [
       "<Figure size 432x288 with 2 Axes>"
      ]
     },
     "metadata": {
      "needs_background": "light"
     },
     "output_type": "display_data"
    }
   ],
   "source": [
    "# confusion matrix plot\n",
    "sb.heatmap(dfcm, annot=True)"
   ]
  },
  {
   "cell_type": "code",
   "execution_count": 16,
   "metadata": {},
   "outputs": [],
   "source": [
    "# sklearn confusion matrix plot\n",
    "\n",
    "from sklearn.metrics import plot_confusion_matrix"
   ]
  },
  {
   "cell_type": "code",
   "execution_count": 17,
   "metadata": {},
   "outputs": [
    {
     "data": {
      "text/plain": [
       "<sklearn.metrics._plot.confusion_matrix.ConfusionMatrixDisplay at 0x14c3d67d460>"
      ]
     },
     "execution_count": 17,
     "metadata": {},
     "output_type": "execute_result"
    },
    {
     "data": {
      "image/png": "[encoded data removed]",
      "text/plain": [
       "<Figure size 432x288 with 2 Axes>"
      ]
     },
     "metadata": {
      "needs_background": "light"
     },
     "output_type": "display_data"
    }
   ],
   "source": [
    "plot_confusion_matrix(\n",
    "    model, x.reshape(-1,1),y, cmap='hot_r'# model, x, y\n",
    ")"
   ]
  },
  {
   "cell_type": "markdown",
   "metadata": {},
   "source": [
    "<hr>\n",
    "\n",
    "### 3. Confusion Matrix for Multi-class Classification\n",
    "\n",
    "Non-binary classification a.k.a Multi-Class Clasification"
   ]
  },
  {
   "cell_type": "code",
   "execution_count": 18,
   "metadata": {},
   "outputs": [],
   "source": [
    "y = [\"kura-kura\", \"penyu\", \"platipus\",\"kura-kura\", \"penyu\", \"platipus\"]\n",
    "yp = [\"kura-kura\", \"kura-kura\", \"platipus\", \"penyu\", \"penyu\", \"platipus\"]"
   ]
  },
  {
   "cell_type": "markdown",
   "metadata": {},
   "source": [
    "-|Pred Kura|Pred Penyu| Pred Platipus\n",
    "---|---|---|---\n",
    "__Aktual Kura__|__1__|__1__|__0__\n",
    "__Aktual Penyu__|__1__|__1__|__0__\n",
    "__Aktual Platipus__|__0__|__0__|__2_"
   ]
  },
  {
   "cell_type": "code",
   "execution_count": 19,
   "metadata": {},
   "outputs": [
    {
     "data": {
      "text/plain": [
       "array([[1, 1, 0],\n",
       "       [1, 1, 0],\n",
       "       [0, 0, 2]], dtype=int64)"
      ]
     },
     "execution_count": 19,
     "metadata": {},
     "output_type": "execute_result"
    }
   ],
   "source": [
    "cm = confusion_matrix(y,yp,labels=['kura-kura','penyu','platipus'])\n",
    "cm"
   ]
  },
  {
   "cell_type": "code",
   "execution_count": 20,
   "metadata": {},
   "outputs": [
    {
     "data": {
      "text/html": [
       "<div>\n",
       "<style scoped>\n",
       "    .dataframe tbody tr th:only-of-type {\n",
       "        vertical-align: middle;\n",
       "    }\n",
       "\n",
       "    .dataframe tbody tr th {\n",
       "        vertical-align: top;\n",
       "    }\n",
       "\n",
       "    .dataframe thead th {\n",
       "        text-align: right;\n",
       "    }\n",
       "</style>\n",
       "<table border=\"1\" class=\"dataframe\">\n",
       "  <thead>\n",
       "    <tr style=\"text-align: right;\">\n",
       "      <th></th>\n",
       "      <th>Pred Kura</th>\n",
       "      <th>Pred Penyu</th>\n",
       "      <th>Pred Platipus</th>\n",
       "    </tr>\n",
       "  </thead>\n",
       "  <tbody>\n",
       "    <tr>\n",
       "      <th>Aktual Kura</th>\n",
       "      <td>1</td>\n",
       "      <td>1</td>\n",
       "      <td>0</td>\n",
       "    </tr>\n",
       "    <tr>\n",
       "      <th>Aktual Penyu</th>\n",
       "      <td>1</td>\n",
       "      <td>1</td>\n",
       "      <td>0</td>\n",
       "    </tr>\n",
       "    <tr>\n",
       "      <th>Aktual Platipus</th>\n",
       "      <td>0</td>\n",
       "      <td>0</td>\n",
       "      <td>2</td>\n",
       "    </tr>\n",
       "  </tbody>\n",
       "</table>\n",
       "</div>"
      ],
      "text/plain": [
       "                 Pred Kura  Pred Penyu  Pred Platipus\n",
       "Aktual Kura              1           1              0\n",
       "Aktual Penyu             1           1              0\n",
       "Aktual Platipus          0           0              2"
      ]
     },
     "execution_count": 20,
     "metadata": {},
     "output_type": "execute_result"
    }
   ],
   "source": [
    "dfcm = pd.DataFrame(\n",
    "    cm,\n",
    "    columns = ['Pred Kura', 'Pred Penyu', 'Pred Platipus'],\n",
    "    index = ['Aktual Kura', 'Aktual Penyu', 'Aktual Platipus']\n",
    ")\n",
    "dfcm"
   ]
  },
  {
   "cell_type": "code",
   "execution_count": 21,
   "metadata": {},
   "outputs": [
    {
     "data": {
      "text/plain": [
       "<matplotlib.axes._subplots.AxesSubplot at 0x14c3d71c1c0>"
      ]
     },
     "execution_count": 21,
     "metadata": {},
     "output_type": "execute_result"
    },
    {
     "data": {
      "image/png": "[encoded data removed]",
      "text/plain": [
       "<Figure size 432x288 with 2 Axes>"
      ]
     },
     "metadata": {
      "needs_background": "light"
     },
     "output_type": "display_data"
    }
   ],
   "source": [
    "sb.heatmap(dfcm, annot=True, annot_kws={'size':20})"
   ]
  },
  {
   "cell_type": "markdown",
   "metadata": {},
   "source": [
    "<hr>\n",
    "\n",
    "### 4. TP, TN, FP, & FN on Confusion Matrix for Multi-class Clasification\n",
    "\n",
    "- declare TP,TN, FP, FN for label = 'Kura-Kura'\n",
    "- declare TP,TN, FP, FN for label = 'Penyu'\n",
    "- declare TP,TN, FP, FN for label = 'Platipus'"
   ]
  },
  {
   "cell_type": "markdown",
   "metadata": {},
   "source": [
    "__A. TP, TN, FP, & FN for label = \"kura-kura\"__\n",
    "\n",
    "-|Pred Kura|Pred Penyu| Pred Platipus\n",
    "---|---|---|---\n",
    "__Aktual Kura__| __$\\textrm{TP}_\\textrm{kura}$ = 1__|__$\\textrm{FN}_\\textrm{kura}$ = 1__|__$\\textrm{FN}_\\textrm{kura}$ = 0__\n",
    "__Aktual Penyu__|__$\\textrm{FP}_\\textrm{kura}$ = 1__|__$\\textrm{TN}_\\textrm{kura}$ = 1__|__$\\textrm{TN}_\\textrm{kura}$ = 0__\n",
    "__Aktual Platipus__|__$\\textrm{FP}_\\textrm{kura}$ = 1__|__$\\textrm{TN}_\\textrm{kura}$ = 0__|__$\\textrm{TN}_\\textrm{kura}$ = 2__\n",
    "\n",
    "__B. TP, TN, FP, & FN for label = \"penyu\"__\n",
    "\n",
    "-|Pred Kura|Pred Penyu| Pred Platipus\n",
    "---|---|---|---\n",
    "__Aktual Kura__| __$\\textrm{TN}_\\textrm{penyu}$ = 1__|__$\\textrm{FP}_\\textrm{penyu}$ = 1__|__$\\textrm{TN}_\\textrm{penyu}$ = 0__\n",
    "__Aktual Penyu__|__$\\textrm{FN}_\\textrm{penyu}$ = 1__|__$\\textrm{TP}_\\textrm{penyu}$ = 1__|__$\\textrm{FN}_\\textrm{penyu}$ = 0__\n",
    "__Aktual Platipus__|__$\\textrm{TN}_\\textrm{penyu}$ = 1__|__$\\textrm{FP}_\\textrm{penyu}$ = 0__|__$\\textrm{TN}_\\textrm{penyu}$ = 2__\n",
    "\n",
    "__C. TP, TN, FP, & FN for label = \"platipus\"__\n",
    "\n",
    "-|Pred Kura|Pred Penyu| Pred Platipus\n",
    "---|---|---|---\n",
    "__Aktual Kura__| __$\\textrm{TN}_\\textrm{platipus}$ = 1__|__$\\textrm{TN}_\\textrm{platipus}$ = 1__|__$\\textrm{FP}_\\textrm{platipus}$ = 0__\n",
    "__Aktual Penyu__|__$\\textrm{TN}_\\textrm{platipus}$ = 1__|__$\\textrm{TN}_\\textrm{platipus}$ = 1__|__$\\textrm{FP}_\\textrm{platipus}$ = 0__\n",
    "__Aktual Platipus__|__$\\textrm{FN}_\\textrm{platipus}$ = 1__|__$\\textrm{FN}_\\textrm{platipus}$ = 0__|__$\\textrm{TP}_\\textrm{platipus}$ = 2__"
   ]
  },
  {
   "cell_type": "markdown",
   "metadata": {},
   "source": [
    "# Evaluation Metrics for Classification Model"
   ]
  },
  {
   "cell_type": "code",
   "execution_count": 22,
   "metadata": {},
   "outputs": [],
   "source": [
    "y = [0,0,0,0,1,0,1,1,1,1]\n",
    "yp = [0,0,0,0,0,1,1,1,1,1]"
   ]
  },
  {
   "cell_type": "code",
   "execution_count": 23,
   "metadata": {},
   "outputs": [
    {
     "data": {
      "text/plain": [
       "array([[4, 1],\n",
       "       [1, 4]], dtype=int64)"
      ]
     },
     "execution_count": 23,
     "metadata": {},
     "output_type": "execute_result"
    }
   ],
   "source": [
    "cm = confusion_matrix(y,yp,labels=[1,0])\n",
    "cm"
   ]
  },
  {
   "cell_type": "code",
   "execution_count": 24,
   "metadata": {},
   "outputs": [
    {
     "data": {
      "text/plain": [
       "<matplotlib.axes._subplots.AxesSubplot at 0x14c3d796700>"
      ]
     },
     "execution_count": 24,
     "metadata": {},
     "output_type": "execute_result"
    },
    {
     "data": {
      "image/png": "[encoded data removed]",
      "text/plain": [
       "<Figure size 432x288 with 2 Axes>"
      ]
     },
     "metadata": {
      "needs_background": "light"
     },
     "output_type": "display_data"
    }
   ],
   "source": [
    "sb.heatmap(cm,annot=True)"
   ]
  },
  {
   "cell_type": "code",
   "execution_count": 25,
   "metadata": {},
   "outputs": [],
   "source": [
    "tp,fn,fp,tn =cm.reshape(-1,)"
   ]
  },
  {
   "cell_type": "markdown",
   "metadata": {},
   "source": [
    "<hr>\n",
    "\n",
    "1. __Accuracy__ : seberapa sering model memprediksi dengan benar\n",
    "    \n",
    "$$ \\textrm{Accuracy} = \\frac{TP + TN}{total data} $$\n",
    "\n",
    "$$ \\textrm{Accuracy} = \\frac{4 + 4}{10} = 80\\textrm{%} $$  \n",
    "\n",
    "\n",
    "2. __Error Rate/Missclassification Rate__ : seberapa sering model memprediksi dengan salah\n",
    "\n",
    "$$ \\textrm{Error Rate}= \\frac{FP + FN}{total data} $$\n",
    "\n",
    "$$ \\textrm{Error Rate}= \\frac{1 + 1}{10} = 20\\textrm{%} $$\n",
    "\n",
    "$$ \\textrm{Accuracy} + \\textrm{Error Rate} = 100 \\textrm{%} $$\n"
   ]
  },
  {
   "cell_type": "markdown",
   "metadata": {},
   "source": [
    "<hr>\n",
    "\n",
    "3. __TP Rate/Sensitivity/Recall Positive__ : Jika aktualnya = 1/yes/positif, maka seberapa sering model memprediksi 1/yes/positif\n",
    "\n",
    "$$ \\textrm{TP Rate}= \\frac{TP}{total aktual positive \\textrm(TP+FN)} $$\n",
    "\n",
    "$$ \\textrm{TP Rate}= \\frac{4}{4+1} = 80\\textrm{%}  $$\n",
    "\n",
    "4. __FN Rate__ : Jika aktualnya =  1/yes/positif maka seberapa sering model memprediksi 0/no/negative\n",
    "\n",
    "$$ \\textrm{FN Rate}= \\frac{FN}{total aktual positive \\textrm(TP+FN)} $$\n",
    "\n",
    "$$ \\textrm{FN Rate}= \\frac{1}{4+1} = 20\\textrm{%}  $$\n",
    "\n",
    "$$ \\textrm{TP Rate} + \\textrm{FN Rate} = 100 \\textrm{%} $$"
   ]
  },
  {
   "cell_type": "markdown",
   "metadata": {},
   "source": [
    "<hr>\n",
    "\n",
    "5. __TN Rate/Specificity/Recall Negative__ : Jika aktualnya = 0/no/negative, maka seberapa sering model memprediksi 0/no/negative\n",
    "\n",
    "$$ \\textrm{TN Rate}= \\frac{TN}{total aktual negative \\textrm(TN + FP)} $$\n",
    "\n",
    "$$ \\textrm{TN Rate}= \\frac{4}{4+1} = 80\\textrm{%}  $$\n",
    "\n",
    "6. __FP Rate__ : Jika aktualnya = 0/no/negative, maka seberapa sering model memprediksi 1/yes/positif\n",
    "\n",
    "$$ \\textrm{FP Rate}= \\frac{FP}{total aktual negative \\textrm(TN + FP)} $$\n",
    "\n",
    "$$ \\textrm{FP Rate}= \\frac{1}{4+1} = 20\\textrm{%}  $$\n",
    "\n",
    "$$ \\textrm{TN Rate} + \\textrm{FP Rate} = 100 \\textrm{%} $$"
   ]
  },
  {
   "cell_type": "markdown",
   "metadata": {},
   "source": [
    "<hr>\n",
    "\n",
    "7. __Precision (positive)__ : jika prediksi = 1/yes/positif, seberapa sering prediksi tersebut benar?negatif\n",
    "\n",
    "$$ \\textrm{Precision(+)}= \\frac{TP}{\\textrm(TP + FP)} $$\n",
    "\n",
    "$$ \\textrm{Precision(+)}= \\frac{4}{4+1} = 80\\textrm{%}  $$\n",
    "\n",
    "8. __Precision (negative)__ : jika prediksi = 0/no/, seberapa sering prediksi tersebut benar?\n",
    "\n",
    "$$ \\textrm{Precision(-)}= \\frac{TN}{\\textrm(TN + FN)} $$\n",
    "\n",
    "$$ \\textrm{Precision(-)}= \\frac{4}{4+1} = 80\\textrm{%}  $$\n"
   ]
  },
  {
   "cell_type": "markdown",
   "metadata": {},
   "source": [
    "<hr>\n",
    "\n",
    "#### Hanya untuk menggali insight dari hasil prediksi :\n",
    "\n",
    "9. __Prevalence__ : Berapa kali nilai 1/yes/positif itu terjadi di data sample yang akan diprediksi model?\n",
    "    \n",
    "    ```\n",
    "    Prevalence  = aktual 1/yes/positif / total data\n",
    "                = (TP + FN) / total data\n",
    "                = (4+1) / 10\n",
    "                = 50%\n",
    "    ```\n",
    "    \n",
    "10. __Null Error Rate__ : Berapa kali nilai 0/no/negatif itu terjadi di data sample yang akan diprediksi model?\n",
    "\n",
    "    ```\n",
    "    Null Erro Rate  = aktual 0/no/negatif / total data\n",
    "                = (TN + FP) / total data\n",
    "                = (4+1) / 10\n",
    "                = 50%\n",
    "    ```\n",
    "    \n",
    " $$ Prevalence + \\textrm{Null Error Rate} = \\textrm{100%} $$"
   ]
  },
  {
   "cell_type": "markdown",
   "metadata": {},
   "source": [
    "<hr> \n",
    "\n",
    "untuk dataset __imbalanced__, nilai accuracy bukan metric yang baik untuk mengevaluasi model\n",
    "\n",
    "sebagai contoh : data set yang akan diprediksi = 95% label A, 5% label B. Model saya ngaco => mempridiksi semuanya adalah A.\n",
    "maka akurasi model saya = 95%. maka untuk dataset __imbalanced__, akurasinya gunakan __*Balanced Accuracy(bACC)*__\n",
    "\n",
    "```\n",
    "11.    bACC = (Recall(+) TP Rate + Recall(-) TN Rate / 2\n",
    "         =  (80% + 80%) /2\n",
    "```\n",
    "\n",
    "balanced dan imbalanced biasanya dicek untuk data set testing\n"
   ]
  },
  {
   "cell_type": "markdown",
   "metadata": {},
   "source": [
    "<hr>\n",
    "\n",
    "12.  __F1 Score__ : harmonic mea precision(+) & recall (+)\n",
    "\n",
    "    ```\n",
    "    F1 Score = 2 *  ( (precision(+} * recall (+)) / (precision(+) + recall (+)) )\n",
    "             = 2 *  ( (80%*80%) / (80% +80%) )\n",
    "             = 80%\n",
    "    ```\n"
   ]
  },
  {
   "cell_type": "markdown",
   "metadata": {},
   "source": [
    "<hr>\n",
    "\n",
    "### Sklearn Evaluation Metrics for Classification Model"
   ]
  },
  {
   "cell_type": "code",
   "execution_count": 26,
   "metadata": {},
   "outputs": [],
   "source": [
    "from sklearn.metrics import accuracy_score"
   ]
  },
  {
   "cell_type": "code",
   "execution_count": 27,
   "metadata": {},
   "outputs": [
    {
     "name": "stdout",
     "output_type": "stream",
     "text": [
      "Akurasi =  0.8\n",
      "Error Rate =  0.19999999999999996\n"
     ]
    }
   ],
   "source": [
    "print('Akurasi = ', accuracy_score(y,yp))\n",
    "print('Error Rate = ', 1 - accuracy_score(y,yp) )"
   ]
  },
  {
   "cell_type": "code",
   "execution_count": 28,
   "metadata": {},
   "outputs": [],
   "source": [
    "from sklearn.metrics import recall_score"
   ]
  },
  {
   "cell_type": "code",
   "execution_count": 29,
   "metadata": {},
   "outputs": [
    {
     "name": "stdout",
     "output_type": "stream",
     "text": [
      "Recall(+) =  0.8\n",
      "Recall(-) =  0.8\n"
     ]
    }
   ],
   "source": [
    "print('Recall(+) = ', recall_score(y,yp, pos_label = 1))\n",
    "print('Recall(-) = ', recall_score(y,yp, pos_label = 0))"
   ]
  },
  {
   "cell_type": "code",
   "execution_count": 30,
   "metadata": {},
   "outputs": [],
   "source": [
    "from sklearn.metrics import precision_score"
   ]
  },
  {
   "cell_type": "code",
   "execution_count": 31,
   "metadata": {},
   "outputs": [
    {
     "name": "stdout",
     "output_type": "stream",
     "text": [
      "Precision(+) =  0.8\n",
      "Precision(-) =  0.8\n"
     ]
    }
   ],
   "source": [
    "print('Precision(+) = ', precision_score(y,yp, pos_label = 1))\n",
    "print('Precision(-) = ', precision_score(y,yp, pos_label = 0))"
   ]
  },
  {
   "cell_type": "code",
   "execution_count": 32,
   "metadata": {},
   "outputs": [],
   "source": [
    "from sklearn.metrics import f1_score"
   ]
  },
  {
   "cell_type": "code",
   "execution_count": 33,
   "metadata": {},
   "outputs": [
    {
     "name": "stdout",
     "output_type": "stream",
     "text": [
      "F1 Score(+) =  0.8000000000000002\n",
      "F1 Score(-) =  0.8000000000000002\n"
     ]
    }
   ],
   "source": [
    "print('F1 Score(+) = ', f1_score(y,yp, pos_label = 1))\n",
    "print('F1 Score(-) = ', f1_score(y,yp, pos_label = 0))"
   ]
  },
  {
   "cell_type": "code",
   "execution_count": 34,
   "metadata": {},
   "outputs": [],
   "source": [
    "from sklearn.metrics import balanced_accuracy_score"
   ]
  },
  {
   "cell_type": "code",
   "execution_count": 35,
   "metadata": {},
   "outputs": [
    {
     "name": "stdout",
     "output_type": "stream",
     "text": [
      "bACC =  0.8\n"
     ]
    }
   ],
   "source": [
    "print('bACC = ', balanced_accuracy_score(y,yp))"
   ]
  },
  {
   "cell_type": "markdown",
   "metadata": {},
   "source": [
    "<hr>\n",
    "\n",
    "### Sklearn classification Report\n",
    "\n",
    "1.  __*precision_recall_fscore_support()*__"
   ]
  },
  {
   "cell_type": "code",
   "execution_count": 36,
   "metadata": {},
   "outputs": [],
   "source": [
    "from sklearn.metrics import precision_recall_fscore_support\n",
    "# Support = jumlah keejadian tiap class di y aktual"
   ]
  },
  {
   "cell_type": "code",
   "execution_count": 38,
   "metadata": {},
   "outputs": [
    {
     "data": {
      "text/plain": [
       "(array([0.8, 0.8]),\n",
       " array([0.8, 0.8]),\n",
       " array([0.8, 0.8]),\n",
       " array([5, 5], dtype=int64))"
      ]
     },
     "execution_count": 38,
     "metadata": {},
     "output_type": "execute_result"
    }
   ],
   "source": [
    "precision_recall_fscore_support(y,yp)"
   ]
  },
  {
   "cell_type": "code",
   "execution_count": 39,
   "metadata": {},
   "outputs": [
    {
     "name": "stdout",
     "output_type": "stream",
     "text": [
      "Precision[0,1] =  [0.8 0.8]\n",
      "Recall[0,1] =  [0.8 0.8]\n",
      "F1 Score[0,1] =  [0.8 0.8]\n",
      "Support[0,1] =  [5 5]\n"
     ]
    }
   ],
   "source": [
    "pre, rec, f1, sup = precision_recall_fscore_support(y,yp)\n",
    "print('Precision[0,1] = ', pre)\n",
    "print('Recall[0,1] = ', rec)\n",
    "print('F1 Score[0,1] = ', f1)\n",
    "print('Support[0,1] = ', sup)"
   ]
  },
  {
   "cell_type": "markdown",
   "metadata": {},
   "source": [
    "2. __*classification_report()*__"
   ]
  },
  {
   "cell_type": "code",
   "execution_count": 40,
   "metadata": {},
   "outputs": [],
   "source": [
    "from sklearn.metrics import classification_report"
   ]
  },
  {
   "cell_type": "code",
   "execution_count": 41,
   "metadata": {},
   "outputs": [
    {
     "name": "stdout",
     "output_type": "stream",
     "text": [
      "              precision    recall  f1-score   support\n",
      "\n",
      "           0       0.80      0.80      0.80         5\n",
      "           1       0.80      0.80      0.80         5\n",
      "\n",
      "    accuracy                           0.80        10\n",
      "   macro avg       0.80      0.80      0.80        10\n",
      "weighted avg       0.80      0.80      0.80        10\n",
      "\n"
     ]
    }
   ],
   "source": [
    "print(classification_report(y, yp))"
   ]
  },
  {
   "cell_type": "code",
   "execution_count": null,
   "metadata": {},
   "outputs": [],
   "source": [
    "# cek micro average, macro average, weighted average"
   ]
  }
 ],
 "metadata": {
  "kernelspec": {
   "display_name": "Python 3",
   "language": "python",
   "name": "python3"
  },
  "language_info": {
   "codemirror_mode": {
    "name": "ipython",
    "version": 3
   },
   "file_extension": ".py",
   "mimetype": "text/x-python",
   "name": "python",
   "nbconvert_exporter": "python",
   "pygments_lexer": "ipython3",
   "version": "3.8.1"
  }
 },
 "nbformat": 4,
 "nbformat_minor": 4
}
