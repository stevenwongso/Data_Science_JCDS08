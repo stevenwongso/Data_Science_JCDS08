{
 "cells": [
  {
   "cell_type": "code",
   "execution_count": 1,
   "metadata": {},
   "outputs": [],
   "source": [
    "import numpy as np\n",
    "import pandas as pd\n",
    "import matplotlib.pyplot as plt"
   ]
  },
  {
   "cell_type": "markdown",
   "metadata": {},
   "source": [
    "# Decision Tree\n"
   ]
  },
  {
   "cell_type": "code",
   "execution_count": 2,
   "metadata": {},
   "outputs": [
    {
     "data": {
      "text/html": [
       "<div>\n",
       "<style scoped>\n",
       "    .dataframe tbody tr th:only-of-type {\n",
       "        vertical-align: middle;\n",
       "    }\n",
       "\n",
       "    .dataframe tbody tr th {\n",
       "        vertical-align: top;\n",
       "    }\n",
       "\n",
       "    .dataframe thead th {\n",
       "        text-align: right;\n",
       "    }\n",
       "</style>\n",
       "<table border=\"1\" class=\"dataframe\">\n",
       "  <thead>\n",
       "    <tr style=\"text-align: right;\">\n",
       "      <th></th>\n",
       "      <th>bbm</th>\n",
       "      <th>jenis</th>\n",
       "    </tr>\n",
       "  </thead>\n",
       "  <tbody>\n",
       "    <tr>\n",
       "      <th>0</th>\n",
       "      <td>pertamax</td>\n",
       "      <td>mobil</td>\n",
       "    </tr>\n",
       "    <tr>\n",
       "      <th>1</th>\n",
       "      <td>solar</td>\n",
       "      <td>truk</td>\n",
       "    </tr>\n",
       "    <tr>\n",
       "      <th>2</th>\n",
       "      <td>pertamax</td>\n",
       "      <td>mobil</td>\n",
       "    </tr>\n",
       "    <tr>\n",
       "      <th>3</th>\n",
       "      <td>solar</td>\n",
       "      <td>truk</td>\n",
       "    </tr>\n",
       "    <tr>\n",
       "      <th>4</th>\n",
       "      <td>pertamax</td>\n",
       "      <td>mobil</td>\n",
       "    </tr>\n",
       "    <tr>\n",
       "      <th>5</th>\n",
       "      <td>solar</td>\n",
       "      <td>truk</td>\n",
       "    </tr>\n",
       "  </tbody>\n",
       "</table>\n",
       "</div>"
      ],
      "text/plain": [
       "        bbm  jenis\n",
       "0  pertamax  mobil\n",
       "1     solar   truk\n",
       "2  pertamax  mobil\n",
       "3     solar   truk\n",
       "4  pertamax  mobil\n",
       "5     solar   truk"
      ]
     },
     "execution_count": 2,
     "metadata": {},
     "output_type": "execute_result"
    }
   ],
   "source": [
    "df = pd.DataFrame([\n",
    "    {'bbm': 'pertamax', 'jenis': 'mobil'},\n",
    "    {'bbm': 'solar', 'jenis': 'truk'},\n",
    "    {'bbm': 'pertamax', 'jenis': 'mobil'},\n",
    "    {'bbm': 'solar', 'jenis': 'truk'},\n",
    "    {'bbm': 'pertamax', 'jenis': 'mobil'},\n",
    "    {'bbm': 'solar', 'jenis': 'truk'},\n",
    "])\n",
    "df"
   ]
  },
  {
   "cell_type": "markdown",
   "metadata": {},
   "source": [
    "```bash\n",
    "     BBM?\n",
    "      |\n",
    "  ---------\n",
    "  |       |\n",
    "pmax    solar\n",
    "j=car   j=truk\n",
    "```\n",
    "- __Root / Root node__: initial questions => BBM apa?\n",
    "- __Node / Internal node__: question branch\n",
    "- __Leaves / Leave nodes__: conclusion\n",
    "- __Decision Tree__: minimum 1 root, 1 node, 2 conclusion\n",
    "- __Stump__: Decision Tree minimum 1 root & 2 conclusion\n",
    "\n",
    "<hr>"
   ]
  },
  {
   "cell_type": "code",
   "execution_count": 3,
   "metadata": {},
   "outputs": [
    {
     "data": {
      "text/html": [
       "<div>\n",
       "<style scoped>\n",
       "    .dataframe tbody tr th:only-of-type {\n",
       "        vertical-align: middle;\n",
       "    }\n",
       "\n",
       "    .dataframe tbody tr th {\n",
       "        vertical-align: top;\n",
       "    }\n",
       "\n",
       "    .dataframe thead th {\n",
       "        text-align: right;\n",
       "    }\n",
       "</style>\n",
       "<table border=\"1\" class=\"dataframe\">\n",
       "  <thead>\n",
       "    <tr style=\"text-align: right;\">\n",
       "      <th></th>\n",
       "      <th>ujian</th>\n",
       "      <th>lulus</th>\n",
       "    </tr>\n",
       "  </thead>\n",
       "  <tbody>\n",
       "    <tr>\n",
       "      <th>0</th>\n",
       "      <td>0</td>\n",
       "      <td>0</td>\n",
       "    </tr>\n",
       "    <tr>\n",
       "      <th>1</th>\n",
       "      <td>0</td>\n",
       "      <td>0</td>\n",
       "    </tr>\n",
       "    <tr>\n",
       "      <th>2</th>\n",
       "      <td>0</td>\n",
       "      <td>0</td>\n",
       "    </tr>\n",
       "    <tr>\n",
       "      <th>3</th>\n",
       "      <td>1</td>\n",
       "      <td>0</td>\n",
       "    </tr>\n",
       "    <tr>\n",
       "      <th>4</th>\n",
       "      <td>1</td>\n",
       "      <td>1</td>\n",
       "    </tr>\n",
       "    <tr>\n",
       "      <th>5</th>\n",
       "      <td>1</td>\n",
       "      <td>1</td>\n",
       "    </tr>\n",
       "  </tbody>\n",
       "</table>\n",
       "</div>"
      ],
      "text/plain": [
       "   ujian  lulus\n",
       "0      0      0\n",
       "1      0      0\n",
       "2      0      0\n",
       "3      1      0\n",
       "4      1      1\n",
       "5      1      1"
      ]
     },
     "execution_count": 3,
     "metadata": {},
     "output_type": "execute_result"
    }
   ],
   "source": [
    "df = pd.DataFrame({\n",
    "    'ujian' : [0,0,0,1,1,1],\n",
    "    'lulus' : [0,0,0,0,1,1]\n",
    "})\n",
    "\n",
    "df"
   ]
  },
  {
   "cell_type": "markdown",
   "metadata": {},
   "source": [
    "```bash\n",
    "        Ikut Ujian?\n",
    "            |\n",
    " yes------------------no\n",
    "       |          |\n",
    "    Lulus?       Lulus?\n",
    "  2(+) 1(-)     0(+) 3(-)\n",
    "\n",
    "```"
   ]
  },
  {
   "cell_type": "markdown",
   "metadata": {},
   "source": [
    "<hr>\n",
    "\n",
    "### 1. Gini Impurity\n",
    "- Menilai kemurnian suatu feature (semakin kecil artinya feature tersebut dapat mengklasifikasikan dengan semakin baik)\n",
    "- Digunakan untuk menentukan initial root\n",
    "- Gini impurity = $ 1 - p_\\textrm{true}^2 - p_\\textrm{false}^2$ dengan $p$ adalah probability\n",
    "\n",
    "Pada kasus ini : Gini Impurity Ikut Ujian ($gU_1$), Gini Impurity Tidak Ikut Ujian ($gU_0$) => Gini Impurity Feature Ujian ($gU)"
   ]
  },
  {
   "cell_type": "markdown",
   "metadata": {},
   "source": [
    "$gU_1 = 1 - (2/3)^2 - (1/3)^2$"
   ]
  },
  {
   "cell_type": "code",
   "execution_count": 4,
   "metadata": {},
   "outputs": [
    {
     "data": {
      "text/plain": [
       "0.4444444444444445"
      ]
     },
     "execution_count": 4,
     "metadata": {},
     "output_type": "execute_result"
    }
   ],
   "source": [
    "1 - ((2/3) ** 2) - ((1/3) ** 2)"
   ]
  },
  {
   "cell_type": "markdown",
   "metadata": {},
   "source": [
    "$gU_0 = 1 - (0/3)^2 - (3/3)^2$"
   ]
  },
  {
   "cell_type": "code",
   "execution_count": 5,
   "metadata": {},
   "outputs": [
    {
     "data": {
      "text/plain": [
       "0.0"
      ]
     },
     "execution_count": 5,
     "metadata": {},
     "output_type": "execute_result"
    }
   ],
   "source": [
    "1 - ((0/3) ** 2) - ((3/3) ** 2)"
   ]
  },
  {
   "cell_type": "markdown",
   "metadata": {},
   "source": [
    "Gini Impurity Feature =$\\displaystyle \\sum \\frac{n_i}{n} \\cdot g_i $\n",
    "\n",
    "Gini Impurity Ujian ($gU$) = $ \\frac{\\textrm{total ikut ujian}}{\\textrm{total data}} \\cdot gU_1 + \\frac{\\textrm{total tidak ikut ujian}}{\\textrm{total data}} \\cdot gU_0$\n",
    "\n",
    "$\\displaystyle gU = \\frac{3}{6} \\cdot 0.4444 + \\frac{3}{6} \\cdot 0 = 0.2222$"
   ]
  },
  {
   "cell_type": "markdown",
   "metadata": {},
   "source": [
    "<hr>\n",
    "\n",
    "### 2. Entropy & Gain\n",
    "\n",
    "- Entropy = $ \\displaystyle \\sum - p_i \\cdot 2\\log{p_i}  $\n",
    "    - semakin besar semakin baik\n",
    "- Gain = $\\displaystyle \\textrm{Entropy} - \\textrm{Entropy}_i$\n",
    "\n",
    "Pada kasus ini :\n",
    "\n",
    "- __Entropy Ujian 1 Lulus 1__ = $\\displaystyle - 1 \\cdot (2/3) \\cdot ^2\\log{2/3} $ = __0.3899__\n",
    "- __Entropy Ujian 1 Lulus 0__ = $\\displaystyle - 1 \\cdot (1/3) \\cdot ^2\\log{1/3} $ = __0.5283__\n",
    "- __Entropy Ujian 1__ = Entropy Ujian 1 Lulus 1 + Entropy Ujian 1 Lulus 0 = 0.3899 + 0.5283 = __0.9182__\n",
    "\n",
    "\n",
    "- __Entropy Ujian 0 Lulus 1__ = $\\displaystyle - 1 \\cdot (0/3) \\cdot ^2\\log{0/3} $ = __0__\n",
    "- __Entropy Ujian 0 Lulus 1__ = $\\displaystyle - 1 \\cdot (3/3) \\cdot ^2\\log{3/3} $ = __0__\n",
    "- __Entropy Ujian 0__ = Entropy Ujian 0 Lulus 1 + Entropy Ujian 0 Lulus 0 = 0 + 0 = __0__\n",
    "\n",
    "- __Entropy Ujian__ = $\\displaystyle -1 \\cdot (3/6) \\cdot (^2\\log(3/6)) + -1 \\cdot (3/6) \\cdot (^2\\log(3/6)) $ = __0.5__\n",
    "- __Gain Ujian 1__ = Entropy Ujian - Entropy Ujian 1\n",
    "- __Gain Ujian 0__ = Entropy Ujian - Entropy Ujian 0"
   ]
  },
  {
   "cell_type": "markdown",
   "metadata": {},
   "source": [
    "<hr>\n",
    "\n",
    "### 3. Sklearn Decision Tree"
   ]
  },
  {
   "cell_type": "markdown",
   "metadata": {},
   "source": [
    "1. Gini Cirterion"
   ]
  },
  {
   "cell_type": "code",
   "execution_count": 15,
   "metadata": {},
   "outputs": [],
   "source": [
    "from sklearn.tree import DecisionTreeClassifier, plot_tree, export_graphviz"
   ]
  },
  {
   "cell_type": "code",
   "execution_count": 8,
   "metadata": {},
   "outputs": [],
   "source": [
    "model = DecisionTreeClassifier(criterion='gini')"
   ]
  },
  {
   "cell_type": "code",
   "execution_count": 9,
   "metadata": {},
   "outputs": [
    {
     "data": {
      "text/plain": [
       "DecisionTreeClassifier(ccp_alpha=0.0, class_weight=None, criterion='gini',\n",
       "                       max_depth=None, max_features=None, max_leaf_nodes=None,\n",
       "                       min_impurity_decrease=0.0, min_impurity_split=None,\n",
       "                       min_samples_leaf=1, min_samples_split=2,\n",
       "                       min_weight_fraction_leaf=0.0, presort='deprecated',\n",
       "                       random_state=None, splitter='best')"
      ]
     },
     "execution_count": 9,
     "metadata": {},
     "output_type": "execute_result"
    }
   ],
   "source": [
    "model.fit(df[['ujian']], df['lulus'])"
   ]
  },
  {
   "cell_type": "code",
   "execution_count": 10,
   "metadata": {},
   "outputs": [
    {
     "data": {
      "text/plain": [
       "array([0, 0, 0, 1, 1, 1], dtype=int64)"
      ]
     },
     "execution_count": 10,
     "metadata": {},
     "output_type": "execute_result"
    }
   ],
   "source": [
    "model.predict(df[['ujian']])"
   ]
  },
  {
   "cell_type": "code",
   "execution_count": 12,
   "metadata": {},
   "outputs": [
    {
     "data": {
      "text/plain": [
       "[Text(167.4, 163.07999999999998, 'X[0] <= 0.5\\ngini = 0.444\\nsamples = 6\\nvalue = [4, 2]'),\n",
       " Text(83.7, 54.360000000000014, 'gini = 0.0\\nsamples = 3\\nvalue = [3, 0]'),\n",
       " Text(251.10000000000002, 54.360000000000014, 'gini = 0.444\\nsamples = 3\\nvalue = [1, 2]')]"
      ]
     },
     "execution_count": 12,
     "metadata": {},
     "output_type": "execute_result"
    },
    {
     "data": {
      "image/png": "[encoded data removed]",
      "text/plain": [
       "<Figure size 432x288 with 1 Axes>"
      ]
     },
     "metadata": {
      "needs_background": "light"
     },
     "output_type": "display_data"
    }
   ],
   "source": [
    "plot_tree(model.fit(df[['ujian']], df['lulus']))\n",
    "\n",
    "# X[0] : seperti threshold pada logistic regression"
   ]
  },
  {
   "cell_type": "code",
   "execution_count": 16,
   "metadata": {},
   "outputs": [],
   "source": [
    "export_graphviz(\n",
    "    model.fit(df[['ujian']], df['lulus']),\n",
    "    feature_names = ['Ujian'],\n",
    "    class_names = ['Tidak Lulus','Lulus'],\n",
    "    out_file = 'tree.dot'\n",
    ")\n",
    "\n",
    "# return  = .dot file => https://dreampuf.github.io/GraphvizOnline"
   ]
  },
  {
   "cell_type": "markdown",
   "metadata": {},
   "source": [
    "2. Entropy/Gain"
   ]
  },
  {
   "cell_type": "code",
   "execution_count": 18,
   "metadata": {},
   "outputs": [],
   "source": [
    "model2 = DecisionTreeClassifier(criterion='entropy')"
   ]
  },
  {
   "cell_type": "code",
   "execution_count": 19,
   "metadata": {},
   "outputs": [
    {
     "data": {
      "text/plain": [
       "DecisionTreeClassifier(ccp_alpha=0.0, class_weight=None, criterion='entropy',\n",
       "                       max_depth=None, max_features=None, max_leaf_nodes=None,\n",
       "                       min_impurity_decrease=0.0, min_impurity_split=None,\n",
       "                       min_samples_leaf=1, min_samples_split=2,\n",
       "                       min_weight_fraction_leaf=0.0, presort='deprecated',\n",
       "                       random_state=None, splitter='best')"
      ]
     },
     "execution_count": 19,
     "metadata": {},
     "output_type": "execute_result"
    }
   ],
   "source": [
    "model2.fit(df[['ujian']], df['lulus'])"
   ]
  },
  {
   "cell_type": "code",
   "execution_count": 20,
   "metadata": {},
   "outputs": [
    {
     "data": {
      "text/plain": [
       "array([0, 0, 0, 1, 1, 1], dtype=int64)"
      ]
     },
     "execution_count": 20,
     "metadata": {},
     "output_type": "execute_result"
    }
   ],
   "source": [
    "model2.predict(df[['ujian']])"
   ]
  },
  {
   "cell_type": "code",
   "execution_count": 21,
   "metadata": {},
   "outputs": [
    {
     "data": {
      "text/plain": [
       "[Text(167.4, 163.07999999999998, 'X[0] <= 0.5\\nentropy = 0.918\\nsamples = 6\\nvalue = [4, 2]'),\n",
       " Text(83.7, 54.360000000000014, 'entropy = 0.0\\nsamples = 3\\nvalue = [3, 0]'),\n",
       " Text(251.10000000000002, 54.360000000000014, 'entropy = 0.918\\nsamples = 3\\nvalue = [1, 2]')]"
      ]
     },
     "execution_count": 21,
     "metadata": {},
     "output_type": "execute_result"
    },
    {
     "data": {
      "image/png": "[encoded data removed]",
      "text/plain": [
       "<Figure size 432x288 with 1 Axes>"
      ]
     },
     "metadata": {
      "needs_background": "light"
     },
     "output_type": "display_data"
    }
   ],
   "source": [
    "plot_tree(model2.fit(df[['ujian']], df['lulus']))\n"
   ]
  },
  {
   "cell_type": "code",
   "execution_count": 22,
   "metadata": {},
   "outputs": [],
   "source": [
    "export_graphviz(\n",
    "    model2.fit(df[['ujian']], df['lulus']),\n",
    "    feature_names = ['Ujian'],\n",
    "    class_names = ['Tidak Lulus','Lulus'],\n",
    "    out_file = 'tree.dot'\n",
    ")\n",
    "\n",
    "# return  = .dot file => https://dreampuf.github.io/GraphvizOnline"
   ]
  }
 ],
 "metadata": {
  "kernelspec": {
   "display_name": "Python 3",
   "language": "python",
   "name": "python3"
  },
  "language_info": {
   "codemirror_mode": {
    "name": "ipython",
    "version": 3
   },
   "file_extension": ".py",
   "mimetype": "text/x-python",
   "name": "python",
   "nbconvert_exporter": "python",
   "pygments_lexer": "ipython3",
   "version": "3.8.1"
  }
 },
 "nbformat": 4,
 "nbformat_minor": 4
}
