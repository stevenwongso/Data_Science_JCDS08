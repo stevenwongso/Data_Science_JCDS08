{
 "cells": [
  {
   "cell_type": "code",
   "execution_count": 1,
   "metadata": {},
   "outputs": [],
   "source": [
    "import numpy as np\n",
    "import pandas as pd\n",
    "import matplotlib.pyplot as plt"
   ]
  },
  {
   "cell_type": "markdown",
   "metadata": {},
   "source": [
    "# Jaccard Index\n",
    "\n",
    "- One of evaluation metrics for classification model.\n",
    "\n",
    "- __Jaccard Index__ aka __Jaccard Similarity Coefficient__ aka __Intersection over Union__ is a statistic used for gauging the _similarity_ and _diversity_ of sample sets using _Paul Jaccard_ formula:\n",
    "\n",
    "$$ J(A, B) = \\frac {|A \\cap B|} {|A \\cup B|} = \\frac {|A \\cap B|} {|A| + |B| - |A \\cap B|} $$\n",
    "\n",
    "- _Kekurangan_: Jika di salah satu set atau keduanya (A / B), nilainya positif/negatif semua, maka hasil Jaccard Index tidak dapat dijadikan evaluation metrics. Alias mengharuskan data sample yang balanced.\n"
   ]
  },
  {
   "cell_type": "markdown",
   "metadata": {},
   "source": [
    "<hr>\n",
    "\n",
    "### 1. Manual Calculation"
   ]
  },
  {
   "cell_type": "code",
   "execution_count": 2,
   "metadata": {},
   "outputs": [],
   "source": [
    "y = [0, 0, 0, 1, 1]\n",
    "yp = [0, 0, 1, 1, 1]"
   ]
  },
  {
   "cell_type": "markdown",
   "metadata": {},
   "source": [
    "$\\displaystyle J(y, y_p) = \\frac {|y \\cap y_p|} {|y \\cup y_p|} = \\frac {|y \\cap y_p|} {|y| + |y_p| - |y \\cap y_p|} $\n",
    "\n",
    "- $y$ = data aktual & $y_p$ = data hasil prediksi\n",
    "- $|y \\cap y_p|$ = jumlah elemen $y$ yang sama dengan elemen $y_p$\n",
    "- $|y \\cup y_p|$ = jumlah total elemen $y$ atau $y_p$ (jumlah total data)"
   ]
  },
  {
   "cell_type": "code",
   "execution_count": 3,
   "metadata": {},
   "outputs": [
    {
     "name": "stdout",
     "output_type": "stream",
     "text": [
      "0.8\n",
      "0.6666666666666666\n"
     ]
    }
   ],
   "source": [
    "print(4/5)\n",
    "print(4/(5+5-4))"
   ]
  },
  {
   "cell_type": "markdown",
   "metadata": {},
   "source": [
    "<hr>\n",
    "\n",
    "### 2. Sklearn ```jaccard_score()``` & ```jaccard_similarity_score()```"
   ]
  },
  {
   "cell_type": "code",
   "execution_count": 4,
   "metadata": {},
   "outputs": [],
   "source": [
    "from sklearn.metrics import jaccard_score, jaccard_similarity_score"
   ]
  },
  {
   "cell_type": "code",
   "execution_count": 5,
   "metadata": {},
   "outputs": [
    {
     "name": "stderr",
     "output_type": "stream",
     "text": [
      "c:\\users\\user\\appdata\\local\\programs\\python\\python38\\lib\\site-packages\\sklearn\\metrics\\_classification.py:660: FutureWarning: jaccard_similarity_score has been deprecated and replaced with jaccard_score. It will be removed in version 0.23. This implementation has surprising behavior for binary and multiclass classification tasks.\n",
      "  warnings.warn('jaccard_similarity_score has been deprecated and replaced '\n"
     ]
    },
    {
     "data": {
      "text/plain": [
       "0.8"
      ]
     },
     "execution_count": 5,
     "metadata": {},
     "output_type": "execute_result"
    }
   ],
   "source": [
    "# jaccard_similarity_score() will be removed in v0.23\n",
    "jaccard_similarity_score(y, yp)"
   ]
  },
  {
   "cell_type": "code",
   "execution_count": 6,
   "metadata": {},
   "outputs": [
    {
     "data": {
      "text/plain": [
       "0.6666666666666666"
      ]
     },
     "execution_count": 6,
     "metadata": {},
     "output_type": "execute_result"
    }
   ],
   "source": [
    "# TP / FP + FN + TP\n",
    "jaccard_score(y, yp)"
   ]
  },
  {
   "cell_type": "code",
   "execution_count": 8,
   "metadata": {},
   "outputs": [
    {
     "data": {
      "text/plain": [
       "0.6666666666666666"
      ]
     },
     "execution_count": 8,
     "metadata": {},
     "output_type": "execute_result"
    }
   ],
   "source": [
    "# Manual Calculation jaccard_score\n",
    "\n",
    "y = [0, 0, 0, 1, 1]\n",
    "yp = [0, 0, 1, 1, 1]\n",
    "tp = 2\n",
    "fp = 1\n",
    "fn = 0\n",
    "tp = 2\n",
    "\n",
    "tp / (fp + fn + tp)"
   ]
  },
  {
   "cell_type": "code",
   "execution_count": null,
   "metadata": {},
   "outputs": [],
   "source": []
  }
 ],
 "metadata": {
  "kernelspec": {
   "display_name": "Python 3",
   "language": "python",
   "name": "python3"
  },
  "language_info": {
   "codemirror_mode": {
    "name": "ipython",
    "version": 3
   },
   "file_extension": ".py",
   "mimetype": "text/x-python",
   "name": "python",
   "nbconvert_exporter": "python",
   "pygments_lexer": "ipython3",
   "version": "3.8.1"
  }
 },
 "nbformat": 4,
 "nbformat_minor": 4
}
