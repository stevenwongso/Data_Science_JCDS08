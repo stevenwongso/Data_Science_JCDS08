{
 "cells": [
  {
   "cell_type": "code",
   "execution_count": 2,
   "metadata": {},
   "outputs": [],
   "source": [
    "import numpy as np\n",
    "import pandas as pd\n",
    "import matplotlib.pyplot as plt"
   ]
  },
  {
   "cell_type": "code",
   "execution_count": 3,
   "metadata": {},
   "outputs": [
    {
     "data": {
      "text/html": [
       "<div>\n",
       "<style scoped>\n",
       "    .dataframe tbody tr th:only-of-type {\n",
       "        vertical-align: middle;\n",
       "    }\n",
       "\n",
       "    .dataframe tbody tr th {\n",
       "        vertical-align: top;\n",
       "    }\n",
       "\n",
       "    .dataframe thead th {\n",
       "        text-align: right;\n",
       "    }\n",
       "</style>\n",
       "<table border=\"1\" class=\"dataframe\">\n",
       "  <thead>\n",
       "    <tr style=\"text-align: right;\">\n",
       "      <th></th>\n",
       "      <th>mesin</th>\n",
       "      <th>harga</th>\n",
       "    </tr>\n",
       "  </thead>\n",
       "  <tbody>\n",
       "    <tr>\n",
       "      <th>0</th>\n",
       "      <td>1000</td>\n",
       "      <td>10</td>\n",
       "    </tr>\n",
       "    <tr>\n",
       "      <th>1</th>\n",
       "      <td>2000</td>\n",
       "      <td>25</td>\n",
       "    </tr>\n",
       "    <tr>\n",
       "      <th>2</th>\n",
       "      <td>3000</td>\n",
       "      <td>30</td>\n",
       "    </tr>\n",
       "    <tr>\n",
       "      <th>3</th>\n",
       "      <td>4000</td>\n",
       "      <td>65</td>\n",
       "    </tr>\n",
       "    <tr>\n",
       "      <th>4</th>\n",
       "      <td>5000</td>\n",
       "      <td>80</td>\n",
       "    </tr>\n",
       "  </tbody>\n",
       "</table>\n",
       "</div>"
      ],
      "text/plain": [
       "   mesin  harga\n",
       "0   1000     10\n",
       "1   2000     25\n",
       "2   3000     30\n",
       "3   4000     65\n",
       "4   5000     80"
      ]
     },
     "execution_count": 3,
     "metadata": {},
     "output_type": "execute_result"
    }
   ],
   "source": [
    "df = pd.DataFrame({\n",
    "    'mesin' : [1000,2000,3000,4000,5000],\n",
    "    'harga' : [10,25,30,65,80]\n",
    "})\n",
    "df"
   ]
  },
  {
   "cell_type": "code",
   "execution_count": 4,
   "metadata": {},
   "outputs": [
    {
     "data": {
      "image/png": "[encoded data removed]",
      "text/plain": [
       "<Figure size 432x288 with 1 Axes>"
      ]
     },
     "metadata": {
      "needs_background": "light"
     },
     "output_type": "display_data"
    }
   ],
   "source": [
    "plt.plot(df['mesin'],df['harga'], 'r-o')\n",
    "plt.show()"
   ]
  },
  {
   "cell_type": "code",
   "execution_count": 5,
   "metadata": {},
   "outputs": [
    {
     "data": {
      "text/html": [
       "<div>\n",
       "<style scoped>\n",
       "    .dataframe tbody tr th:only-of-type {\n",
       "        vertical-align: middle;\n",
       "    }\n",
       "\n",
       "    .dataframe tbody tr th {\n",
       "        vertical-align: top;\n",
       "    }\n",
       "\n",
       "    .dataframe thead th {\n",
       "        text-align: right;\n",
       "    }\n",
       "</style>\n",
       "<table border=\"1\" class=\"dataframe\">\n",
       "  <thead>\n",
       "    <tr style=\"text-align: right;\">\n",
       "      <th></th>\n",
       "      <th>mesin</th>\n",
       "      <th>harga</th>\n",
       "    </tr>\n",
       "  </thead>\n",
       "  <tbody>\n",
       "    <tr>\n",
       "      <th>mesin</th>\n",
       "      <td>1.000000</td>\n",
       "      <td>0.971909</td>\n",
       "    </tr>\n",
       "    <tr>\n",
       "      <th>harga</th>\n",
       "      <td>0.971909</td>\n",
       "      <td>1.000000</td>\n",
       "    </tr>\n",
       "  </tbody>\n",
       "</table>\n",
       "</div>"
      ],
      "text/plain": [
       "          mesin     harga\n",
       "mesin  1.000000  0.971909\n",
       "harga  0.971909  1.000000"
      ]
     },
     "execution_count": 5,
     "metadata": {},
     "output_type": "execute_result"
    }
   ],
   "source": [
    "df.corr()"
   ]
  },
  {
   "cell_type": "code",
   "execution_count": 6,
   "metadata": {},
   "outputs": [],
   "source": [
    "from sklearn.linear_model import LinearRegression"
   ]
  },
  {
   "cell_type": "code",
   "execution_count": 7,
   "metadata": {},
   "outputs": [],
   "source": [
    "model = LinearRegression()"
   ]
  },
  {
   "cell_type": "code",
   "execution_count": 8,
   "metadata": {},
   "outputs": [
    {
     "data": {
      "text/plain": [
       "LinearRegression(copy_X=True, fit_intercept=True, n_jobs=None, normalize=False)"
      ]
     },
     "execution_count": 8,
     "metadata": {},
     "output_type": "execute_result"
    }
   ],
   "source": [
    "model.fit(df[['mesin']],df['harga'])"
   ]
  },
  {
   "cell_type": "code",
   "execution_count": 9,
   "metadata": {},
   "outputs": [
    {
     "data": {
      "text/plain": [
       "0.018"
      ]
     },
     "metadata": {},
     "output_type": "display_data"
    },
    {
     "data": {
      "text/plain": [
       "-11.999999999999993"
      ]
     },
     "metadata": {},
     "output_type": "display_data"
    }
   ],
   "source": [
    "display(model.coef_[0])\n",
    "display(model.intercept_)"
   ]
  },
  {
   "cell_type": "code",
   "execution_count": 10,
   "metadata": {},
   "outputs": [],
   "source": [
    "df['y\"']=model.predict(df[['mesin']])"
   ]
  },
  {
   "cell_type": "code",
   "execution_count": 11,
   "metadata": {},
   "outputs": [
    {
     "data": {
      "image/png": "[encoded data removed]",
      "text/plain": [
       "<Figure size 432x288 with 1 Axes>"
      ]
     },
     "metadata": {
      "needs_background": "light"
     },
     "output_type": "display_data"
    }
   ],
   "source": [
    "plt.plot(df['mesin'],df['harga'],'r-o')\n",
    "plt.plot(df['mesin'],df['y\"'],'g-')\n",
    "plt.show()"
   ]
  },
  {
   "cell_type": "code",
   "execution_count": 12,
   "metadata": {},
   "outputs": [
    {
     "name": "stdout",
     "output_type": "stream",
     "text": [
      "-11.999999999999993\n",
      "-11.981999999999992\n",
      "0.018000000000000682\n"
     ]
    }
   ],
   "source": [
    "# mesin = 0 cc maka harga = intercept\n",
    "print(model.predict([[0]])[0])\n",
    "\n",
    "# mesin = 1 cc maka harga = ?\n",
    "print(model.predict([[1]])[0])\n",
    "\n",
    "#selisih harga mesin 1 cc & 0 cc\n",
    "print(model.predict([[1]])[0]-model.predict([[0]])[0])\n",
    "# setiap naik 1cc, maka harga akan naik 0.018 juta"
   ]
  },
  {
   "cell_type": "code",
   "execution_count": 13,
   "metadata": {},
   "outputs": [
    {
     "data": {
      "text/html": [
       "<div>\n",
       "<style scoped>\n",
       "    .dataframe tbody tr th:only-of-type {\n",
       "        vertical-align: middle;\n",
       "    }\n",
       "\n",
       "    .dataframe tbody tr th {\n",
       "        vertical-align: top;\n",
       "    }\n",
       "\n",
       "    .dataframe thead th {\n",
       "        text-align: right;\n",
       "    }\n",
       "</style>\n",
       "<table border=\"1\" class=\"dataframe\">\n",
       "  <thead>\n",
       "    <tr style=\"text-align: right;\">\n",
       "      <th></th>\n",
       "      <th>mesin</th>\n",
       "      <th>harga</th>\n",
       "      <th>y\"</th>\n",
       "      <th>|y-y\"|</th>\n",
       "    </tr>\n",
       "  </thead>\n",
       "  <tbody>\n",
       "    <tr>\n",
       "      <th>0</th>\n",
       "      <td>1000</td>\n",
       "      <td>10</td>\n",
       "      <td>6.0</td>\n",
       "      <td>4.0</td>\n",
       "    </tr>\n",
       "    <tr>\n",
       "      <th>1</th>\n",
       "      <td>2000</td>\n",
       "      <td>25</td>\n",
       "      <td>24.0</td>\n",
       "      <td>1.0</td>\n",
       "    </tr>\n",
       "    <tr>\n",
       "      <th>2</th>\n",
       "      <td>3000</td>\n",
       "      <td>30</td>\n",
       "      <td>42.0</td>\n",
       "      <td>12.0</td>\n",
       "    </tr>\n",
       "    <tr>\n",
       "      <th>3</th>\n",
       "      <td>4000</td>\n",
       "      <td>65</td>\n",
       "      <td>60.0</td>\n",
       "      <td>5.0</td>\n",
       "    </tr>\n",
       "    <tr>\n",
       "      <th>4</th>\n",
       "      <td>5000</td>\n",
       "      <td>80</td>\n",
       "      <td>78.0</td>\n",
       "      <td>2.0</td>\n",
       "    </tr>\n",
       "  </tbody>\n",
       "</table>\n",
       "</div>"
      ],
      "text/plain": [
       "   mesin  harga    y\"  |y-y\"|\n",
       "0   1000     10   6.0     4.0\n",
       "1   2000     25  24.0     1.0\n",
       "2   3000     30  42.0    12.0\n",
       "3   4000     65  60.0     5.0\n",
       "4   5000     80  78.0     2.0"
      ]
     },
     "execution_count": 13,
     "metadata": {},
     "output_type": "execute_result"
    }
   ],
   "source": [
    "# hitung residual/error/galat/ralat/toleransi\n",
    "# |harga prediksi - harga aktual|\n",
    "df['|y-y\"|'] = np.abs(df['y\"']-df['harga'])\n",
    "df"
   ]
  },
  {
   "cell_type": "markdown",
   "metadata": {},
   "source": [
    "### Evalution matrix\n",
    "\n",
    "<hr>\n",
    "\n",
    "#### 1. Max Error :\n",
    "\n",
    "- Residual/error/selisih y aktual & y prediksi tertinggi \n",
    "- Makin tinggi max error maka model makin buruk\n",
    "\n",
    "$$ \\displaystyle \\textrm{Max Error} = \\textrm{Max} (| y - \\hat{y}|)$$\n"
   ]
  },
  {
   "cell_type": "code",
   "execution_count": 14,
   "metadata": {},
   "outputs": [
    {
     "data": {
      "text/plain": [
       "12.0"
      ]
     },
     "execution_count": 14,
     "metadata": {},
     "output_type": "execute_result"
    }
   ],
   "source": [
    "maxErr = df['|y-y\"|'].max()\n",
    "maxErr"
   ]
  },
  {
   "cell_type": "markdown",
   "metadata": {},
   "source": [
    "<hr>\n",
    "\n",
    "#### 2. Mean Absolute Error (MAE)\n",
    "\n",
    "- Rata-rata nilai error\n",
    "\n",
    "$$\\displaystyle \\textrm{MAE} = \\frac {1}{n} \\sum (| y - \\hat{y}|)  $$"
   ]
  },
  {
   "cell_type": "code",
   "execution_count": 15,
   "metadata": {},
   "outputs": [
    {
     "data": {
      "text/plain": [
       "4.8"
      ]
     },
     "execution_count": 15,
     "metadata": {},
     "output_type": "execute_result"
    }
   ],
   "source": [
    "n = df['mesin'].count()\n",
    "MAE = round(df['|y-y\"|'].sum()) / n\n",
    "MAE"
   ]
  },
  {
   "cell_type": "markdown",
   "metadata": {},
   "source": [
    "<hr>\n",
    "\n",
    "#### Sum Squared Error (SSE)\n",
    "\n",
    "$$\\displaystyle \\textrm{SSE} =  \\sum|y - \\hat{y}|^2  $$"
   ]
  },
  {
   "cell_type": "code",
   "execution_count": 16,
   "metadata": {},
   "outputs": [],
   "source": [
    "df['|y-y\"|^2'] = df['|y-y\"|'] ** 2"
   ]
  },
  {
   "cell_type": "code",
   "execution_count": 17,
   "metadata": {},
   "outputs": [
    {
     "data": {
      "text/plain": [
       "190.0"
      ]
     },
     "execution_count": 17,
     "metadata": {},
     "output_type": "execute_result"
    }
   ],
   "source": [
    "sse = round(df['|y-y\"|^2'].sum())\n",
    "sse"
   ]
  },
  {
   "cell_type": "markdown",
   "metadata": {},
   "source": [
    "<hr>\n",
    "\n",
    "#### 3. Mean Squared Error (MSE)\n",
    "\n",
    "- __MSE__ : rata-rata SSE = SSE/jumlah data\n",
    "\n",
    "$$\\displaystyle \\textrm{MSE} =\\frac {1}{n}  \\sum|y - \\hat{y}|^2  $$"
   ]
  },
  {
   "cell_type": "code",
   "execution_count": 18,
   "metadata": {},
   "outputs": [
    {
     "data": {
      "text/plain": [
       "38.0"
      ]
     },
     "execution_count": 18,
     "metadata": {},
     "output_type": "execute_result"
    }
   ],
   "source": [
    "mse = sse/n\n",
    "mse"
   ]
  },
  {
   "cell_type": "markdown",
   "metadata": {},
   "source": [
    "<hr>\n",
    "\n",
    "#### 4. Root of MSE (RMSE)\n",
    "\n",
    "- Biasanya digunakan sebagai nilai ralat untuk setiap hasil prediksi\n",
    "\n",
    "$$\\displaystyle \\textrm{RMSE} = \\sqrt { \\frac {1}{n}  \\sum|y - \\hat{y}|^2}  $$"
   ]
  },
  {
   "cell_type": "code",
   "execution_count": 19,
   "metadata": {},
   "outputs": [
    {
     "data": {
      "text/plain": [
       "6.164414002968976"
      ]
     },
     "execution_count": 19,
     "metadata": {},
     "output_type": "execute_result"
    }
   ],
   "source": [
    "rmse = mse ** (0.5)\n",
    "rmse"
   ]
  },
  {
   "cell_type": "markdown",
   "metadata": {},
   "source": [
    "<hr>\n",
    "\n",
    "#### 5. Median Absoulte Error (MedAE)\n",
    "\n",
    "$$\\displaystyle \\textrm{MedAE} = \\textrm{Median} (|y_1 - \\hat{y_1}|,...,|y_n - \\hat{y_n}|) $$"
   ]
  },
  {
   "cell_type": "code",
   "execution_count": 20,
   "metadata": {},
   "outputs": [
    {
     "data": {
      "text/plain": [
       "3.999999999999993"
      ]
     },
     "execution_count": 20,
     "metadata": {},
     "output_type": "execute_result"
    }
   ],
   "source": [
    "df = df.sort_values('|y-y\"|')\n",
    "medae = np.median(df['|y-y\"|'])\n",
    "medae"
   ]
  },
  {
   "cell_type": "markdown",
   "metadata": {},
   "source": [
    "<hr>\n",
    "\n",
    "#### 6. Mean Squared Logarithmic Error (MSLE)\n",
    "\n",
    "- $\\ln{x} = ^e\\log{x}$\n",
    "$$ \\displaystyle \\textrm{MSLE} = \\frac {1}{n} \\sum ( \\ln{(1 +y_i)} - \\ln{(1 + \\hat{y_i})}) ^2 $$"
   ]
  },
  {
   "cell_type": "code",
   "execution_count": 21,
   "metadata": {},
   "outputs": [
    {
     "data": {
      "text/html": [
       "<div>\n",
       "<style scoped>\n",
       "    .dataframe tbody tr th:only-of-type {\n",
       "        vertical-align: middle;\n",
       "    }\n",
       "\n",
       "    .dataframe tbody tr th {\n",
       "        vertical-align: top;\n",
       "    }\n",
       "\n",
       "    .dataframe thead th {\n",
       "        text-align: right;\n",
       "    }\n",
       "</style>\n",
       "<table border=\"1\" class=\"dataframe\">\n",
       "  <thead>\n",
       "    <tr style=\"text-align: right;\">\n",
       "      <th></th>\n",
       "      <th>mesin</th>\n",
       "      <th>harga</th>\n",
       "      <th>y\"</th>\n",
       "      <th>|y-y\"|</th>\n",
       "      <th>|y-y\"|^2</th>\n",
       "      <th>ln(1+y)</th>\n",
       "      <th>ln(1+y\")</th>\n",
       "      <th>sle</th>\n",
       "    </tr>\n",
       "  </thead>\n",
       "  <tbody>\n",
       "    <tr>\n",
       "      <th>1</th>\n",
       "      <td>2000</td>\n",
       "      <td>25</td>\n",
       "      <td>24.0</td>\n",
       "      <td>1.0</td>\n",
       "      <td>1.0</td>\n",
       "      <td>3.258097</td>\n",
       "      <td>3.218876</td>\n",
       "      <td>0.001538</td>\n",
       "    </tr>\n",
       "    <tr>\n",
       "      <th>4</th>\n",
       "      <td>5000</td>\n",
       "      <td>80</td>\n",
       "      <td>78.0</td>\n",
       "      <td>2.0</td>\n",
       "      <td>4.0</td>\n",
       "      <td>4.394449</td>\n",
       "      <td>4.369448</td>\n",
       "      <td>0.000625</td>\n",
       "    </tr>\n",
       "    <tr>\n",
       "      <th>0</th>\n",
       "      <td>1000</td>\n",
       "      <td>10</td>\n",
       "      <td>6.0</td>\n",
       "      <td>4.0</td>\n",
       "      <td>16.0</td>\n",
       "      <td>2.397895</td>\n",
       "      <td>1.945910</td>\n",
       "      <td>0.204291</td>\n",
       "    </tr>\n",
       "    <tr>\n",
       "      <th>3</th>\n",
       "      <td>4000</td>\n",
       "      <td>65</td>\n",
       "      <td>60.0</td>\n",
       "      <td>5.0</td>\n",
       "      <td>25.0</td>\n",
       "      <td>4.189655</td>\n",
       "      <td>4.110874</td>\n",
       "      <td>0.006206</td>\n",
       "    </tr>\n",
       "    <tr>\n",
       "      <th>2</th>\n",
       "      <td>3000</td>\n",
       "      <td>30</td>\n",
       "      <td>42.0</td>\n",
       "      <td>12.0</td>\n",
       "      <td>144.0</td>\n",
       "      <td>3.433987</td>\n",
       "      <td>3.761200</td>\n",
       "      <td>0.107068</td>\n",
       "    </tr>\n",
       "  </tbody>\n",
       "</table>\n",
       "</div>"
      ],
      "text/plain": [
       "   mesin  harga    y\"  |y-y\"|  |y-y\"|^2   ln(1+y)  ln(1+y\")       sle\n",
       "1   2000     25  24.0     1.0       1.0  3.258097  3.218876  0.001538\n",
       "4   5000     80  78.0     2.0       4.0  4.394449  4.369448  0.000625\n",
       "0   1000     10   6.0     4.0      16.0  2.397895  1.945910  0.204291\n",
       "3   4000     65  60.0     5.0      25.0  4.189655  4.110874  0.006206\n",
       "2   3000     30  42.0    12.0     144.0  3.433987  3.761200  0.107068"
      ]
     },
     "execution_count": 21,
     "metadata": {},
     "output_type": "execute_result"
    }
   ],
   "source": [
    "df['ln(1+y)']  = np.log(df['harga'] + 1)\n",
    "df['ln(1+y\")'] = np.log(df['y\"'] + 1)\n",
    "df['sle'] = (df['ln(1+y)'] - df['ln(1+y\")']) ** 2\n",
    "df"
   ]
  },
  {
   "cell_type": "code",
   "execution_count": 22,
   "metadata": {},
   "outputs": [
    {
     "data": {
      "text/plain": [
       "0.06394571950280772"
      ]
     },
     "execution_count": 22,
     "metadata": {},
     "output_type": "execute_result"
    }
   ],
   "source": [
    "msle = df['sle'].sum() / n\n",
    "msle"
   ]
  },
  {
   "cell_type": "markdown",
   "metadata": {},
   "source": [
    "<hr>\n",
    "\n",
    "#### 7. Root of Mean Squared Logarithmic Error (RMSLE)\n",
    "\n",
    "$$ \\displaystyle \\textrm{RMSLE} = \\sqrt { \\frac {1}{n} \\sum ( \\ln{(1 +y_i)} - \\ln{(1 + \\hat{y_i})}) ^2 } $$"
   ]
  },
  {
   "cell_type": "code",
   "execution_count": 23,
   "metadata": {},
   "outputs": [
    {
     "data": {
      "text/plain": [
       "0.2528749088043488"
      ]
     },
     "execution_count": 23,
     "metadata": {},
     "output_type": "execute_result"
    }
   ],
   "source": [
    "rmsle = np.sqrt(msle)\n",
    "rmsle"
   ]
  },
  {
   "cell_type": "markdown",
   "metadata": {},
   "source": [
    "<hr>\n",
    "\n",
    "#### 8. Mean Absolute Percentage Error (MAPE)\n",
    "\n",
    "Absolute Percentage Error $ \\displaystyle = | \\frac {y - \\hat{y}}{y} | $\n",
    "\n",
    "$$ \\displaystyle \\textrm{MAPE} \\frac {1}{n} \\sum | \\frac {y - \\hat{y}}{y} | $$"
   ]
  },
  {
   "cell_type": "code",
   "execution_count": 24,
   "metadata": {},
   "outputs": [],
   "source": [
    "df['ape'] = np.abs((df['harga'] - df['y\"']) / df['harga'])"
   ]
  },
  {
   "cell_type": "code",
   "execution_count": 25,
   "metadata": {},
   "outputs": [
    {
     "data": {
      "text/plain": [
       "0.18838461538461518"
      ]
     },
     "execution_count": 25,
     "metadata": {},
     "output_type": "execute_result"
    }
   ],
   "source": [
    "mape = df['ape'].sum()/n\n",
    "mape"
   ]
  },
  {
   "cell_type": "markdown",
   "metadata": {},
   "source": [
    "<hr>\n",
    "\n",
    "#### 9. Mean Squared Percentage Error\n",
    "\n",
    "$$ \\displaystyle \\textrm{MSPE} = \\frac {1}{n} \\sum ( \\frac {y - \\hat{y}}{y} ) ^ 2 $$"
   ]
  },
  {
   "cell_type": "code",
   "execution_count": 26,
   "metadata": {},
   "outputs": [],
   "source": [
    "df['ape^2'] = df['ape'] ** 2"
   ]
  },
  {
   "cell_type": "code",
   "execution_count": 27,
   "metadata": {},
   "outputs": [
    {
     "data": {
      "text/plain": [
       "0.06562843195266262"
      ]
     },
     "execution_count": 27,
     "metadata": {},
     "output_type": "execute_result"
    }
   ],
   "source": [
    "mspe = df['ape^2'].sum()/n\n",
    "mspe"
   ]
  },
  {
   "cell_type": "markdown",
   "metadata": {},
   "source": [
    "<hr>\n",
    "\n",
    "#### 10. $R^2$ Score\n",
    "\n",
    "- $R^2$ score (coeeficient of determination)\n",
    "\n",
    "$$ \\displaystyle R^2 \\textrm{score} = 1 - \\frac {\\sum (y-\\hat{y}^2)} {\\sum(y-\\bar{y})^2} $$\n",
    "\n",
    "dimana $\\hat{y}$ = y prediksi dan $\\bar{y}$ = y rata-rata"
   ]
  },
  {
   "cell_type": "code",
   "execution_count": 28,
   "metadata": {},
   "outputs": [],
   "source": [
    "df['(y-yrata)^2'] = (df['harga'] - df['harga'].mean()) ** 2"
   ]
  },
  {
   "cell_type": "code",
   "execution_count": 29,
   "metadata": {},
   "outputs": [
    {
     "data": {
      "text/plain": [
       "0.9446064139941691"
      ]
     },
     "execution_count": 29,
     "metadata": {},
     "output_type": "execute_result"
    }
   ],
   "source": [
    "r2 = 1- (df['|y-y\"|^2'].sum() / df['(y-yrata)^2'].sum())\n",
    "r2"
   ]
  },
  {
   "cell_type": "markdown",
   "metadata": {},
   "source": [
    "<hr>\n",
    "\n",
    "### 11 Evaluation Metrics using sklearn"
   ]
  },
  {
   "cell_type": "code",
   "execution_count": 30,
   "metadata": {},
   "outputs": [],
   "source": [
    "from sklearn.metrics import(\n",
    "    max_error,\n",
    "    mean_absolute_error,\n",
    "    mean_squared_error,\n",
    "    mean_squared_log_error,\n",
    "    median_absolute_error,\n",
    "    r2_score\n",
    ")"
   ]
  },
  {
   "cell_type": "code",
   "execution_count": 44,
   "metadata": {},
   "outputs": [
    {
     "name": "stdout",
     "output_type": "stream",
     "text": [
      "Max Error : 12.0\n",
      "MAE = 4.799999999999995\n",
      "MSE = 37.99999999999997\n",
      "RMSE = 6.164414002968974\n",
      "MSLE = 0.06394571950280772\n",
      "RMSLE = 0.2528749088043488\n",
      "Median Absolute Error = 3.999999999999993\n",
      "R2 = 0.9446064139941691\n"
     ]
    }
   ],
   "source": [
    "print('Max Error : {}'.format(max_error(df['harga'],df['y\"'])))\n",
    "print(\"MAE = {}\".format(mean_absolute_error(df['harga'],df['y\"'])))\n",
    "print(\"MSE = {}\".format(mean_squared_error(df['harga'],df['y\"'])))\n",
    "print(\"RMSE = {}\".format(np.sqrt(mean_squared_error(df['harga'],df['y\"']))))\n",
    "print(\"MSLE = {}\".format(mean_squared_log_error(df['harga'],df['y\"'])))\n",
    "print(\"RMSLE = {}\".format(np.sqrt(mean_squared_log_error(df['harga'],df['y\"']))))\n",
    "print(\"Median Absolute Error = {}\".format(median_absolute_error(df['harga'],df['y\"'])))\n",
    "print(\"R2 = {}\".format(r2_score(df['harga'],df['y\"'])))"
   ]
  },
  {
   "cell_type": "code",
   "execution_count": null,
   "metadata": {},
   "outputs": [],
   "source": []
  }
 ],
 "metadata": {
  "kernelspec": {
   "display_name": "Python 3",
   "language": "python",
   "name": "python3"
  },
  "language_info": {
   "codemirror_mode": {
    "name": "ipython",
    "version": 3
   },
   "file_extension": ".py",
   "mimetype": "text/x-python",
   "name": "python",
   "nbconvert_exporter": "python",
   "pygments_lexer": "ipython3",
   "version": "3.8.1"
  }
 },
 "nbformat": 4,
 "nbformat_minor": 4
}
