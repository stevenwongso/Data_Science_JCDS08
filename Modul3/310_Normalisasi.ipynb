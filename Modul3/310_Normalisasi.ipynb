{
 "cells": [
  {
   "cell_type": "code",
   "execution_count": 3,
   "metadata": {},
   "outputs": [],
   "source": [
    "import numpy as np\n",
    "import pandas as pd\n",
    "import matplotlib.pyplot as plt"
   ]
  },
  {
   "cell_type": "markdown",
   "metadata": {},
   "source": [
    "# Feature Scaling\n",
    "\n",
    "### Normalisasi / Min Max Scaler\n",
    "\n",
    "- Normalisasi aka Minimum Maximum Scaler\n",
    "- Formula normalisasi $\\displaystyle x' = \\frac {x - x_\\textrm{min}} {x_\\textrm{max} - x_\\textrm{min}}$\n",
    "- Hasil normalisasi: data akan memiliki range __0__ sampai __1__."
   ]
  },
  {
   "cell_type": "code",
   "execution_count": 4,
   "metadata": {},
   "outputs": [],
   "source": [
    "df = pd.DataFrame({\n",
    "    'TB': [1.72, 1.81, 1.93, 1.67, 1.85, 1.66, 1.59, 1.76, 1.88, 1.78],\n",
    "    'BB': [76, 65, 87, 55, 60, 78, 98, 77, 74, 64]\n",
    "})"
   ]
  },
  {
   "cell_type": "markdown",
   "metadata": {},
   "source": [
    "<hr>\n",
    "\n",
    "### 1. Manual calculation\n",
    "\n",
    "- Formula normalisasi $\\displaystyle x' = \\frac {x - x_\\textrm{min}} {x_\\textrm{max} - x_\\textrm{min}}$"
   ]
  },
  {
   "cell_type": "code",
   "execution_count": 5,
   "metadata": {},
   "outputs": [
    {
     "data": {
      "text/html": [
       "<div>\n",
       "<style scoped>\n",
       "    .dataframe tbody tr th:only-of-type {\n",
       "        vertical-align: middle;\n",
       "    }\n",
       "\n",
       "    .dataframe tbody tr th {\n",
       "        vertical-align: top;\n",
       "    }\n",
       "\n",
       "    .dataframe thead th {\n",
       "        text-align: right;\n",
       "    }\n",
       "</style>\n",
       "<table border=\"1\" class=\"dataframe\">\n",
       "  <thead>\n",
       "    <tr style=\"text-align: right;\">\n",
       "      <th></th>\n",
       "      <th>TB</th>\n",
       "      <th>BB</th>\n",
       "      <th>nTB</th>\n",
       "      <th>nBB</th>\n",
       "    </tr>\n",
       "  </thead>\n",
       "  <tbody>\n",
       "    <tr>\n",
       "      <th>0</th>\n",
       "      <td>1.72</td>\n",
       "      <td>76</td>\n",
       "      <td>0.382353</td>\n",
       "      <td>0.488372</td>\n",
       "    </tr>\n",
       "    <tr>\n",
       "      <th>1</th>\n",
       "      <td>1.81</td>\n",
       "      <td>65</td>\n",
       "      <td>0.647059</td>\n",
       "      <td>0.232558</td>\n",
       "    </tr>\n",
       "    <tr>\n",
       "      <th>2</th>\n",
       "      <td>1.93</td>\n",
       "      <td>87</td>\n",
       "      <td>1.000000</td>\n",
       "      <td>0.744186</td>\n",
       "    </tr>\n",
       "    <tr>\n",
       "      <th>3</th>\n",
       "      <td>1.67</td>\n",
       "      <td>55</td>\n",
       "      <td>0.235294</td>\n",
       "      <td>0.000000</td>\n",
       "    </tr>\n",
       "    <tr>\n",
       "      <th>4</th>\n",
       "      <td>1.85</td>\n",
       "      <td>60</td>\n",
       "      <td>0.764706</td>\n",
       "      <td>0.116279</td>\n",
       "    </tr>\n",
       "    <tr>\n",
       "      <th>5</th>\n",
       "      <td>1.66</td>\n",
       "      <td>78</td>\n",
       "      <td>0.205882</td>\n",
       "      <td>0.534884</td>\n",
       "    </tr>\n",
       "    <tr>\n",
       "      <th>6</th>\n",
       "      <td>1.59</td>\n",
       "      <td>98</td>\n",
       "      <td>0.000000</td>\n",
       "      <td>1.000000</td>\n",
       "    </tr>\n",
       "    <tr>\n",
       "      <th>7</th>\n",
       "      <td>1.76</td>\n",
       "      <td>77</td>\n",
       "      <td>0.500000</td>\n",
       "      <td>0.511628</td>\n",
       "    </tr>\n",
       "    <tr>\n",
       "      <th>8</th>\n",
       "      <td>1.88</td>\n",
       "      <td>74</td>\n",
       "      <td>0.852941</td>\n",
       "      <td>0.441860</td>\n",
       "    </tr>\n",
       "    <tr>\n",
       "      <th>9</th>\n",
       "      <td>1.78</td>\n",
       "      <td>64</td>\n",
       "      <td>0.558824</td>\n",
       "      <td>0.209302</td>\n",
       "    </tr>\n",
       "  </tbody>\n",
       "</table>\n",
       "</div>"
      ],
      "text/plain": [
       "     TB  BB       nTB       nBB\n",
       "0  1.72  76  0.382353  0.488372\n",
       "1  1.81  65  0.647059  0.232558\n",
       "2  1.93  87  1.000000  0.744186\n",
       "3  1.67  55  0.235294  0.000000\n",
       "4  1.85  60  0.764706  0.116279\n",
       "5  1.66  78  0.205882  0.534884\n",
       "6  1.59  98  0.000000  1.000000\n",
       "7  1.76  77  0.500000  0.511628\n",
       "8  1.88  74  0.852941  0.441860\n",
       "9  1.78  64  0.558824  0.209302"
      ]
     },
     "execution_count": 5,
     "metadata": {},
     "output_type": "execute_result"
    }
   ],
   "source": [
    "df['nTB'] = (df['TB'] - df['TB'].min()) / (df['TB'].max() - df['TB'].min())\n",
    "df['nBB'] = (df['BB'] - df['BB'].min()) / (df['BB'].max() - df['BB'].min())\n",
    "df"
   ]
  },
  {
   "cell_type": "markdown",
   "metadata": {},
   "source": [
    "- Formula inverse normalisasi $\\displaystyle x = x' \\cdot (x_\\textrm{max} - x_\\textrm{min}) + x_\\textrm{min}$"
   ]
  },
  {
   "cell_type": "code",
   "execution_count": 6,
   "metadata": {},
   "outputs": [
    {
     "data": {
      "text/plain": [
       "0    1.72\n",
       "1    1.81\n",
       "2    1.93\n",
       "3    1.67\n",
       "4    1.85\n",
       "5    1.66\n",
       "6    1.59\n",
       "7    1.76\n",
       "8    1.88\n",
       "9    1.78\n",
       "Name: nTB, dtype: float64"
      ]
     },
     "execution_count": 6,
     "metadata": {},
     "output_type": "execute_result"
    }
   ],
   "source": [
    "df['nTB'] * (df['TB'].max() - df['TB'].min()) + df['TB'].min()"
   ]
  },
  {
   "cell_type": "markdown",
   "metadata": {},
   "source": [
    "<hr>\n",
    "\n",
    "###  2. Sklearn ```minmax_scale()```"
   ]
  },
  {
   "cell_type": "code",
   "execution_count": 7,
   "metadata": {},
   "outputs": [],
   "source": [
    "from sklearn.preprocessing import minmax_scale"
   ]
  },
  {
   "cell_type": "code",
   "execution_count": 8,
   "metadata": {},
   "outputs": [
    {
     "data": {
      "text/html": [
       "<div>\n",
       "<style scoped>\n",
       "    .dataframe tbody tr th:only-of-type {\n",
       "        vertical-align: middle;\n",
       "    }\n",
       "\n",
       "    .dataframe tbody tr th {\n",
       "        vertical-align: top;\n",
       "    }\n",
       "\n",
       "    .dataframe thead th {\n",
       "        text-align: right;\n",
       "    }\n",
       "</style>\n",
       "<table border=\"1\" class=\"dataframe\">\n",
       "  <thead>\n",
       "    <tr style=\"text-align: right;\">\n",
       "      <th></th>\n",
       "      <th>TB</th>\n",
       "      <th>BB</th>\n",
       "      <th>nTB</th>\n",
       "      <th>nBB</th>\n",
       "      <th>nTB2</th>\n",
       "      <th>nBB2</th>\n",
       "    </tr>\n",
       "  </thead>\n",
       "  <tbody>\n",
       "    <tr>\n",
       "      <th>0</th>\n",
       "      <td>1.72</td>\n",
       "      <td>76</td>\n",
       "      <td>0.382353</td>\n",
       "      <td>0.488372</td>\n",
       "      <td>0.382353</td>\n",
       "      <td>0.488372</td>\n",
       "    </tr>\n",
       "    <tr>\n",
       "      <th>1</th>\n",
       "      <td>1.81</td>\n",
       "      <td>65</td>\n",
       "      <td>0.647059</td>\n",
       "      <td>0.232558</td>\n",
       "      <td>0.647059</td>\n",
       "      <td>0.232558</td>\n",
       "    </tr>\n",
       "    <tr>\n",
       "      <th>2</th>\n",
       "      <td>1.93</td>\n",
       "      <td>87</td>\n",
       "      <td>1.000000</td>\n",
       "      <td>0.744186</td>\n",
       "      <td>1.000000</td>\n",
       "      <td>0.744186</td>\n",
       "    </tr>\n",
       "    <tr>\n",
       "      <th>3</th>\n",
       "      <td>1.67</td>\n",
       "      <td>55</td>\n",
       "      <td>0.235294</td>\n",
       "      <td>0.000000</td>\n",
       "      <td>0.235294</td>\n",
       "      <td>0.000000</td>\n",
       "    </tr>\n",
       "    <tr>\n",
       "      <th>4</th>\n",
       "      <td>1.85</td>\n",
       "      <td>60</td>\n",
       "      <td>0.764706</td>\n",
       "      <td>0.116279</td>\n",
       "      <td>0.764706</td>\n",
       "      <td>0.116279</td>\n",
       "    </tr>\n",
       "  </tbody>\n",
       "</table>\n",
       "</div>"
      ],
      "text/plain": [
       "     TB  BB       nTB       nBB      nTB2      nBB2\n",
       "0  1.72  76  0.382353  0.488372  0.382353  0.488372\n",
       "1  1.81  65  0.647059  0.232558  0.647059  0.232558\n",
       "2  1.93  87  1.000000  0.744186  1.000000  0.744186\n",
       "3  1.67  55  0.235294  0.000000  0.235294  0.000000\n",
       "4  1.85  60  0.764706  0.116279  0.764706  0.116279"
      ]
     },
     "execution_count": 8,
     "metadata": {},
     "output_type": "execute_result"
    }
   ],
   "source": [
    "df['nTB2'] = minmax_scale(df['TB'])\n",
    "df['nBB2'] = minmax_scale(df['BB'])\n",
    "df.head()"
   ]
  },
  {
   "cell_type": "markdown",
   "metadata": {},
   "source": [
    "<hr>\n",
    "\n",
    "###  3. Sklearn ```MinMaxScaler()```"
   ]
  },
  {
   "cell_type": "code",
   "execution_count": 9,
   "metadata": {},
   "outputs": [],
   "source": [
    "from sklearn.preprocessing import MinMaxScaler"
   ]
  },
  {
   "cell_type": "code",
   "execution_count": 10,
   "metadata": {},
   "outputs": [
    {
     "data": {
      "text/html": [
       "<div>\n",
       "<style scoped>\n",
       "    .dataframe tbody tr th:only-of-type {\n",
       "        vertical-align: middle;\n",
       "    }\n",
       "\n",
       "    .dataframe tbody tr th {\n",
       "        vertical-align: top;\n",
       "    }\n",
       "\n",
       "    .dataframe thead th {\n",
       "        text-align: right;\n",
       "    }\n",
       "</style>\n",
       "<table border=\"1\" class=\"dataframe\">\n",
       "  <thead>\n",
       "    <tr style=\"text-align: right;\">\n",
       "      <th></th>\n",
       "      <th>TB</th>\n",
       "      <th>BB</th>\n",
       "      <th>nTB</th>\n",
       "      <th>nBB</th>\n",
       "      <th>nTB2</th>\n",
       "      <th>nBB2</th>\n",
       "      <th>nTB3</th>\n",
       "      <th>nBB3</th>\n",
       "    </tr>\n",
       "  </thead>\n",
       "  <tbody>\n",
       "    <tr>\n",
       "      <th>0</th>\n",
       "      <td>1.72</td>\n",
       "      <td>76</td>\n",
       "      <td>0.382353</td>\n",
       "      <td>0.488372</td>\n",
       "      <td>0.382353</td>\n",
       "      <td>0.488372</td>\n",
       "      <td>0.382353</td>\n",
       "      <td>0.488372</td>\n",
       "    </tr>\n",
       "    <tr>\n",
       "      <th>1</th>\n",
       "      <td>1.81</td>\n",
       "      <td>65</td>\n",
       "      <td>0.647059</td>\n",
       "      <td>0.232558</td>\n",
       "      <td>0.647059</td>\n",
       "      <td>0.232558</td>\n",
       "      <td>0.647059</td>\n",
       "      <td>0.232558</td>\n",
       "    </tr>\n",
       "    <tr>\n",
       "      <th>2</th>\n",
       "      <td>1.93</td>\n",
       "      <td>87</td>\n",
       "      <td>1.000000</td>\n",
       "      <td>0.744186</td>\n",
       "      <td>1.000000</td>\n",
       "      <td>0.744186</td>\n",
       "      <td>1.000000</td>\n",
       "      <td>0.744186</td>\n",
       "    </tr>\n",
       "    <tr>\n",
       "      <th>3</th>\n",
       "      <td>1.67</td>\n",
       "      <td>55</td>\n",
       "      <td>0.235294</td>\n",
       "      <td>0.000000</td>\n",
       "      <td>0.235294</td>\n",
       "      <td>0.000000</td>\n",
       "      <td>0.235294</td>\n",
       "      <td>0.000000</td>\n",
       "    </tr>\n",
       "    <tr>\n",
       "      <th>4</th>\n",
       "      <td>1.85</td>\n",
       "      <td>60</td>\n",
       "      <td>0.764706</td>\n",
       "      <td>0.116279</td>\n",
       "      <td>0.764706</td>\n",
       "      <td>0.116279</td>\n",
       "      <td>0.764706</td>\n",
       "      <td>0.116279</td>\n",
       "    </tr>\n",
       "  </tbody>\n",
       "</table>\n",
       "</div>"
      ],
      "text/plain": [
       "     TB  BB       nTB       nBB      nTB2      nBB2      nTB3      nBB3\n",
       "0  1.72  76  0.382353  0.488372  0.382353  0.488372  0.382353  0.488372\n",
       "1  1.81  65  0.647059  0.232558  0.647059  0.232558  0.647059  0.232558\n",
       "2  1.93  87  1.000000  0.744186  1.000000  0.744186  1.000000  0.744186\n",
       "3  1.67  55  0.235294  0.000000  0.235294  0.000000  0.235294  0.000000\n",
       "4  1.85  60  0.764706  0.116279  0.764706  0.116279  0.764706  0.116279"
      ]
     },
     "execution_count": 10,
     "metadata": {},
     "output_type": "execute_result"
    }
   ],
   "source": [
    "scaler = MinMaxScaler()\n",
    "scaler.fit(df[['TB','BB']])\n",
    "n3 = scaler.transform(df[['TB','BB']])\n",
    "df['nTB3'] = n3[:,0]\n",
    "df['nBB3'] = n3[:,1]\n",
    "df.head()"
   ]
  },
  {
   "cell_type": "code",
   "execution_count": 11,
   "metadata": {},
   "outputs": [
    {
     "data": {
      "text/html": [
       "<div>\n",
       "<style scoped>\n",
       "    .dataframe tbody tr th:only-of-type {\n",
       "        vertical-align: middle;\n",
       "    }\n",
       "\n",
       "    .dataframe tbody tr th {\n",
       "        vertical-align: top;\n",
       "    }\n",
       "\n",
       "    .dataframe thead th {\n",
       "        text-align: right;\n",
       "    }\n",
       "</style>\n",
       "<table border=\"1\" class=\"dataframe\">\n",
       "  <thead>\n",
       "    <tr style=\"text-align: right;\">\n",
       "      <th></th>\n",
       "      <th>TB</th>\n",
       "      <th>BB</th>\n",
       "      <th>nTB</th>\n",
       "      <th>nBB</th>\n",
       "      <th>nTB2</th>\n",
       "      <th>nBB2</th>\n",
       "      <th>nTB3</th>\n",
       "      <th>nBB3</th>\n",
       "      <th>inTB</th>\n",
       "      <th>inBB</th>\n",
       "    </tr>\n",
       "  </thead>\n",
       "  <tbody>\n",
       "    <tr>\n",
       "      <th>0</th>\n",
       "      <td>1.72</td>\n",
       "      <td>76</td>\n",
       "      <td>0.382353</td>\n",
       "      <td>0.488372</td>\n",
       "      <td>0.382353</td>\n",
       "      <td>0.488372</td>\n",
       "      <td>0.382353</td>\n",
       "      <td>0.488372</td>\n",
       "      <td>1.72</td>\n",
       "      <td>76.0</td>\n",
       "    </tr>\n",
       "    <tr>\n",
       "      <th>1</th>\n",
       "      <td>1.81</td>\n",
       "      <td>65</td>\n",
       "      <td>0.647059</td>\n",
       "      <td>0.232558</td>\n",
       "      <td>0.647059</td>\n",
       "      <td>0.232558</td>\n",
       "      <td>0.647059</td>\n",
       "      <td>0.232558</td>\n",
       "      <td>1.81</td>\n",
       "      <td>65.0</td>\n",
       "    </tr>\n",
       "    <tr>\n",
       "      <th>2</th>\n",
       "      <td>1.93</td>\n",
       "      <td>87</td>\n",
       "      <td>1.000000</td>\n",
       "      <td>0.744186</td>\n",
       "      <td>1.000000</td>\n",
       "      <td>0.744186</td>\n",
       "      <td>1.000000</td>\n",
       "      <td>0.744186</td>\n",
       "      <td>1.93</td>\n",
       "      <td>87.0</td>\n",
       "    </tr>\n",
       "    <tr>\n",
       "      <th>3</th>\n",
       "      <td>1.67</td>\n",
       "      <td>55</td>\n",
       "      <td>0.235294</td>\n",
       "      <td>0.000000</td>\n",
       "      <td>0.235294</td>\n",
       "      <td>0.000000</td>\n",
       "      <td>0.235294</td>\n",
       "      <td>0.000000</td>\n",
       "      <td>1.67</td>\n",
       "      <td>55.0</td>\n",
       "    </tr>\n",
       "    <tr>\n",
       "      <th>4</th>\n",
       "      <td>1.85</td>\n",
       "      <td>60</td>\n",
       "      <td>0.764706</td>\n",
       "      <td>0.116279</td>\n",
       "      <td>0.764706</td>\n",
       "      <td>0.116279</td>\n",
       "      <td>0.764706</td>\n",
       "      <td>0.116279</td>\n",
       "      <td>1.85</td>\n",
       "      <td>60.0</td>\n",
       "    </tr>\n",
       "  </tbody>\n",
       "</table>\n",
       "</div>"
      ],
      "text/plain": [
       "     TB  BB       nTB       nBB      nTB2      nBB2      nTB3      nBB3  inTB  \\\n",
       "0  1.72  76  0.382353  0.488372  0.382353  0.488372  0.382353  0.488372  1.72   \n",
       "1  1.81  65  0.647059  0.232558  0.647059  0.232558  0.647059  0.232558  1.81   \n",
       "2  1.93  87  1.000000  0.744186  1.000000  0.744186  1.000000  0.744186  1.93   \n",
       "3  1.67  55  0.235294  0.000000  0.235294  0.000000  0.235294  0.000000  1.67   \n",
       "4  1.85  60  0.764706  0.116279  0.764706  0.116279  0.764706  0.116279  1.85   \n",
       "\n",
       "   inBB  \n",
       "0  76.0  \n",
       "1  65.0  \n",
       "2  87.0  \n",
       "3  55.0  \n",
       "4  60.0  "
      ]
     },
     "execution_count": 11,
     "metadata": {},
     "output_type": "execute_result"
    }
   ],
   "source": [
    "invNorm = scaler.inverse_transform(df[['nTB3','nBB3']])\n",
    "df['inTB'] = invNorm[:,0]\n",
    "df['inBB'] = invNorm[:,1]\n",
    "df.head()"
   ]
  },
  {
   "cell_type": "markdown",
   "metadata": {},
   "source": [
    "<hr>\n",
    "\n",
    "#### Apakah Normalisasi merubah sebaran data?\n",
    "\n",
    "Tidak"
   ]
  },
  {
   "cell_type": "code",
   "execution_count": 12,
   "metadata": {},
   "outputs": [
    {
     "data": {
      "image/png": "[encoded data removed]",
      "text/plain": [
       "<Figure size 432x288 with 2 Axes>"
      ]
     },
     "metadata": {
      "needs_background": "light"
     },
     "output_type": "display_data"
    }
   ],
   "source": [
    "plt.subplot(121)\n",
    "plt.plot(df['TB'], df['BB'], 'r.')\n",
    "plt.subplot(122)\n",
    "plt.plot(df['nTB'], df['nBB'], 'g.')\n",
    "plt.show()"
   ]
  },
  {
   "cell_type": "markdown",
   "metadata": {},
   "source": [
    "<hr>\n",
    "\n",
    "### Contoh Kasus"
   ]
  },
  {
   "cell_type": "code",
   "execution_count": 24,
   "metadata": {},
   "outputs": [],
   "source": [
    "df = pd.DataFrame({\n",
    "    'mesin': [1000, 2000, 3000, 4000, 5000],\n",
    "    'harga': [10, 25, 35, 55, 80]\n",
    "})"
   ]
  },
  {
   "cell_type": "code",
   "execution_count": 25,
   "metadata": {},
   "outputs": [
    {
     "data": {
      "text/plain": [
       "array([[0.  ],\n",
       "       [0.25],\n",
       "       [0.5 ],\n",
       "       [0.75],\n",
       "       [1.  ]])"
      ]
     },
     "execution_count": 25,
     "metadata": {},
     "output_type": "execute_result"
    }
   ],
   "source": [
    "scaler = MinMaxScaler()\n",
    "scaler.fit_transform(df[['mesin']])"
   ]
  },
  {
   "cell_type": "code",
   "execution_count": 28,
   "metadata": {},
   "outputs": [],
   "source": [
    "from sklearn.linear_model import LinearRegression\n",
    "modelA = LinearRegression()\n",
    "modelB = LinearRegression()"
   ]
  },
  {
   "cell_type": "code",
   "execution_count": 29,
   "metadata": {},
   "outputs": [
    {
     "data": {
      "text/plain": [
       "LinearRegression(copy_X=True, fit_intercept=True, n_jobs=None, normalize=False)"
      ]
     },
     "execution_count": 29,
     "metadata": {},
     "output_type": "execute_result"
    }
   ],
   "source": [
    "modelA.fit(df[['mesin']],df['harga'])\n",
    "modelB.fit(scaler.fit_transform(df[['mesin']]),df['harga'])"
   ]
  },
  {
   "cell_type": "code",
   "execution_count": 33,
   "metadata": {},
   "outputs": [
    {
     "data": {
      "text/html": [
       "<div>\n",
       "<style scoped>\n",
       "    .dataframe tbody tr th:only-of-type {\n",
       "        vertical-align: middle;\n",
       "    }\n",
       "\n",
       "    .dataframe tbody tr th {\n",
       "        vertical-align: top;\n",
       "    }\n",
       "\n",
       "    .dataframe thead th {\n",
       "        text-align: right;\n",
       "    }\n",
       "</style>\n",
       "<table border=\"1\" class=\"dataframe\">\n",
       "  <thead>\n",
       "    <tr style=\"text-align: right;\">\n",
       "      <th></th>\n",
       "      <th>mesin</th>\n",
       "      <th>harga</th>\n",
       "      <th>hargapredA</th>\n",
       "      <th>hargapredB</th>\n",
       "    </tr>\n",
       "  </thead>\n",
       "  <tbody>\n",
       "    <tr>\n",
       "      <th>0</th>\n",
       "      <td>1000</td>\n",
       "      <td>10</td>\n",
       "      <td>7.0</td>\n",
       "      <td>7.0</td>\n",
       "    </tr>\n",
       "    <tr>\n",
       "      <th>1</th>\n",
       "      <td>2000</td>\n",
       "      <td>25</td>\n",
       "      <td>24.0</td>\n",
       "      <td>24.0</td>\n",
       "    </tr>\n",
       "    <tr>\n",
       "      <th>2</th>\n",
       "      <td>3000</td>\n",
       "      <td>35</td>\n",
       "      <td>41.0</td>\n",
       "      <td>41.0</td>\n",
       "    </tr>\n",
       "    <tr>\n",
       "      <th>3</th>\n",
       "      <td>4000</td>\n",
       "      <td>55</td>\n",
       "      <td>58.0</td>\n",
       "      <td>58.0</td>\n",
       "    </tr>\n",
       "    <tr>\n",
       "      <th>4</th>\n",
       "      <td>5000</td>\n",
       "      <td>80</td>\n",
       "      <td>75.0</td>\n",
       "      <td>75.0</td>\n",
       "    </tr>\n",
       "  </tbody>\n",
       "</table>\n",
       "</div>"
      ],
      "text/plain": [
       "   mesin  harga  hargapredA  hargapredB\n",
       "0   1000     10         7.0         7.0\n",
       "1   2000     25        24.0        24.0\n",
       "2   3000     35        41.0        41.0\n",
       "3   4000     55        58.0        58.0\n",
       "4   5000     80        75.0        75.0"
      ]
     },
     "execution_count": 33,
     "metadata": {},
     "output_type": "execute_result"
    }
   ],
   "source": [
    "df['hargapredA'] = modelA.predict(df[['mesin']])\n",
    "df['hargapredB'] = modelB.predict(scaler.fit_transform(df[['mesin']]))\n",
    "df"
   ]
  }
 ],
 "metadata": {
  "kernelspec": {
   "display_name": "Python 3",
   "language": "python",
   "name": "python3"
  },
  "language_info": {
   "codemirror_mode": {
    "name": "ipython",
    "version": 3
   },
   "file_extension": ".py",
   "mimetype": "text/x-python",
   "name": "python",
   "nbconvert_exporter": "python",
   "pygments_lexer": "ipython3",
   "version": "3.8.1"
  }
 },
 "nbformat": 4,
 "nbformat_minor": 4
}
